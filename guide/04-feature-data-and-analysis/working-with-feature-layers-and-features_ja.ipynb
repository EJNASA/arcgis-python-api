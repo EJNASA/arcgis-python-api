{
 "cells": [
  {
   "cell_type": "markdown",
   "metadata": {},
   "source": [
    "# フィーチャ レイヤーの使用\n",
    "\n",
    "フィーチャ レイヤーは、GIS でフィーチャを操作するための主要な概念です。\n",
    "インポート、エクスポート、分析、編集などにフィーチャ レイヤーを使用することができます。\n",
    "また、フィーチャ レイヤーをマップに追加して可視化したりすることもできます。\n",
    "\n",
    "フィーチャ レイヤーは、GIS にデータを公開することで作成されます。フィーチャ レイヤーは、フィーチャ レイヤー コレクションの layers プロパティで取得することができます。"
   ]
  },
  {
   "cell_type": "markdown",
   "metadata": {},
   "source": [
    "## フィーチャ レイヤーへのアクセス\n",
    "\n",
    "フィーチャ レイヤー を検索したり、アイテム ID を使用することでフィーチャ レイヤーにアクセスすることができます。"
   ]
  },
  {
   "cell_type": "markdown",
   "metadata": {},
   "source": [
    "## フィーチャ レイヤーの検索\n",
    "\n",
    "search() メソッドの item_type パラメーターを 'Feature Layer' または 'Feature Layer Collection'と指定することで、GIS 上でフィーチャ レイヤーを検索することができます。\n",
    "\n",
    "以下の例では、実際にフィーチャ レイヤーを検索しています。"
   ]
  },
  {
   "cell_type": "code",
   "execution_count": 127,
   "metadata": {},
   "outputs": [],
   "source": [
    "from arcgis.gis import GIS\n",
    "gis = GIS() "
   ]
  },
  {
   "cell_type": "code",
   "execution_count": 131,
   "metadata": {},
   "outputs": [
    {
     "data": {
      "text/html": [
       "<div class=\"item_container\" style=\"height: auto; overflow: hidden; border: 1px solid #cfcfcf; border-radius: 2px; background: #f6fafa; line-height: 1.21429em; padding: 10px;\">\n",
       "                    <div class=\"item_left\" style=\"width: 210px; float: left;\">\n",
       "                       <a href='https://www.arcgis.com/home/item.html?id=85d0ca4ea1ca4b9abf0c51b9bd34de2e' target='_blank'>\n",
       "                        <img src='https://www.arcgis.com/sharing/rest//content/items/85d0ca4ea1ca4b9abf0c51b9bd34de2e/info/thumbnail/thumbnail1578438561290.jpeg' class=\"itemThumbnail\">\n",
       "                       </a>\n",
       "                    </div>\n",
       "\n",
       "                    <div class=\"item_right\"     style=\"float: none; width: auto; overflow: hidden;\">\n",
       "                        <a href='https://www.arcgis.com/home/item.html?id=85d0ca4ea1ca4b9abf0c51b9bd34de2e' target='_blank'><b>USA Major Cities</b>\n",
       "                        </a>\n",
       "                        <br/>This layer presents the locations of cities within the United States with populations of approximately 10,000 or greater, all state capitals, and the national capital.<img src='https://www.arcgis.com/home/js/jsapi/esri/css/images/item_type_icons/featureshosted16.png' style=\"vertical-align:middle;\">Feature Layer Collection by esri_dm\n",
       "                        <br/>Last Modified: 5月 20, 2020\n",
       "                        <br/>0 comments, 19,931,141 views\n",
       "                    </div>\n",
       "                </div>\n",
       "                "
      ],
      "text/plain": [
       "<Item title:\"USA Major Cities\" type:Feature Layer Collection owner:esri_dm>"
      ]
     },
     "execution_count": 131,
     "metadata": {},
     "output_type": "execute_result"
    }
   ],
   "source": [
    "# タイトルが 'USA major cities' のフィーチャ レイヤーの検索 \n",
    "search_results = gis.content.search('title: USA Major Cities',\n",
    "                                    'Feature Layer')\n",
    "search_results\n",
    "# 検索結果の1番目のアイテムにアクセス\n",
    "major_cities_item = search_results[0]\n",
    "\n",
    "major_cities_item"
   ]
  },
  {
   "cell_type": "markdown",
   "metadata": {},
   "source": [
    "上記の major_cities_item は フィーチャ レイヤー コレクションです。layers プロパティにアクセスすると FeatureLayer オブジェクトのリストが表示されます。"
   ]
  },
  {
   "cell_type": "code",
   "execution_count": 71,
   "metadata": {},
   "outputs": [
    {
     "data": {
      "text/plain": [
       "[<FeatureLayer url:\"https://services.arcgis.com/P3ePLMYs2RVChkJx/arcgis/rest/services/USA_Major_Cities/FeatureServer/0\">]"
      ]
     },
     "execution_count": 71,
     "metadata": {},
     "output_type": "execute_result"
    }
   ],
   "source": [
    "major_cities_layers = major_cities_item.layers\n",
    "major_cities_layers"
   ]
  },
  {
   "cell_type": "markdown",
   "metadata": {},
   "source": [
    "## アイテム ID を使ったフィーチャ レイヤーへのアクセス\n",
    "\n",
    "get() メソッドでアイテム ID を使用してフィーチャ レイヤーにアクセスすることもできます。"
   ]
  },
  {
   "cell_type": "code",
   "execution_count": 72,
   "metadata": {},
   "outputs": [
    {
     "data": {
      "text/html": [
       "<div class=\"item_container\" style=\"height: auto; overflow: hidden; border: 1px solid #cfcfcf; border-radius: 2px; background: #f6fafa; line-height: 1.21429em; padding: 10px;\">\n",
       "                    <div class=\"item_left\" style=\"width: 210px; float: left;\">\n",
       "                       <a href='https://www.arcgis.com/home/item.html?id=91c6a5f6410b4991ab0db1d7c26daacb' target='_blank'>\n",
       "                        <img src='https://www.arcgis.com/sharing/rest//content/items/91c6a5f6410b4991ab0db1d7c26daacb/info/thumbnail/thumbnail1578437765660.jpeg' class=\"itemThumbnail\">\n",
       "                       </a>\n",
       "                    </div>\n",
       "\n",
       "                    <div class=\"item_right\"     style=\"float: none; width: auto; overflow: hidden;\">\n",
       "                        <a href='https://www.arcgis.com/home/item.html?id=91c6a5f6410b4991ab0db1d7c26daacb' target='_blank'><b>USA Freeway System</b>\n",
       "                        </a>\n",
       "                        <br/>This layer presents rural and urban interstate highways.<img src='https://www.arcgis.com/home/js/jsapi/esri/css/images/item_type_icons/featureshosted16.png' style=\"vertical-align:middle;\">Feature Layer Collection by esri_dm\n",
       "                        <br/>Last Modified: 1月 08, 2020\n",
       "                        <br/>2 comments, 2,071,491 views\n",
       "                    </div>\n",
       "                </div>\n",
       "                "
      ],
      "text/plain": [
       "<Item title:\"USA Freeway System\" type:Feature Layer Collection owner:esri_dm>"
      ]
     },
     "execution_count": 72,
     "metadata": {},
     "output_type": "execute_result"
    }
   ],
   "source": [
    "freeways = gis.content.get('91c6a5f6410b4991ab0db1d7c26daacb')\n",
    "freeways"
   ]
  },
  {
   "cell_type": "markdown",
   "metadata": {},
   "source": [
    "同様に layers プロパティにアクセスすると FeatureLayer オブジェクトのリストが表示されます。このアイテムは2つのレイヤーを持っています。"
   ]
  },
  {
   "cell_type": "code",
   "execution_count": 73,
   "metadata": {},
   "outputs": [
    {
     "data": {
      "text/plain": [
       "[<FeatureLayer url:\"https://services.arcgis.com/P3ePLMYs2RVChkJx/arcgis/rest/services/USA_Freeway_System/FeatureServer/1\">,\n",
       " <FeatureLayer url:\"https://services.arcgis.com/P3ePLMYs2RVChkJx/arcgis/rest/services/USA_Freeway_System/FeatureServer/2\">]"
      ]
     },
     "execution_count": 73,
     "metadata": {},
     "output_type": "execute_result"
    }
   ],
   "source": [
    "freeways.layers "
   ]
  },
  {
   "cell_type": "markdown",
   "metadata": {},
   "source": [
    "以下では、レイヤーをループしその名前を表示しています。"
   ]
  },
  {
   "cell_type": "code",
   "execution_count": 74,
   "metadata": {},
   "outputs": [
    {
     "name": "stdout",
     "output_type": "stream",
     "text": [
      "USA Freeway System (over 1:500k)\n",
      "USA Freeway System (below 1:500k)\n"
     ]
    }
   ],
   "source": [
    "for lyr in freeways.layers:\n",
    "    print(lyr.properties.name)"
   ]
  },
  {
   "cell_type": "markdown",
   "metadata": {},
   "source": [
    "## フィーチャ サービスからフィーチャ レイヤーとテーブルにアクセス\n",
    "\n",
    "フィーチャ サービスは、フィーチャ レイヤーとテーブルを提供します。\n",
    "\n",
    "以下に示すように、arcgis.features.FeatureLayerCollection でフィーチャ サービスの URL を使用してフィーチャ レイヤー コレクション作成することができます。"
   ]
  },
  {
   "cell_type": "code",
   "execution_count": 75,
   "metadata": {},
   "outputs": [],
   "source": [
    "from arcgis.features import FeatureLayerCollection"
   ]
  },
  {
   "cell_type": "code",
   "execution_count": 76,
   "metadata": {},
   "outputs": [
    {
     "data": {
      "text/plain": [
       "<FeatureLayerCollection url:\"http://sampleserver3.arcgisonline.com/ArcGIS/rest/services/SanFrancisco/311Incidents/FeatureServer\">"
      ]
     },
     "execution_count": 76,
     "metadata": {},
     "output_type": "execute_result"
    }
   ],
   "source": [
    "fs_url = 'http://sampleserver3.arcgisonline.com/ArcGIS/rest/services/SanFrancisco/311Incidents/FeatureServer'\n",
    "sanfran = FeatureLayerCollection(fs_url)\n",
    "sanfran"
   ]
  },
  {
   "cell_type": "markdown",
   "metadata": {},
   "source": [
    "フィーチャ レイヤー コレクション内のレイヤーとテーブルは、それぞれlayerプロパティとtableプロパティを使用してアクセスすることができます。"
   ]
  },
  {
   "cell_type": "code",
   "execution_count": 77,
   "metadata": {},
   "outputs": [
    {
     "data": {
      "text/plain": [
       "[<FeatureLayer url:\"http://sampleserver3.arcgisonline.com/ArcGIS/rest/services/SanFrancisco/311Incidents/FeatureServer/0\">]"
      ]
     },
     "execution_count": 77,
     "metadata": {},
     "output_type": "execute_result"
    }
   ],
   "source": [
    "sanfran.layers"
   ]
  },
  {
   "cell_type": "code",
   "execution_count": 11,
   "metadata": {},
   "outputs": [
    {
     "data": {
      "text/plain": [
       "[<Table url:\"http://sampleserver3.arcgisonline.com/ArcGIS/rest/services/SanFrancisco/311Incidents/FeatureServer/1\">]"
      ]
     },
     "execution_count": 11,
     "metadata": {},
     "output_type": "execute_result"
    }
   ],
   "source": [
    "sanfran.tables"
   ]
  },
  {
   "cell_type": "markdown",
   "metadata": {},
   "source": [
    "## フィーチャ レイヤーの URL からフィーチャ レイヤーにアクセス\n",
    "\n",
    "フィーチャ レイヤーは、REST エンドポイントの URL を使ってアクセスすることもできます。"
   ]
  },
  {
   "cell_type": "code",
   "execution_count": 78,
   "metadata": {},
   "outputs": [],
   "source": [
    "from arcgis.features import FeatureLayer"
   ]
  },
  {
   "cell_type": "code",
   "execution_count": 79,
   "metadata": {},
   "outputs": [
    {
     "data": {
      "text/plain": [
       "<FeatureLayer url:\"http://sampleserver3.arcgisonline.com/ArcGIS/rest/services/SanFrancisco/311Incidents/FeatureServer/0\">"
      ]
     },
     "execution_count": 79,
     "metadata": {},
     "output_type": "execute_result"
    }
   ],
   "source": [
    "lyr_url = 'http://sampleserver3.arcgisonline.com/ArcGIS/rest/services/SanFrancisco/311Incidents/FeatureServer/0'\n",
    "\n",
    "layer = FeatureLayer(lyr_url)\n",
    "layer"
   ]
  },
  {
   "cell_type": "markdown",
   "metadata": {},
   "source": [
    "<a id=\"featurelayer-properties\"></a>\n",
    "FeatureLayerオブジェクトのプロパティについて詳しく見ていきましょう。先ほど作成した major_cities_layers を使用します。"
   ]
  },
  {
   "cell_type": "code",
   "execution_count": 82,
   "metadata": {},
   "outputs": [
    {
     "data": {
      "text/plain": [
       "<FeatureLayer url:\"https://services.arcgis.com/P3ePLMYs2RVChkJx/arcgis/rest/services/USA_Major_Cities/FeatureServer/0\">"
      ]
     },
     "execution_count": 82,
     "metadata": {},
     "output_type": "execute_result"
    }
   ],
   "source": [
    "feature_layer = major_cities_layers[0]\n",
    "feature_layer"
   ]
  },
  {
   "cell_type": "markdown",
   "metadata": {},
   "source": [
    "FeatureLayer の properties フィールドは、プロパティを辞書型で表現します。"
   ]
  },
  {
   "cell_type": "code",
   "execution_count": 81,
   "metadata": {},
   "outputs": [
    {
     "data": {
      "text/plain": [
       "{\n",
       "  \"xmin\": -17608123.3895845,\n",
       "  \"ymin\": 2237818.89912024,\n",
       "  \"xmax\": -7656889.54512499,\n",
       "  \"ymax\": 9568526.08684907,\n",
       "  \"spatialReference\": {\n",
       "    \"wkid\": 102100,\n",
       "    \"latestWkid\": 3857\n",
       "  }\n",
       "}"
      ]
     },
     "execution_count": 81,
     "metadata": {},
     "output_type": "execute_result"
    }
   ],
   "source": [
    "feature_layer.properties.extent"
   ]
  },
  {
   "cell_type": "markdown",
   "metadata": {},
   "source": [
    "以下のように個々のプロパティにアクセスすることもできます。"
   ]
  },
  {
   "cell_type": "code",
   "execution_count": 83,
   "metadata": {},
   "outputs": [
    {
     "data": {
      "text/plain": [
       "'Query'"
      ]
     },
     "execution_count": 83,
     "metadata": {},
     "output_type": "execute_result"
    }
   ],
   "source": [
    "feature_layer.properties.capabilities"
   ]
  },
  {
   "cell_type": "markdown",
   "metadata": {},
   "source": [
    "例えばレンダリングの情報は drawingInfo プロパティからアクセスできます。"
   ]
  },
  {
   "cell_type": "code",
   "execution_count": 84,
   "metadata": {},
   "outputs": [
    {
     "data": {
      "text/plain": [
       "'classBreaks'"
      ]
     },
     "execution_count": 84,
     "metadata": {},
     "output_type": "execute_result"
    }
   ],
   "source": [
    "feature_layer.properties.drawingInfo.renderer.type"
   ]
  },
  {
   "cell_type": "markdown",
   "metadata": {},
   "source": [
    "<a id=\"querying-layers\"></a>\n",
    "## フィーチャ レイヤーのクエリ\n",
    "クエリは、FeatureLayerオブジェクトに対して実行できる操作です。クエリを書くためには、レイヤーに存在するフィールドの名前を知る必要があります。以下では fields プロパティを呼び出しています。"
   ]
  },
  {
   "cell_type": "code",
   "execution_count": 85,
   "metadata": {},
   "outputs": [
    {
     "name": "stdout",
     "output_type": "stream",
     "text": [
      "FID\n",
      "NAME\n",
      "CLASS\n",
      "ST\n",
      "STFIPS\n",
      "PLACEFIPS\n",
      "CAPITAL\n",
      "POP_CLASS\n",
      "POPULATION\n",
      "POP2010\n",
      "WHITE\n",
      "BLACK\n",
      "AMERI_ES\n",
      "ASIAN\n",
      "HAWN_PI\n",
      "HISPANIC\n",
      "OTHER\n",
      "MULT_RACE\n",
      "MALES\n",
      "FEMALES\n",
      "AGE_UNDER5\n",
      "AGE_5_9\n",
      "AGE_10_14\n",
      "AGE_15_19\n",
      "AGE_20_24\n",
      "AGE_25_34\n",
      "AGE_35_44\n",
      "AGE_45_54\n",
      "AGE_55_64\n",
      "AGE_65_74\n",
      "AGE_75_84\n",
      "AGE_85_UP\n",
      "MED_AGE\n",
      "MED_AGE_M\n",
      "MED_AGE_F\n",
      "HOUSEHOLDS\n",
      "AVE_HH_SZ\n",
      "HSEHLD_1_M\n",
      "HSEHLD_1_F\n",
      "MARHH_CHD\n",
      "MARHH_NO_C\n",
      "MHH_CHILD\n",
      "FHH_CHILD\n",
      "FAMILIES\n",
      "AVE_FAM_SZ\n",
      "HSE_UNITS\n",
      "VACANT\n",
      "OWNER_OCC\n",
      "RENTER_OCC\n"
     ]
    }
   ],
   "source": [
    "for f in feature_layer.properties.fields:\n",
    "    print(f['name'])"
   ]
  },
  {
   "cell_type": "markdown",
   "metadata": {},
   "source": [
    "query() メソッドには多くのパラメーターがあり、結果の絞り込みを行うことができます。\n",
    "例えば、2010年の人口が100万人を超える都市をすべて選択し、人口に関連するフィールドのみを取得してみましょう。"
   ]
  },
  {
   "cell_type": "code",
   "execution_count": 86,
   "metadata": {},
   "outputs": [
    {
     "data": {
      "text/plain": [
       "9"
      ]
     },
     "execution_count": 86,
     "metadata": {},
     "output_type": "execute_result"
    }
   ],
   "source": [
    "query_result1 = feature_layer.query(where='POP2010>1000000', \n",
    "                                    out_fields='WHITE,BLACK,MULT_RACE,HISPANIC')\n",
    "len(query_result1.features)"
   ]
  },
  {
   "cell_type": "code",
   "execution_count": 87,
   "metadata": {},
   "outputs": [
    {
     "data": {
      "text/plain": [
       "[{'name': 'FID',\n",
       "  'type': 'esriFieldTypeOID',\n",
       "  'alias': 'FID',\n",
       "  'sqlType': 'sqlTypeInteger',\n",
       "  'domain': None,\n",
       "  'defaultValue': None},\n",
       " {'name': 'WHITE',\n",
       "  'type': 'esriFieldTypeInteger',\n",
       "  'alias': 'WHITE',\n",
       "  'sqlType': 'sqlTypeInteger',\n",
       "  'domain': None,\n",
       "  'defaultValue': None},\n",
       " {'name': 'BLACK',\n",
       "  'type': 'esriFieldTypeInteger',\n",
       "  'alias': 'BLACK',\n",
       "  'sqlType': 'sqlTypeInteger',\n",
       "  'domain': None,\n",
       "  'defaultValue': None},\n",
       " {'name': 'MULT_RACE',\n",
       "  'type': 'esriFieldTypeInteger',\n",
       "  'alias': 'MULT_RACE',\n",
       "  'sqlType': 'sqlTypeInteger',\n",
       "  'domain': None,\n",
       "  'defaultValue': None},\n",
       " {'name': 'HISPANIC',\n",
       "  'type': 'esriFieldTypeInteger',\n",
       "  'alias': 'HISPANIC',\n",
       "  'sqlType': 'sqlTypeInteger',\n",
       "  'domain': None,\n",
       "  'defaultValue': None}]"
      ]
     },
     "execution_count": 87,
     "metadata": {},
     "output_type": "execute_result"
    }
   ],
   "source": [
    "query_result1.fields"
   ]
  },
  {
   "cell_type": "markdown",
   "metadata": {},
   "source": [
    "return_count_only パラメーターを True に設定することで該当するフィーチャの数のみを表示することができます。"
   ]
  },
  {
   "cell_type": "code",
   "execution_count": 88,
   "metadata": {},
   "outputs": [
    {
     "data": {
      "text/plain": [
       "9"
      ]
     },
     "execution_count": 88,
     "metadata": {},
     "output_type": "execute_result"
    }
   ],
   "source": [
    "feature_layer.query(where='POP2010>1000000', return_count_only=True)"
   ]
  },
  {
   "cell_type": "markdown",
   "metadata": {},
   "source": [
    "## 異なる空間参照を使用したフィーチャのクエリ"
   ]
  },
  {
   "cell_type": "code",
   "execution_count": 89,
   "metadata": {},
   "outputs": [
    {
     "data": {
      "text/plain": [
       "{'wkid': 102100, 'latestWkid': 3857}"
      ]
     },
     "execution_count": 89,
     "metadata": {},
     "output_type": "execute_result"
    }
   ],
   "source": [
    "query_result1.spatial_reference"
   ]
  },
  {
   "cell_type": "markdown",
   "metadata": {},
   "source": [
    "デフォルトでは、クエリの結果はもとのレイヤーと同じ空間参照になります。ただし、`out_sr` パラメータを使用して、結果を任意の空間参照に再投影することができます。\n",
    "\n",
    "上記の例では、'Web Mercator' の wkid:3857 のデータを取得しました。座標がどのように表示されるかを見てみましょう。"
   ]
  },
  {
   "cell_type": "code",
   "execution_count": 90,
   "metadata": {},
   "outputs": [
    {
     "data": {
      "text/plain": [
       "{'x': -9756835.705284344, 'y': 5124572.044517264}"
      ]
     },
     "execution_count": 90,
     "metadata": {},
     "output_type": "execute_result"
    }
   ],
   "source": [
    "query_result1.features[0].geometry"
   ]
  },
  {
   "cell_type": "markdown",
   "metadata": {},
   "source": [
    "座標は投影座標系で表示されています。このデータを緯度経度で表示したい場合は、 out_sr を wkid:4326 に変更することで表示することができます。"
   ]
  },
  {
   "cell_type": "markdown",
   "metadata": {},
   "source": [
    "<a id = \"featureset-properties\"></a>\n",
    "## フィーチャ セット プロパティ\n",
    "FeatureSet オブジェクトは query() によって返されるオブジェクトです。FeatureSet オブジェクトには、アクセス対象のフィーチャに関する有用な情報を識別するのに役立つ多くの便利なプロパティが含まれています。"
   ]
  },
  {
   "cell_type": "markdown",
   "metadata": {},
   "source": [
    "その中で重要なプロパティの一つが先ほども使用した spatial_reference です。以下では、先ほどのクエリと同じ query_result1 を用いています。"
   ]
  },
  {
   "cell_type": "code",
   "execution_count": 91,
   "metadata": {},
   "outputs": [
    {
     "data": {
      "text/plain": [
       "{'wkid': 102100, 'latestWkid': 3857}"
      ]
     },
     "execution_count": 91,
     "metadata": {},
     "output_type": "execute_result"
    }
   ],
   "source": [
    "query_result1.spatial_reference"
   ]
  },
  {
   "cell_type": "markdown",
   "metadata": {},
   "source": [
    "FeatureSet オブジェクトは，pandas のデータフレームオブジェクトとしてフィーチャにアクセスすることができです．sdf プロパティは、データフレームオブジェクトを返します。"
   ]
  },
  {
   "cell_type": "code",
   "execution_count": 92,
   "metadata": {},
   "outputs": [
    {
     "data": {
      "text/html": [
       "<div>\n",
       "<style scoped>\n",
       "    .dataframe tbody tr th:only-of-type {\n",
       "        vertical-align: middle;\n",
       "    }\n",
       "\n",
       "    .dataframe tbody tr th {\n",
       "        vertical-align: top;\n",
       "    }\n",
       "\n",
       "    .dataframe thead th {\n",
       "        text-align: right;\n",
       "    }\n",
       "</style>\n",
       "<table border=\"1\" class=\"dataframe\">\n",
       "  <thead>\n",
       "    <tr style=\"text-align: right;\">\n",
       "      <th></th>\n",
       "      <th>FID</th>\n",
       "      <th>NAME</th>\n",
       "      <th>CLASS</th>\n",
       "      <th>ST</th>\n",
       "      <th>STFIPS</th>\n",
       "      <th>PLACEFIPS</th>\n",
       "      <th>CAPITAL</th>\n",
       "      <th>POP_CLASS</th>\n",
       "      <th>POPULATION</th>\n",
       "      <th>POP2010</th>\n",
       "      <th>...</th>\n",
       "      <th>MARHH_NO_C</th>\n",
       "      <th>MHH_CHILD</th>\n",
       "      <th>FHH_CHILD</th>\n",
       "      <th>FAMILIES</th>\n",
       "      <th>AVE_FAM_SZ</th>\n",
       "      <th>HSE_UNITS</th>\n",
       "      <th>VACANT</th>\n",
       "      <th>OWNER_OCC</th>\n",
       "      <th>RENTER_OCC</th>\n",
       "      <th>SHAPE</th>\n",
       "    </tr>\n",
       "  </thead>\n",
       "  <tbody>\n",
       "    <tr>\n",
       "      <th>0</th>\n",
       "      <td>63</td>\n",
       "      <td>Chicago</td>\n",
       "      <td>city</td>\n",
       "      <td>IL</td>\n",
       "      <td>17</td>\n",
       "      <td>1714000</td>\n",
       "      <td></td>\n",
       "      <td>10</td>\n",
       "      <td>2781116</td>\n",
       "      <td>2695598</td>\n",
       "      <td>...</td>\n",
       "      <td>168435</td>\n",
       "      <td>28332</td>\n",
       "      <td>116555</td>\n",
       "      <td>576793</td>\n",
       "      <td>3.40</td>\n",
       "      <td>1194337</td>\n",
       "      <td>148777</td>\n",
       "      <td>469562</td>\n",
       "      <td>575998</td>\n",
       "      <td>{\"x\": -9756835.705284344, \"y\": 5124572.0445172...</td>\n",
       "    </tr>\n",
       "    <tr>\n",
       "      <th>1</th>\n",
       "      <td>415</td>\n",
       "      <td>Los Angeles</td>\n",
       "      <td>city</td>\n",
       "      <td>CA</td>\n",
       "      <td>06</td>\n",
       "      <td>0644000</td>\n",
       "      <td></td>\n",
       "      <td>10</td>\n",
       "      <td>3986442</td>\n",
       "      <td>3792621</td>\n",
       "      <td>...</td>\n",
       "      <td>245056</td>\n",
       "      <td>46908</td>\n",
       "      <td>118939</td>\n",
       "      <td>807326</td>\n",
       "      <td>3.53</td>\n",
       "      <td>1413995</td>\n",
       "      <td>95827</td>\n",
       "      <td>503863</td>\n",
       "      <td>814305</td>\n",
       "      <td>{\"x\": -13165820.99345245, \"y\": 4035892.5853389...</td>\n",
       "    </tr>\n",
       "    <tr>\n",
       "      <th>2</th>\n",
       "      <td>550</td>\n",
       "      <td>San Diego</td>\n",
       "      <td>city</td>\n",
       "      <td>CA</td>\n",
       "      <td>06</td>\n",
       "      <td>0666000</td>\n",
       "      <td></td>\n",
       "      <td>10</td>\n",
       "      <td>1397856</td>\n",
       "      <td>1307402</td>\n",
       "      <td>...</td>\n",
       "      <td>105134</td>\n",
       "      <td>12062</td>\n",
       "      <td>33865</td>\n",
       "      <td>285221</td>\n",
       "      <td>3.28</td>\n",
       "      <td>516033</td>\n",
       "      <td>32941</td>\n",
       "      <td>233158</td>\n",
       "      <td>249934</td>\n",
       "      <td>{\"x\": -13040584.546974456, \"y\": 3858240.841215...</td>\n",
       "    </tr>\n",
       "    <tr>\n",
       "      <th>3</th>\n",
       "      <td>910</td>\n",
       "      <td>Phoenix</td>\n",
       "      <td>city</td>\n",
       "      <td>AZ</td>\n",
       "      <td>04</td>\n",
       "      <td>0455000</td>\n",
       "      <td>State</td>\n",
       "      <td>10</td>\n",
       "      <td>1601381</td>\n",
       "      <td>1445632</td>\n",
       "      <td>...</td>\n",
       "      <td>102047</td>\n",
       "      <td>23353</td>\n",
       "      <td>54452</td>\n",
       "      <td>330762</td>\n",
       "      <td>3.42</td>\n",
       "      <td>590149</td>\n",
       "      <td>75343</td>\n",
       "      <td>296742</td>\n",
       "      <td>218064</td>\n",
       "      <td>{\"x\": -12476005.927345268, \"y\": 3954668.990210...</td>\n",
       "    </tr>\n",
       "    <tr>\n",
       "      <th>4</th>\n",
       "      <td>2174</td>\n",
       "      <td>New York</td>\n",
       "      <td>city</td>\n",
       "      <td>NY</td>\n",
       "      <td>36</td>\n",
       "      <td>3651000</td>\n",
       "      <td></td>\n",
       "      <td>10</td>\n",
       "      <td>8691599</td>\n",
       "      <td>8175133</td>\n",
       "      <td>...</td>\n",
       "      <td>566484</td>\n",
       "      <td>77061</td>\n",
       "      <td>344755</td>\n",
       "      <td>1850221</td>\n",
       "      <td>3.32</td>\n",
       "      <td>3371062</td>\n",
       "      <td>261278</td>\n",
       "      <td>962892</td>\n",
       "      <td>2146892</td>\n",
       "      <td>{\"x\": -8238770.183515309, \"y\": 4969744.1655956...</td>\n",
       "    </tr>\n",
       "    <tr>\n",
       "      <th>5</th>\n",
       "      <td>2987</td>\n",
       "      <td>Philadelphia</td>\n",
       "      <td>city</td>\n",
       "      <td>PA</td>\n",
       "      <td>42</td>\n",
       "      <td>4260000</td>\n",
       "      <td></td>\n",
       "      <td>10</td>\n",
       "      <td>1587761</td>\n",
       "      <td>1526006</td>\n",
       "      <td>...</td>\n",
       "      <td>95310</td>\n",
       "      <td>18486</td>\n",
       "      <td>86946</td>\n",
       "      <td>340354</td>\n",
       "      <td>3.20</td>\n",
       "      <td>670171</td>\n",
       "      <td>70435</td>\n",
       "      <td>324536</td>\n",
       "      <td>275200</td>\n",
       "      <td>{\"x\": -8366882.6254769275, \"y\": 4858876.345453...</td>\n",
       "    </tr>\n",
       "    <tr>\n",
       "      <th>6</th>\n",
       "      <td>3592</td>\n",
       "      <td>Dallas</td>\n",
       "      <td>city</td>\n",
       "      <td>TX</td>\n",
       "      <td>48</td>\n",
       "      <td>4819000</td>\n",
       "      <td></td>\n",
       "      <td>10</td>\n",
       "      <td>1323651</td>\n",
       "      <td>1197816</td>\n",
       "      <td>...</td>\n",
       "      <td>76902</td>\n",
       "      <td>14512</td>\n",
       "      <td>50242</td>\n",
       "      <td>265538</td>\n",
       "      <td>3.42</td>\n",
       "      <td>516639</td>\n",
       "      <td>58582</td>\n",
       "      <td>201880</td>\n",
       "      <td>256177</td>\n",
       "      <td>{\"x\": -10775254.59703981, \"y\": 3865959.6760583...</td>\n",
       "    </tr>\n",
       "    <tr>\n",
       "      <th>7</th>\n",
       "      <td>3641</td>\n",
       "      <td>Houston</td>\n",
       "      <td>city</td>\n",
       "      <td>TX</td>\n",
       "      <td>48</td>\n",
       "      <td>4835000</td>\n",
       "      <td></td>\n",
       "      <td>10</td>\n",
       "      <td>2333285</td>\n",
       "      <td>2099451</td>\n",
       "      <td>...</td>\n",
       "      <td>145478</td>\n",
       "      <td>26039</td>\n",
       "      <td>85014</td>\n",
       "      <td>481570</td>\n",
       "      <td>3.38</td>\n",
       "      <td>892646</td>\n",
       "      <td>110003</td>\n",
       "      <td>355236</td>\n",
       "      <td>427407</td>\n",
       "      <td>{\"x\": -10616262.315905476, \"y\": 3472578.411494...</td>\n",
       "    </tr>\n",
       "    <tr>\n",
       "      <th>8</th>\n",
       "      <td>3726</td>\n",
       "      <td>San Antonio</td>\n",
       "      <td>city</td>\n",
       "      <td>TX</td>\n",
       "      <td>48</td>\n",
       "      <td>4865000</td>\n",
       "      <td></td>\n",
       "      <td>10</td>\n",
       "      <td>1442472</td>\n",
       "      <td>1327407</td>\n",
       "      <td>...</td>\n",
       "      <td>100314</td>\n",
       "      <td>16067</td>\n",
       "      <td>56901</td>\n",
       "      <td>318043</td>\n",
       "      <td>3.34</td>\n",
       "      <td>524246</td>\n",
       "      <td>44604</td>\n",
       "      <td>271070</td>\n",
       "      <td>208572</td>\n",
       "      <td>{\"x\": -10964134.924024679, \"y\": 3429663.909911...</td>\n",
       "    </tr>\n",
       "  </tbody>\n",
       "</table>\n",
       "<p>9 rows × 50 columns</p>\n",
       "</div>"
      ],
      "text/plain": [
       "    FID          NAME CLASS  ST STFIPS PLACEFIPS CAPITAL  POP_CLASS  \\\n",
       "0    63       Chicago  city  IL     17   1714000                 10   \n",
       "1   415   Los Angeles  city  CA     06   0644000                 10   \n",
       "2   550     San Diego  city  CA     06   0666000                 10   \n",
       "3   910       Phoenix  city  AZ     04   0455000   State         10   \n",
       "4  2174      New York  city  NY     36   3651000                 10   \n",
       "5  2987  Philadelphia  city  PA     42   4260000                 10   \n",
       "6  3592        Dallas  city  TX     48   4819000                 10   \n",
       "7  3641       Houston  city  TX     48   4835000                 10   \n",
       "8  3726   San Antonio  city  TX     48   4865000                 10   \n",
       "\n",
       "   POPULATION  POP2010  ...  MARHH_NO_C  MHH_CHILD  FHH_CHILD  FAMILIES  \\\n",
       "0     2781116  2695598  ...      168435      28332     116555    576793   \n",
       "1     3986442  3792621  ...      245056      46908     118939    807326   \n",
       "2     1397856  1307402  ...      105134      12062      33865    285221   \n",
       "3     1601381  1445632  ...      102047      23353      54452    330762   \n",
       "4     8691599  8175133  ...      566484      77061     344755   1850221   \n",
       "5     1587761  1526006  ...       95310      18486      86946    340354   \n",
       "6     1323651  1197816  ...       76902      14512      50242    265538   \n",
       "7     2333285  2099451  ...      145478      26039      85014    481570   \n",
       "8     1442472  1327407  ...      100314      16067      56901    318043   \n",
       "\n",
       "   AVE_FAM_SZ  HSE_UNITS  VACANT  OWNER_OCC  RENTER_OCC  \\\n",
       "0        3.40    1194337  148777     469562      575998   \n",
       "1        3.53    1413995   95827     503863      814305   \n",
       "2        3.28     516033   32941     233158      249934   \n",
       "3        3.42     590149   75343     296742      218064   \n",
       "4        3.32    3371062  261278     962892     2146892   \n",
       "5        3.20     670171   70435     324536      275200   \n",
       "6        3.42     516639   58582     201880      256177   \n",
       "7        3.38     892646  110003     355236      427407   \n",
       "8        3.34     524246   44604     271070      208572   \n",
       "\n",
       "                                               SHAPE  \n",
       "0  {\"x\": -9756835.705284344, \"y\": 5124572.0445172...  \n",
       "1  {\"x\": -13165820.99345245, \"y\": 4035892.5853389...  \n",
       "2  {\"x\": -13040584.546974456, \"y\": 3858240.841215...  \n",
       "3  {\"x\": -12476005.927345268, \"y\": 3954668.990210...  \n",
       "4  {\"x\": -8238770.183515309, \"y\": 4969744.1655956...  \n",
       "5  {\"x\": -8366882.6254769275, \"y\": 4858876.345453...  \n",
       "6  {\"x\": -10775254.59703981, \"y\": 3865959.6760583...  \n",
       "7  {\"x\": -10616262.315905476, \"y\": 3472578.411494...  \n",
       "8  {\"x\": -10964134.924024679, \"y\": 3429663.909911...  \n",
       "\n",
       "[9 rows x 50 columns]"
      ]
     },
     "execution_count": 92,
     "metadata": {},
     "output_type": "execute_result"
    }
   ],
   "source": [
    "query2 = feature_layer.query(where=\"POP2010 > 1000000\")\n",
    "query2.sdf"
   ]
  },
  {
   "cell_type": "markdown",
   "metadata": {},
   "source": [
    "データフレームとしてフィーチャにアクセスすることで、統計的にデータを分析しやすくなります。"
   ]
  },
  {
   "cell_type": "markdown",
   "metadata": {},
   "source": [
    "## クエリの結果からフィーチャにアクセス"
   ]
  },
  {
   "cell_type": "code",
   "execution_count": 93,
   "metadata": {},
   "outputs": [
    {
     "data": {
      "text/plain": [
       "{'x': -87.64714638699998, 'y': 41.75648806100002}"
      ]
     },
     "execution_count": 93,
     "metadata": {},
     "output_type": "execute_result"
    }
   ],
   "source": [
    "query_geographic = feature_layer.query(where='POP2010 > 1000000', out_sr='4326')\n",
    "query_geographic.features[0].geometry"
   ]
  },
  {
   "cell_type": "markdown",
   "metadata": {},
   "source": [
    "最初の FeatureLayer オブジェクトに対して query() メソッドを実行して FeatureSet を取得します。このレイヤーの最初の10個のフィーチャをクエリしてアクセスしてみましょう。"
   ]
  },
  {
   "cell_type": "code",
   "execution_count": 94,
   "metadata": {},
   "outputs": [
    {
     "data": {
      "text/plain": [
       "arcgis.features.feature.FeatureSet"
      ]
     },
     "execution_count": 94,
     "metadata": {},
     "output_type": "execute_result"
    }
   ],
   "source": [
    "major_cities_l1 = major_cities_layers[0]\n",
    "major_cities_l1_fset = major_cities_l1.query(where= 'FID < 11')\n",
    "type(major_cities_l1_fset)"
   ]
  },
  {
   "cell_type": "markdown",
   "metadata": {},
   "source": [
    "上記の FeatureSet オブジェクトの features プロパティにアクセスすると、個々のポイントのフィーチャが返されます。"
   ]
  },
  {
   "cell_type": "code",
   "execution_count": 95,
   "metadata": {},
   "outputs": [
    {
     "data": {
      "text/plain": [
       "10"
      ]
     },
     "execution_count": 95,
     "metadata": {},
     "output_type": "execute_result"
    }
   ],
   "source": [
    "major_cities_l1_features = major_cities_l1_fset.features\n",
    "len(major_cities_l1_features)"
   ]
  },
  {
   "cell_type": "markdown",
   "metadata": {},
   "source": [
    "<a id=\"feature-properties\"></a>\n",
    "## フィーチャのジオメトリと属性へのアクセス\n",
    "フィーチャは空間情報を細かく表現したものであり、ジオメトリや属性を持っています。"
   ]
  },
  {
   "cell_type": "markdown",
   "metadata": {},
   "source": [
    "1つ目のフィーチャのジオメトリと属性を表示してみましょう。"
   ]
  },
  {
   "cell_type": "code",
   "execution_count": 96,
   "metadata": {},
   "outputs": [
    {
     "data": {
      "text/plain": [
       "{'x': -12462673.723706165, 'y': 5384674.994080178}"
      ]
     },
     "execution_count": 96,
     "metadata": {},
     "output_type": "execute_result"
    }
   ],
   "source": [
    "major_cities_l1_features[0].geometry"
   ]
  },
  {
   "cell_type": "code",
   "execution_count": 97,
   "metadata": {},
   "outputs": [
    {
     "data": {
      "text/plain": [
       "{'FID': 1,\n",
       " 'NAME': 'Ammon',\n",
       " 'CLASS': 'city',\n",
       " 'ST': 'ID',\n",
       " 'STFIPS': '16',\n",
       " 'PLACEFIPS': '1601990',\n",
       " 'CAPITAL': ' ',\n",
       " 'POP_CLASS': 6,\n",
       " 'POPULATION': 15181,\n",
       " 'POP2010': 13816,\n",
       " 'WHITE': 13002,\n",
       " 'BLACK': 73,\n",
       " 'AMERI_ES': 67,\n",
       " 'ASIAN': 113,\n",
       " 'HAWN_PI': 9,\n",
       " 'HISPANIC': 884,\n",
       " 'OTHER': 307,\n",
       " 'MULT_RACE': 245,\n",
       " 'MALES': 6750,\n",
       " 'FEMALES': 7066,\n",
       " 'AGE_UNDER5': 1468,\n",
       " 'AGE_5_9': 1503,\n",
       " 'AGE_10_14': 1313,\n",
       " 'AGE_15_19': 1058,\n",
       " 'AGE_20_24': 734,\n",
       " 'AGE_25_34': 2031,\n",
       " 'AGE_35_44': 1767,\n",
       " 'AGE_45_54': 1446,\n",
       " 'AGE_55_64': 1136,\n",
       " 'AGE_65_74': 665,\n",
       " 'AGE_75_84': 486,\n",
       " 'AGE_85_UP': 209,\n",
       " 'MED_AGE': 29.6,\n",
       " 'MED_AGE_M': 28,\n",
       " 'MED_AGE_F': 30.8,\n",
       " 'HOUSEHOLDS': 4476,\n",
       " 'AVE_HH_SZ': 3.05,\n",
       " 'HSEHLD_1_M': 457,\n",
       " 'HSEHLD_1_F': 648,\n",
       " 'MARHH_CHD': 1618,\n",
       " 'MARHH_NO_C': 1131,\n",
       " 'MHH_CHILD': 106,\n",
       " 'FHH_CHILD': 335,\n",
       " 'FAMILIES': 3352,\n",
       " 'AVE_FAM_SZ': 3.61,\n",
       " 'HSE_UNITS': 4747,\n",
       " 'VACANT': 271,\n",
       " 'OWNER_OCC': 3205,\n",
       " 'RENTER_OCC': 1271}"
      ]
     },
     "execution_count": 97,
     "metadata": {},
     "output_type": "execute_result"
    }
   ],
   "source": [
    "major_cities_l1_features[0].attributes"
   ]
  },
  {
   "cell_type": "markdown",
   "metadata": {},
   "source": [
    "<a id=\"features-from-a-feature-collection\"></a>\n",
    "# フィーチャ コレクションの使用\n",
    "\n",
    "フィーチャ レイヤーと同様に、[フィーチャ コレクション](http://doc.arcgis.com/en/arcgis-online/reference/feature-collections.htm)もフィーチャを保存するために使用することができます。フィーチャ コレクションでは、フィーチャ データを提供するためのサービスは作成されず、アイテムと一緒に json データとして保存されます。フィーチャ コレクションは、レイヤーとしてマップに追加したり、フィーチャ分析ツールへの入力として渡したり、フィーチャ データのクエリを行ったりすることができます。\n",
    "\n",
    "フィーチャ コレクションはアイテムとして共有されます。フィーチャ コレクションのアイテムは、item_type に「Feature Collection」を指定して検索することができます。\n",
    "\n",
    "例として、Learn_ArcGIS が公開しているフィーチャコレクションを検索してみましょう。"
   ]
  },
  {
   "cell_type": "code",
   "execution_count": 114,
   "metadata": {},
   "outputs": [
    {
     "data": {
      "text/html": [
       "<div class=\"item_container\" style=\"height: auto; overflow: hidden; border: 1px solid #cfcfcf; border-radius: 2px; background: #f6fafa; line-height: 1.21429em; padding: 10px;\">\n",
       "                    <div class=\"item_left\" style=\"width: 210px; float: left;\">\n",
       "                       <a href='https://www.arcgis.com/home/item.html?id=541ed37fd97d4ba9a81e3c1fc20691e7' target='_blank'>\n",
       "                        <img src='https://www.arcgis.com/sharing/rest//content/items/541ed37fd97d4ba9a81e3c1fc20691e7/info/thumbnail/ago_downloaded.png' class=\"itemThumbnail\">\n",
       "                       </a>\n",
       "                    </div>\n",
       "\n",
       "                    <div class=\"item_right\"     style=\"float: none; width: auto; overflow: hidden;\">\n",
       "                        <a href='https://www.arcgis.com/home/item.html?id=541ed37fd97d4ba9a81e3c1fc20691e7' target='_blank'><b>Emergency Shelters</b>\n",
       "                        </a>\n",
       "                        <br/>Emergency shelter locations on the island of Hawaii<img src='https://www.arcgis.com/home/js/jsapi/esri/css/images/item_type_icons/features16.png' style=\"vertical-align:middle;\">Feature Collection by Learn_ArcGIS\n",
       "                        <br/>Last Modified: 10月 03, 2016\n",
       "                        <br/>0 comments, 7,439 views\n",
       "                    </div>\n",
       "                </div>\n",
       "                "
      ],
      "text/plain": [
       "<Item title:\"Emergency Shelters\" type:Feature Collection owner:Learn_ArcGIS>"
      ]
     },
     "execution_count": 114,
     "metadata": {},
     "output_type": "execute_result"
    }
   ],
   "source": [
    "#search_fc = gis.content.search(\"title:AVL_Direct_FC\", item_type='Feature Collection')\n",
    "search_fc = gis.content.search(\"owner:Learn_ArcGIS\", item_type='Feature Collection')\n",
    "fc_item = search_fc[0]\n",
    "fc_item"
   ]
  },
  {
   "cell_type": "markdown",
   "metadata": {},
   "source": [
    "フィーチャ コレクションの layers プロパティにアクセスすると、FeatureCollection オブジェクトのリストを返します。"
   ]
  },
  {
   "cell_type": "code",
   "execution_count": 115,
   "metadata": {},
   "outputs": [
    {
     "data": {
      "text/plain": [
       "[<FeatureCollection>]"
      ]
     },
     "execution_count": 115,
     "metadata": {},
     "output_type": "execute_result"
    }
   ],
   "source": [
    "fc_item.layers"
   ]
  },
  {
   "cell_type": "code",
   "execution_count": 116,
   "metadata": {},
   "outputs": [],
   "source": [
    "fc = fc_item.layers[0]"
   ]
  },
  {
   "cell_type": "markdown",
   "metadata": {},
   "source": [
    "FeatureCollection オブジェクトで query() メソッドを呼び出して FeatureSet オブジェクトを取得することができます。"
   ]
  },
  {
   "cell_type": "code",
   "execution_count": 119,
   "metadata": {},
   "outputs": [],
   "source": [
    "fset = fc.query()"
   ]
  },
  {
   "cell_type": "markdown",
   "metadata": {},
   "source": [
    "FeatureSet オブジェクトを取得したら、features プロパティにアクセスして Feature オブジェクトのリストを取得することができます。"
   ]
  },
  {
   "cell_type": "code",
   "execution_count": 120,
   "metadata": {},
   "outputs": [
    {
     "data": {
      "text/plain": [
       "{'x': -17265172.6773,\n",
       " 'y': 2240027.716499999,\n",
       " 'spatialReference': {'wkid': 102100, 'latestWkid': 3857}}"
      ]
     },
     "execution_count": 120,
     "metadata": {},
     "output_type": "execute_result"
    }
   ],
   "source": [
    "features = fset.features\n",
    "features[0].geometry"
   ]
  }
 ],
 "metadata": {
  "anaconda-cloud": {},
  "kernelspec": {
   "display_name": "Python 3",
   "language": "python",
   "name": "python3"
  },
  "language_info": {
   "codemirror_mode": {
    "name": "ipython",
    "version": 3
   },
   "file_extension": ".py",
   "mimetype": "text/x-python",
   "name": "python",
   "nbconvert_exporter": "python",
   "pygments_lexer": "ipython3",
   "version": "3.6.9"
  }
 },
 "nbformat": 4,
 "nbformat_minor": 1
}
