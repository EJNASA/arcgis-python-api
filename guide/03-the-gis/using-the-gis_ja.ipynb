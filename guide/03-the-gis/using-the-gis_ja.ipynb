{
 "cells": [
  {
   "cell_type": "markdown",
   "metadata": {
    "collapsed": true
   },
   "source": [
    "# gis モジュールの使用 \n",
    "\n",
    "gis モジュールは最も重要なモジュールで、Web GIS への入口となり、ユーザー、グループ、およびコンテンツを管理 (作成、読み込み、更新、削除) する機能を提供します。Web GIS の管理者権限をもつユーザーは、自身の組織のメンバー、グループなどの管理にこのモジュールを使用します。\n"
   ]
  },
  {
   "cell_type": "markdown",
   "metadata": {},
   "source": [
    "GIS オブジェクトを使用するには、arcgis.gis モジュールから GIS をインポートします。"
   ]
  },
  {
   "cell_type": "code",
   "execution_count": 1,
   "metadata": {},
   "outputs": [],
   "source": [
    "from arcgis.gis import GIS"
   ]
  },
  {
   "cell_type": "markdown",
   "metadata": {},
   "source": [
    "GIS インスタンスを作成するには、以下のように ArcGIS Online もしくは ArcGIS Enterprise の URL とログイン認証情報を渡します。"
   ]
  },
  {
   "cell_type": "code",
   "execution_count": 28,
   "metadata": {},
   "outputs": [],
   "source": [
    "gis = GIS(\"https://www.arcgis.com\", \"<ユーザー名>\", \"<パスワード>\")"
   ]
  },
  {
   "cell_type": "markdown",
   "metadata": {},
   "source": [
    "ArcGIS Enterprise に接続する場合、[こちら](https://developers.arcgis.com/python/guide/working-with-different-authentication-schemes/)を参照して様々な認証に対応したスクリプトやノートブックを認証する方法を確認してください。"
   ]
  },
  {
   "cell_type": "markdown",
   "metadata": {},
   "source": [
    "URL を指定していない場合はデフォルトで ArcGIS Online (https://www.arcgis.com) が URL となります。次の例のように、ユーザー名とパスワードも指定しない場合は匿名ユーザーとして接続することになります。"
   ]
  },
  {
   "cell_type": "code",
   "execution_count": 36,
   "metadata": {},
   "outputs": [],
   "source": [
    "gis = GIS()"
   ]
  },
  {
   "cell_type": "markdown",
   "metadata": {},
   "source": [
    "オブジェクトの後に「?」を追加して実行すると、ノートブックにそのオブジェクトのヘルプが表示されます。"
   ]
  },
  {
   "cell_type": "code",
   "execution_count": 4,
   "metadata": {},
   "outputs": [],
   "source": [
    "gis?"
   ]
  },
  {
   "cell_type": "markdown",
   "metadata": {},
   "source": [
    "Jupyter Notebook には、インテリセンス(入力支援機能)が用意されています。オブジェクトの後に「.」を入力して Tab キーを押すと、プロパティとメソッドのドロップ ダウンが表示されます。\n",
    "![dropdown showing members of GIS class](http://esri.github.io/arcgis-python-api/notebooks/nbimages/01-dropdown.png)"
   ]
  },
  {
   "cell_type": "markdown",
   "metadata": {},
   "source": [
    "## ヘルパー クラス\n",
    "GIS オブジェクトは、ユーザーやグループ、コンテンツ等の GIS リソースを管理するためのヘルパー クラスを提供します。これらは、それぞれ users, groups, content という名前で提供されています。\n",
    "このようなヘルパー クラスは、それぞれのリソースを取得、検索、作成するget() メソッド、 search() メソッド、 create() メソッドを持っています。\n",
    "ArcGIS API for Python でユーザーやグループ、コンテンツ等の GIS リソースにアクセスするには、一般的に対応するヘルパー クラスを使用します。"
   ]
  },
  {
   "cell_type": "markdown",
   "metadata": {},
   "source": [
    "例えば、ユーザーにアクセスするには、gis オブジェクトの users プロパティを使用して UserManager クラスのインスタンスを取得し、UserManager オブジェクトの get() メソッドを、ユーザー名を引数として以下のように使用します。"
   ]
  },
  {
   "cell_type": "code",
   "execution_count": 28,
   "metadata": {},
   "outputs": [],
   "source": [
    "user = gis.users.get('ej_python_creator')"
   ]
  },
  {
   "cell_type": "markdown",
   "metadata": {},
   "source": [
    "## ArcGIS API for Python と Jupyter Notebook\n",
    "ArcGIS API for Python は Jupyter Notebook と統合されており、GIS リソースを表示して対話的な操作ができるようになっています。例えば user オブジェクトは、以下のように記述することで Jupyter Notebook 上にプロパティを表示することができます。\n",
    "GIS リソースのプロパティは resource['property'] のように記述し、表示することができます。また「.」を使用することでもプロパティを表示することができます。"
   ]
  },
  {
   "cell_type": "code",
   "execution_count": 29,
   "metadata": {},
   "outputs": [
    {
     "data": {
      "text/html": [
       "<div class=\"9item_container\" style=\"height: auto; overflow: hidden; border: 1px solid #cfcfcf; border-radius: 2px; background: #f6fafa; line-height: 1.21429em; padding: 10px;\">\n",
       "                    <div class=\"item_left\" style=\"width: 210px; float: left;\">\n",
       "                       <a href='https://www.arcgis.com/home/user.html?user=ej_python_creator' target='_blank'>\n",
       "                        <img src='https://www.arcgis.com/sharing/rest/community/users/ej_python_creator/info/python_api__E3_82_A2_E3_82_A4_E3_82_B3_E3_83_B3_20200214.png' class=\"itemThumbnail\">\n",
       "                       </a>\n",
       "                    </div>\n",
       "\n",
       "                    <div class=\"item_right\" style=\"float: none; width: auto; overflow: hidden;\">\n",
       "                        <a href='https://www.arcgis.com/home/user.html?user=ej_python_creator' target='_blank'><b>ej_python_creator</b>\n",
       "                        </a>\n",
       "                        <br/><br/><b>Bio</b>: 試験用クリエイター\n",
       "                        <br/><b>First Name</b>: ej_python\n",
       "                        <br/><b>Last Name</b>: creator\n",
       "                        <br/><b>Username</b>: ej_python_creator\n",
       "                        <br/><b>Joined</b>: 4月 06, 2020\n",
       "\n",
       "                    </div>\n",
       "                </div>\n",
       "                "
      ],
      "text/plain": [
       "<User username:ej_python_creator>"
      ]
     },
     "execution_count": 29,
     "metadata": {},
     "output_type": "execute_result"
    }
   ],
   "source": [
    "user"
   ]
  },
  {
   "cell_type": "code",
   "execution_count": 30,
   "metadata": {},
   "outputs": [
    {
     "data": {
      "text/plain": [
       "'ej_python'"
      ]
     },
     "execution_count": 30,
     "metadata": {},
     "output_type": "execute_result"
    }
   ],
   "source": [
    "user['firstName']"
   ]
  },
  {
   "cell_type": "code",
   "execution_count": 31,
   "metadata": {},
   "outputs": [
    {
     "data": {
      "text/plain": [
       "'creator'"
      ]
     },
     "execution_count": 31,
     "metadata": {},
     "output_type": "execute_result"
    }
   ],
   "source": [
    "user.lastName"
   ]
  },
  {
   "cell_type": "markdown",
   "metadata": {},
   "source": [
    "GIS リソースは `update()`, `delete()` 等のメソッドを提供しています。詳細は[API リファレンス](https://developers.arcgis.com/python/api-reference/arcgis.gis.toc.html#user)をご参照ください。"
   ]
  },
  {
   "cell_type": "markdown",
   "metadata": {},
   "source": [
    "### Jupyter Notebook で地図表示\n",
    "\n",
    "GIS オブジェクトにはマップ ウィジェットが含まれており、リソースの表示をするだけでなく、地図を表示することもできます。日本周辺の地図を表示してみましょう。"
   ]
  },
  {
   "cell_type": "code",
   "execution_count": 29,
   "metadata": {},
   "outputs": [
    {
     "data": {
      "application/vnd.jupyter.widget-view+json": {
       "model_id": "a4e75a0dbd2343f1a20cbfe7da445612",
       "version_major": 2,
       "version_minor": 0
      },
      "text/plain": [
       "MapView(layout=Layout(height='400px', width='100%'))"
      ]
     },
     "metadata": {},
     "output_type": "display_data"
    },
    {
     "data": {
      "text/html": [
       "<div class=\"map-static-img-preview-1ade4f83-ece5-42c7-8b7f-310d0b6351d7\"><img src=\"\"></img></div>"
      ],
      "text/plain": [
       "<IPython.core.display.HTML object>"
      ]
     },
     "metadata": {},
     "output_type": "display_data"
    }
   ],
   "source": [
    "map1 = gis.map(\"品川区\")\n",
    "map1"
   ]
  },
  {
   "cell_type": "markdown",
   "metadata": {},
   "source": [
    "GIS のコンテンツを検索することができます。検索を行うには、gis.content.search() を使用し、Web マップやフィーチャ レイヤーごとに、ノートブック内に検索結果を表示することができます。"
   ]
  },
  {
   "cell_type": "code",
   "execution_count": 72,
   "metadata": {
    "scrolled": false
   },
   "outputs": [
    {
     "data": {
      "text/html": [
       "<div class=\"item_container\" style=\"height: auto; overflow: hidden; border: 1px solid #cfcfcf; border-radius: 2px; background: #f6fafa; line-height: 1.21429em; padding: 10px;\">\n",
       "                    <div class=\"item_left\" style=\"width: 210px; float: left;\">\n",
       "                       <a href='https://www.arcgis.com/home/item.html?id=7b618fac63cc41ef9766169135b6c1d9' target='_blank'>\n",
       "                        <img src='https://www.arcgis.com/sharing/rest//content/items/7b618fac63cc41ef9766169135b6c1d9/info/thumbnail/ago_downloaded.png' class=\"itemThumbnail\">\n",
       "                       </a>\n",
       "                    </div>\n",
       "\n",
       "                    <div class=\"item_right\"     style=\"float: none; width: auto; overflow: hidden;\">\n",
       "                        <a href='https://www.arcgis.com/home/item.html?id=7b618fac63cc41ef9766169135b6c1d9' target='_blank'><b>AED設置場所</b>\n",
       "                        </a>\n",
       "                        <br/><img src='https://www.arcgis.com/home/js/jsapi/esri/css/images/item_type_icons/featureshosted16.png' style=\"vertical-align:middle;\">Feature Layer Collection by ejmaruyama\n",
       "                        <br/>Last Modified: 6月 01, 2020\n",
       "                        <br/>0 comments, 11 views\n",
       "                    </div>\n",
       "                </div>\n",
       "                "
      ],
      "text/plain": [
       "<Item title:\"AED設置場所\" type:Feature Layer Collection owner:ejmaruyama>"
      ]
     },
     "metadata": {},
     "output_type": "display_data"
    }
   ],
   "source": [
    "items = gis.content.search(\"title:AED設置場所 tags:品川区\", \"Feature Layer\")\n",
    "for item in items:\n",
    "    display(item)"
   ]
  },
  {
   "cell_type": "markdown",
   "metadata": {},
   "source": [
    "そして、フィーチャ レイヤーをマップに追加することができます。上記で返されたレイヤーを追加するには、add_layer() メソッドを使用します。以下では検索結果の「AED 設置場所」のレイヤーを追加します。\n",
    "データ出典：[東京都オープンデータカタログサイト 品川区　AED設置場所情報](https://catalog.data.metro.tokyo.lg.jp/dataset/t131091d0000000006) を元にフィーチャ レイヤーを作成"
   ]
  },
  {
   "cell_type": "code",
   "execution_count": 73,
   "metadata": {},
   "outputs": [
    {
     "data": {
      "application/vnd.jupyter.widget-view+json": {
       "model_id": "a4e75a0dbd2343f1a20cbfe7da445612",
       "version_major": 2,
       "version_minor": 0
      },
      "text/plain": [
       "MapView(jupyter_target='notebook', layout=Layout(height='400px', width='100%'), ready=True)"
      ]
     },
     "metadata": {},
     "output_type": "display_data"
    },
    {
     "data": {
      "text/html": [
       "<div class=\"map-static-img-preview-1ade4f83-ece5-42c7-8b7f-310d0b6351d7\"><img src=\"\"></img></div>"
      ],
      "text/plain": [
       "<IPython.core.display.HTML object>"
      ]
     },
     "metadata": {},
     "output_type": "display_data"
    }
   ],
   "source": [
    "map1.add_layer(item)\n",
    "map1"
   ]
  },
  {
   "cell_type": "markdown",
   "metadata": {
    "collapsed": true
   },
   "source": [
    "上のセルを実行するとマップ ウィジェットを更新し、レイヤーがマップ ウィジェットに追加されています。"
   ]
  },
  {
   "cell_type": "code",
   "execution_count": null,
   "metadata": {},
   "outputs": [],
   "source": []
  }
 ],
 "metadata": {
  "anaconda-cloud": {},
  "kernelspec": {
   "display_name": "Python 3",
   "language": "python",
   "name": "python3"
  },
  "language_info": {
   "codemirror_mode": {
    "name": "ipython",
    "version": 3
   },
   "file_extension": ".py",
   "mimetype": "text/x-python",
   "name": "python",
   "nbconvert_exporter": "python",
   "pygments_lexer": "ipython3",
   "version": "3.6.9"
  }
 },
 "nbformat": 4,
 "nbformat_minor": 1
}
