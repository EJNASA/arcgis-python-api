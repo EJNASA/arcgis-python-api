{
 "cells": [
  {
   "cell_type": "markdown",
   "metadata": {},
   "source": [
    "# ネットワーク解析のガイド (パート 2 - ルートの検索)"
   ]
  },
  {
   "cell_type": "markdown",
   "metadata": {},
   "source": [
    "## 目次\n",
    "- [イントロダクション](#イントロダクション)\n",
    "- [問題文](#問題文)\n",
    "- [データ](#データ)\n",
    "    - [ストップ フィーチャ クラスへのアクセス](#ストップ-フィーチャ-クラスへのアクセス)\n",
    "    - [ストップの順番の並びかえ](#ストップの順番の並びかえ)\n",
    "- [メソッド](#メソッド)\n",
    "    - [メソッド 1 - arcgis.network.analysis.find_routes を使う](#メソッド-1---arcgis.network.analysis.find_routes-を使う)\n",
    "        - [find_routes の結果をテーブル化する](#find_routes-の結果をテーブル化する)\n",
    "        - [find_routes の結果を可視化する](#find_routes-の結果を可視化する)\n",
    "    - [メソッド 2 - arcgis.features.use_proximity.plan_routes を使う](#メソッド-2---arcgis.features.use_proximity.plan_routes-を使う)\n",
    "    \n",
    "        - [入力パラメーターの準備](#入力パラメーターの準備)\n",
    "        - [output_name を指定した場合](#output_name-を指定した場合)\n",
    "        - [output_name を指定しなかった場合](#output_name-を指定しなかった場合)\n",
    "- [次のトピックについて](#次のトピックについて)\n",
    "- [参考](#参考)"
   ]
  },
  {
   "cell_type": "markdown",
   "metadata": {},
   "source": [
    "## イントロダクション\n",
    "いま、私達はネットワーク データセットのコンセプト及びネットワーク解析サービスについて学びました。2 つ目のトピックに移りましょう。ここでは、「どのようにして、ある地点から別の地点へのルートを検索するのか」、「複数の地点間の場合はどのようにルートを検索するのか」について紹介します。これは次のような問題を解決します。\n",
    "\n",
    "- ポイント A からポイント B への最も速いルートはどれか？\n",
    "- ポイント A、B、C、D 間を移動するために最も短いルートはどれか？\n",
    "\n",
    "前回のトピックを再確認したい場合や、次のトピックにスキップしたい場合は以下のロード マップを参照してください。\n",
    "\n",
    " - Network Dataset and Network Analysis (<a href=\"part1_introduction_to_network_analysis.ipynb\">You are here!</a>) / ネットワーク データセットとネットワーク解析 (<a href=\"part1_introduction_to_network_analysis_ja.ipynb\">パート 1</a>)\n",
    " - Find Routes (<a href=\"part2_find_routes.ipynb\">Part 2</a>) / ルート検索 (この翻訳版)\n",
    " - Generate Service Area (<a href=\"part3_generate_service_area.ipynb\">Part 3</a>) / 到達圏の作成 (パート 3)\n",
    " - Find Closest Facility (<a href=\"part4_find_closest_facilities.ipynb\">Part 4</a>) / 最寄りの検索\n",
    " - Generate Origin Destination Cost Matrix (<a href=\"part5_generate_od_cost_matrix.ipynb\">Part 5</a>) / OD コストマトリックス\n",
    " - Solve Location Allocation (<a href=\"part6_solve_location_allocation.ipynb\">Part 6</a>) / ロケーション・アロケーション\n",
    " - Vehicle Routing Problem Service (<a href=\"part7_vehicle_routing_problem.ipynb\">Part 7</a>) / 配車ルート解析\n",
    "\n",
    "ルートは、ストップやポイントの地点を最速もしくは最短で訪れる道路に沿ったパスを表します。これらは、指定した順番でポイントからポイントを移動する基本的なルート、もしくは全体の移動時間や距離を最小化した順番のルートを解析することができます。ルートはローカルのネットワーク データセットか、ArcGIS Online や ArcGIS Enterprise でホストされたネットワーク サービスに基づいています <a href=\"#参考\">[1]</a>。ここでは、ルートの検索を行うために、ArcGIS Online のサービスをどのように利用するかを紹介します。"
   ]
  },
  {
   "cell_type": "markdown",
   "metadata": {},
   "source": [
    "## 問題文\n",
    "複数のポイント間のルートをどのようにして見つけるのかということを中心に考えると、具体的なユーザーのストーリーは次のようなものでしょう。\n",
    "\n",
    "ジムは夏のアメリカ合衆国西部の旅行を計画しています。彼はマイアミからスタートし、サンフランシスコで旅を終えることを決めました。さらに、サンノゼ、ロサンゼルス、サンディエゴ、フェニックス、エルパソ、ヒューストン、ニューオーリンズ、オーランドの 8 都市に途中立ち寄ることにしました。ジムがこれらの 10 都市を、途中その他の地点に立ち寄ることなく、旅行するために最も良いルートはどのようなものになるでしょうか？そして、移動距離と移動時間の推計はどのくらいでしょうか？最後に、ジムにルートの方角と地図を提供することはできるでしょうか？\n",
    "\n",
    "いま、ジムの目的が明確になったので、問題をブレイク ダウンしましょう\n",
    " - データ: 入力するデータセットはどこから取得するか\n",
    " - 方法: ネットワーク モデルを構築し、ルート解析を行うために利用できるツールは何があるか\n",
    " - テーブルとマップ: 方角とルートが可視化された成果物はどのようなものか\n",
    "\n",
    "それでは、最初に、入力するデータセットを探しましょう（今回の場合、ストップとなるフィーチャ クラスです）。"
   ]
  },
  {
   "cell_type": "markdown",
   "metadata": {},
   "source": [
    "## データ\n",
    "\n",
    "### ストップ フィーチャ クラスへのアクセス"
   ]
  },
  {
   "cell_type": "markdown",
   "metadata": {},
   "source": [
    "`find_routes` ツールは入力パラメーターとして`ストップ フィーチャ セット`を必要とします。これは、2 つ以上のストップを指定する必要があると同時に、上限は10,000 ストップ、または 1 つのルートに対して 150 ストップです。\n",
    "\n",
    "この例では、既存のフィーチャ サービスから `stops` を抽出します。まずはじめに、必要なモジュールを全てインポートします。そして目的の組織に対して GIS オブジェクトを作成します。"
   ]
  },
  {
   "cell_type": "code",
   "execution_count": 1,
   "metadata": {},
   "outputs": [],
   "source": [
    "from copy import deepcopy\n",
    "import datetime as dt\n",
    "from IPython.display import HTML\n",
    "import json\n",
    "import pandas as pd\n",
    "from arcgis.gis import GIS\n",
    "import arcgis.network as network\n",
    "import arcgis.geocoding as geocoding\n",
    "from arcgis.features import FeatureLayer, FeatureSet, FeatureCollection\n",
    "import arcgis.features.use_proximity as use_proximity"
   ]
  },
  {
   "cell_type": "markdown",
   "metadata": {},
   "source": [
    "もし、ArcGIS Onlineの組織に対して既にプロファイルを設定 (訳注：認証情報をローカルのコンピューターに保存しておくことができます。詳細は[認証に係るガイド](https://developers.arcgis.com/python/guide/working-with-different-authentication-schemes/#Storing-your-credentials-locally)を参照ください) していれば以下のセルを実行してプロファイルをロードして GIS クラスのオブジェクトを作成してください。\n",
    "もし設定していなければ、ユーザー名、パスワードを用いてログインしてください。例：`my_gis = GIS('https://www.arcgis.com', 'arcgis_python', 'P@ssword123', verify_cert=False, set_active=True)`"
   ]
  },
  {
   "cell_type": "code",
   "execution_count": 3,
   "metadata": {},
   "outputs": [],
   "source": [
    "my_gis = GIS(profile=\"your_online_profile\")"
   ]
  },
  {
   "cell_type": "markdown",
   "metadata": {},
   "source": [
    "使用するフィーチャ レイヤーは「USA Major Cities」というタイトルで、search メソッドを使ってアクセスできます。"
   ]
  },
  {
   "cell_type": "code",
   "execution_count": 5,
   "metadata": {
    "scrolled": true
   },
   "outputs": [
    {
     "data": {
      "text/html": [
       "<div class=\"item_container\" style=\"height: auto; overflow: hidden; border: 1px solid #cfcfcf; border-radius: 2px; background: #f6fafa; line-height: 1.21429em; padding: 10px;\">\n",
       "                    <div class=\"item_left\" style=\"width: 210px; float: left;\">\n",
       "                       <a href='https://ej.maps.arcgis.com/home/item.html?id=85d0ca4ea1ca4b9abf0c51b9bd34de2e' target='_blank'>\n",
       "                        <img src='data:image/png;base64,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' width='200' height='133' class=\"itemThumbnail\">\n",
       "                       </a>\n",
       "                    </div>\n",
       "\n",
       "                    <div class=\"item_right\"     style=\"float: none; width: auto; overflow: hidden;\">\n",
       "                        <a href='https://ej.maps.arcgis.com/home/item.html?id=85d0ca4ea1ca4b9abf0c51b9bd34de2e' target='_blank'><b>USA Major Cities</b>\n",
       "                        </a>\n",
       "                        <br/>This layer presents the locations of cities within the United States with populations of approximately 10,000 or greater, all state capitals, and the national capital.<img src='https://ej.maps.arcgis.com/home/js/jsapi/esri/css/images/item_type_icons/featureshosted16.png' style=\"vertical-align:middle;\">Feature Layer Collection by esri_dm\n",
       "                        <br/>Last Modified: 5月 20, 2020\n",
       "                        <br/>0 comments, 23,004,405 views\n",
       "                    </div>\n",
       "                </div>\n",
       "                "
      ],
      "text/plain": [
       "<Item title:\"USA Major Cities\" type:Feature Layer Collection owner:esri_dm>"
      ]
     },
     "execution_count": 5,
     "metadata": {},
     "output_type": "execute_result"
    }
   ],
   "source": [
    "sample_cities = my_gis.content.search('title:\"USA Major Cities\" type:Feature Service owner:esri*',\n",
    "                                      outside_org=True)[0]\n",
    "sample_cities"
   ]
  },
  {
   "cell_type": "markdown",
   "metadata": {},
   "source": [
    "訪問する都市をリストに配置し、後でリストを文字列に整形するために使用されるフォーマッタを作成します。"
   ]
  },
  {
   "cell_type": "code",
   "execution_count": 6,
   "metadata": {},
   "outputs": [],
   "source": [
    "stops_cities = ['San Francisco', 'San Jose', 'Los Angeles', 'San Diego',\n",
    "                'Phoenix', 'El Paso', \n",
    "                'Houston', 'New Orleans', 'Orlando', 'Miami']\n",
    "values = \"'\" + \"', '\".join(stops_cities) + \"'\""
   ]
  },
  {
   "cell_type": "code",
   "execution_count": 7,
   "metadata": {},
   "outputs": [
    {
     "data": {
      "text/plain": [
       "arcgis.features.layer.FeatureLayer"
      ]
     },
     "execution_count": 7,
     "metadata": {},
     "output_type": "execute_result"
    }
   ],
   "source": [
    "stops_cities_fl = FeatureLayer(sample_cities.url + \"/0\")\n",
    "type(stops_cities_fl)"
   ]
  },
  {
   "cell_type": "markdown",
   "metadata": {},
   "source": [
    "`FeatureLayer` クラスのオブジェクトを作成し、`query` メソッドを呼び出し、FeatureSet として各都市を取得します。"
   ]
  },
  {
   "cell_type": "code",
   "execution_count": 8,
   "metadata": {},
   "outputs": [
    {
     "data": {
      "text/plain": [
       "<FeatureSet> 10 features"
      ]
     },
     "execution_count": 8,
     "metadata": {},
     "output_type": "execute_result"
    }
   ],
   "source": [
    "stops_cities_fset = stops_cities_fl.query(where=\"ST in ('CA', 'NV', 'TX', 'AZ', 'LA', 'FL')  AND NAME IN ({0})\".format(values), as_df=False)\n",
    "stops_cities_fset"
   ]
  },
  {
   "cell_type": "code",
   "execution_count": 9,
   "metadata": {},
   "outputs": [
    {
     "data": {
      "text/plain": [
       "<FeatureSet> 1 features"
      ]
     },
     "execution_count": 9,
     "metadata": {},
     "output_type": "execute_result"
    }
   ],
   "source": [
    "start_cities_fset = stops_cities_fl.query(where=\"ST='FL' AND NAME = 'Miami'\", as_df=False)\n",
    "start_cities_fset"
   ]
  },
  {
   "cell_type": "markdown",
   "metadata": {},
   "source": [
    "### ストップの順番の並びかえ\n",
    "\n",
    "`FeatureLayer.query()` メソッドから返された FeatureSet に含まれるフィーチャが、検索文字列の順序と一致しないことがあります。例えば、`stop_cities` の開始地点は \"San Francisico\" ですが、返されたFeatureSet の `stops_cities_fset` では \"Los Angeles\" が開始地点のようになっています。"
   ]
  },
  {
   "cell_type": "code",
   "execution_count": 10,
   "metadata": {
    "scrolled": true
   },
   "outputs": [
    {
     "name": "stdout",
     "output_type": "stream",
     "text": [
      "['Los Angeles', 'San Diego', 'San Francisco', 'San Jose', 'Phoenix', 'New Orleans', 'Miami', 'Orlando', 'El Paso', 'Houston']\n"
     ]
    }
   ],
   "source": [
    "print(list(map(lambda x: x.attributes['NAME'], stops_cities_fset)))"
   ]
  },
  {
   "cell_type": "markdown",
   "metadata": {},
   "source": [
    "FeatureSet 内のストップを並べ替えることができる `re_order_stop_cities` 関数を以下のように定義します。"
   ]
  },
  {
   "cell_type": "code",
   "execution_count": 11,
   "metadata": {},
   "outputs": [],
   "source": [
    "\"\"\" 任意の順序にストップを並べ替える関数を定義\n",
    "\"\"\"\n",
    "def re_order_stop_cities(fset=stops_cities_fset, start_city = \"Miami\", end_city = \"San Francisco\"):\n",
    "    \n",
    "    stops_cities_flist = []\n",
    "    last_city = None\n",
    "\n",
    "    for ea in fset:\n",
    "        if ea.attributes['NAME'] == start_city:\n",
    "            stops_cities_flist.insert(0, ea)\n",
    "        elif ea.attributes['NAME'] == end_city:\n",
    "            last_city = ea\n",
    "        else:\n",
    "            stops_cities_flist.append(ea)\n",
    "    stops_cities_flist.append(last_city)\n",
    " \n",
    "    return FeatureSet(stops_cities_flist)"
   ]
  },
  {
   "cell_type": "code",
   "execution_count": 12,
   "metadata": {},
   "outputs": [
    {
     "data": {
      "text/plain": [
       "<FeatureSet> 10 features"
      ]
     },
     "execution_count": 12,
     "metadata": {},
     "output_type": "execute_result"
    }
   ],
   "source": [
    "re_ordered_stops_cities_fset = re_order_stop_cities()\n",
    "re_ordered_stops_cities_fset"
   ]
  },
  {
   "cell_type": "markdown",
   "metadata": {},
   "source": [
    "並べ替えた FeatureSet には `spatialReference` を定義する必要があります。定義しなかった場合、解析時に `Invalid value for parameter Stops - Details : Invalid JSON for GPFeatureRecordSetLayer or GPRecordSet datatype Failed.` というエラーが発生します。"
   ]
  },
  {
   "cell_type": "code",
   "execution_count": 13,
   "metadata": {},
   "outputs": [],
   "source": [
    "re_ordered_stops_cities_fset.spatial_reference = stops_cities_fset.spatial_reference"
   ]
  },
  {
   "cell_type": "code",
   "execution_count": 14,
   "metadata": {},
   "outputs": [
    {
     "name": "stdout",
     "output_type": "stream",
     "text": [
      "['Miami', 'Los Angeles', 'San Diego', 'San Jose', 'Phoenix', 'New Orleans', 'Orlando', 'El Paso', 'Houston', 'San Francisco']\n"
     ]
    }
   ],
   "source": [
    "re_ordered_stops_cities = list(map(lambda x: x.attributes['NAME'], re_ordered_stops_cities_fset))\n",
    "print(re_ordered_stops_cities)"
   ]
  },
  {
   "cell_type": "markdown",
   "metadata": {},
   "source": [
    "## メソッド\n",
    "\n",
    "ArcGIS API for Python はルート解析の方法として、**RouteLayer.solve**、**find_routes**、**plan_routes** の 3 つのメソッドを提供しています。\n",
    "\n",
    "| 解析の種類 |  network.analysis | features.use_proximity |\n",
    "|:-----------------|:-------------------------|:------------------------|\n",
    "| Route （ルート検索） |  **find_routes**        | **plan_routes**        |\n",
    "| ServiceArea （到達圏） |  generate_service_areas | create_drive_time_areas|\n",
    "| ClosestFacility（最寄りの検索）|  find_closest_facilities| find_nearest |\n",
    "\n",
    "これら 3 つのメソッドは異なるモジュールで定義されており、裏側では異なる REST API を呼び出しています。**RouteLayer.solve** と **network.analysis.find_routes**、**features.use_proximity.plan_routes** の主な違いは、RouteLayer.solve は独自もしくは高度なネットワーク解析のワークフローを想定しており、独自のネットワーク解析レイヤーを公開する必要があります。network.analysis.find_routes、features.use_proximity.plan_routes は、ArcGIS Online 上でホストされているルート検索 サービスに対して動作します。プロキシ サービスを介して ArcGIS Enterprise 上で利用することもできます。利用にはクレジット消費が必要となります。\n",
    "\n",
    "このパートでは、同一の問題を `network.analysis.find_routes()` と `features.use_proximity.plan_routes()` で解析し、それらのワークフローについて `stops_cities` で定義された 10 都市間を移動するための最短ルートを設計して説明します。そして、それらのプロセスの違いを探っていきます。"
   ]
  },
  {
   "cell_type": "markdown",
   "metadata": {},
   "source": [
    "### メソッド 1 - arcgis.network.analysis.find_routes を使う\n",
    "\n",
    "ルート検索では、複数地点間を移動するための最速または最短の経路を決定することができます。複数のストップを訪問したり、場所間の距離や移動時間を測定したりするために、`arcgis.network.analytics` モジュールの `find_routes` ツールを使用するとよいでしょう。このツールは実行するたびに1台以上の車両のルートを見つけることができるので、複数のドライバーが事前に指定したストップに移動するための最適なルートを決定することができます。`find_routes`のパラメーターは次のものを含んでいます：\n",
    "- `stops`: 必須パラメーター。２つ以上のストップを指定します。\n",
    "- `preserve_terminal_stops`: 末端のストップを維持 (str 型)。オプションパラメーター。 最適なルートを見つけるためreorder_stops_to_find パラメーターが True の場合、始点または終点を保存できます。そしてツールは残りのストップを並べ替えます。\n",
    "- `time_of_day`: 時刻 (datetime 型)。オプションパラメーター。ルートの移動を開始する時間と日付を指定。\n",
    "- `time_zone_for_time_of_day`: 時刻のタイム ゾーン (str 型)。オプションパラメーター。time_of_day パラメーターのタイム ゾーンを指定します。\n",
    "- もし出力のルートを新しいレイヤー ファイルに保存したい場合、`save_output_na_layer` を True に設定します。\n"
   ]
  },
  {
   "cell_type": "code",
   "execution_count": 17,
   "metadata": {},
   "outputs": [
    {
     "name": "stderr",
     "output_type": "stream",
     "text": [
      "WARNING 030194: Data values longer than 500 characters for field [Stops:Name] are truncated.\n",
      "Network elements with avoid-restrictions are traversed in the output (restriction attribute names: \"Through Traffic Prohibited\").\n"
     ]
    },
    {
     "name": "stdout",
     "output_type": "stream",
     "text": [
      "Wall time: 1min 2s\n"
     ]
    }
   ],
   "source": [
    "%%time\n",
    "\n",
    "start_time = int(dt.datetime.now().timestamp() * 1000)\n",
    "\n",
    "result = network.analysis.find_routes(re_ordered_stops_cities_fset, time_of_day=start_time, \n",
    "                                      time_zone_for_time_of_day=\"UTC\",\n",
    "                                      preserve_terminal_stops=\"Preserve None\",\n",
    "                                      reorder_stops_to_find_optimal_routes=True,\n",
    "                                      save_output_na_layer=True)"
   ]
  },
  {
   "cell_type": "markdown",
   "metadata": {},
   "source": [
    "続いて、ツールが正常に動作したかどうか、各出力要素の種類は何か、そして出力ルートのネットワーク解析レイヤーのURLは何かを確認してみましょう。"
   ]
  },
  {
   "cell_type": "code",
   "execution_count": 18,
   "metadata": {},
   "outputs": [
    {
     "name": "stdout",
     "output_type": "stream",
     "text": [
      "ツールは正常に実行されたか？ True\n"
     ]
    }
   ],
   "source": [
    "print(\"ツールは正常に実行されたか？\", result.solve_succeeded)"
   ]
  },
  {
   "cell_type": "markdown",
   "metadata": {},
   "source": [
    "前の操作で得られた結果は、output_routes、output_stops、output_directionsの3つのコンポーネントとして ToolOutput に含まれています。"
   ]
  },
  {
   "cell_type": "code",
   "execution_count": 19,
   "metadata": {},
   "outputs": [
    {
     "data": {
      "text/plain": [
       "arcgis.geoprocessing._support.ToolOutput"
      ]
     },
     "execution_count": 19,
     "metadata": {},
     "output_type": "execute_result"
    }
   ],
   "source": [
    "type(result)"
   ]
  },
  {
   "cell_type": "code",
   "execution_count": 20,
   "metadata": {},
   "outputs": [
    {
     "data": {
      "text/plain": [
       "(<FeatureSet> 1 features, <FeatureSet> 10 features, <FeatureSet> 261 features)"
      ]
     },
     "execution_count": 20,
     "metadata": {},
     "output_type": "execute_result"
    }
   ],
   "source": [
    "result.output_routes, result.output_stops, result.output_directions"
   ]
  },
  {
   "cell_type": "code",
   "execution_count": 21,
   "metadata": {},
   "outputs": [
    {
     "data": {
      "text/plain": [
       "'https://logistics.arcgis.com/arcgis/rest/directories/arcgisjobs/world/route_gpserver/j4b5569ebe7bd4b5ba4b4d39c55895190/scratch/_ags_gpna077210131be5408292a81366e8b8d950.lyr'"
      ]
     },
     "execution_count": 21,
     "metadata": {},
     "output_type": "execute_result"
    }
   ],
   "source": [
    "result.output_network_analysis_layer.url"
   ]
  },
  {
   "cell_type": "markdown",
   "metadata": {},
   "source": [
    "#### find_routes の結果をテーブル化する\n",
    "\n",
    "結果の `output_directions` は、Pandas のデータフレーム(ルート上のすべての方向をリストアップしたもの)として読み込むことができます。"
   ]
  },
  {
   "cell_type": "code",
   "execution_count": 24,
   "metadata": {
    "scrolled": true
   },
   "outputs": [
    {
     "data": {
      "text/html": [
       "<div>\n",
       "<style scoped>\n",
       "    .dataframe tbody tr th:only-of-type {\n",
       "        vertical-align: middle;\n",
       "    }\n",
       "\n",
       "    .dataframe tbody tr th {\n",
       "        vertical-align: top;\n",
       "    }\n",
       "\n",
       "    .dataframe thead th {\n",
       "        text-align: right;\n",
       "    }\n",
       "</style>\n",
       "<table border=\"1\" class=\"dataframe\">\n",
       "  <thead>\n",
       "    <tr style=\"text-align: right;\">\n",
       "      <th></th>\n",
       "      <th>RouteName</th>\n",
       "      <th>ArriveTime</th>\n",
       "      <th>DriveDistance</th>\n",
       "      <th>ElapsedTime</th>\n",
       "      <th>Text</th>\n",
       "    </tr>\n",
       "  </thead>\n",
       "  <tbody>\n",
       "    <tr>\n",
       "      <td>0</td>\n",
       "      <td>Miami - San Francisco</td>\n",
       "      <td>2020-06-23 21:31:23.506999969</td>\n",
       "      <td>0.000000</td>\n",
       "      <td>0.000000</td>\n",
       "      <td>Start at Miami</td>\n",
       "    </tr>\n",
       "    <tr>\n",
       "      <td>1</td>\n",
       "      <td>Miami - San Francisco</td>\n",
       "      <td>2020-06-23 21:31:23.506999969</td>\n",
       "      <td>0.089587</td>\n",
       "      <td>0.369263</td>\n",
       "      <td>Go west on SW 13th St toward SW 17th Ave</td>\n",
       "    </tr>\n",
       "    <tr>\n",
       "      <td>2</td>\n",
       "      <td>Miami - San Francisco</td>\n",
       "      <td>2020-06-23 21:31:45.663000107</td>\n",
       "      <td>1.043712</td>\n",
       "      <td>2.387372</td>\n",
       "      <td>Turn left on SW 17th Ave</td>\n",
       "    </tr>\n",
       "    <tr>\n",
       "      <td>3</td>\n",
       "      <td>Miami - San Francisco</td>\n",
       "      <td>2020-06-23 21:34:07.371000051</td>\n",
       "      <td>0.616441</td>\n",
       "      <td>0.876218</td>\n",
       "      <td>Make a sharp left on S Dixie Hwy (US-1 N)</td>\n",
       "    </tr>\n",
       "    <tr>\n",
       "      <td>4</td>\n",
       "      <td>Miami - San Francisco</td>\n",
       "      <td>2020-06-23 21:35:01.477999926</td>\n",
       "      <td>3.317971</td>\n",
       "      <td>4.579577</td>\n",
       "      <td>Keep left at the fork onto I-95 N</td>\n",
       "    </tr>\n",
       "  </tbody>\n",
       "</table>\n",
       "</div>"
      ],
      "text/plain": [
       "               RouteName                    ArriveTime  DriveDistance  \\\n",
       "0  Miami - San Francisco 2020-06-23 21:31:23.506999969       0.000000   \n",
       "1  Miami - San Francisco 2020-06-23 21:31:23.506999969       0.089587   \n",
       "2  Miami - San Francisco 2020-06-23 21:31:45.663000107       1.043712   \n",
       "3  Miami - San Francisco 2020-06-23 21:34:07.371000051       0.616441   \n",
       "4  Miami - San Francisco 2020-06-23 21:35:01.477999926       3.317971   \n",
       "\n",
       "   ElapsedTime                                       Text  \n",
       "0     0.000000                             Start at Miami  \n",
       "1     0.369263   Go west on SW 13th St toward SW 17th Ave  \n",
       "2     2.387372                   Turn left on SW 17th Ave  \n",
       "3     0.876218  Make a sharp left on S Dixie Hwy (US-1 N)  \n",
       "4     4.579577          Keep left at the fork onto I-95 N  "
      ]
     },
     "execution_count": 24,
     "metadata": {},
     "output_type": "execute_result"
    }
   ],
   "source": [
    "\"\"\" 出力結果の方向にアクセスする\n",
    "\"\"\"\n",
    "df = result.output_directions.sdf\n",
    "df = df[[\"RouteName\", \"ArriveTime\", \"DriveDistance\", \"ElapsedTime\", \"Text\"]].loc[df[\"RouteName\"] == \"Miami - San Francisco\"]\n",
    "df.head()"
   ]
  },
  {
   "cell_type": "code",
   "execution_count": 25,
   "metadata": {},
   "outputs": [
    {
     "data": {
      "text/html": [
       "<div>\n",
       "<style scoped>\n",
       "    .dataframe tbody tr th:only-of-type {\n",
       "        vertical-align: middle;\n",
       "    }\n",
       "\n",
       "    .dataframe tbody tr th {\n",
       "        vertical-align: top;\n",
       "    }\n",
       "\n",
       "    .dataframe thead th {\n",
       "        text-align: right;\n",
       "    }\n",
       "</style>\n",
       "<table border=\"1\" class=\"dataframe\">\n",
       "  <thead>\n",
       "    <tr style=\"text-align: right;\">\n",
       "      <th></th>\n",
       "      <th>RouteName</th>\n",
       "      <th>ArriveTime</th>\n",
       "      <th>DriveDistance</th>\n",
       "      <th>ElapsedTime</th>\n",
       "      <th>Text</th>\n",
       "    </tr>\n",
       "  </thead>\n",
       "  <tbody>\n",
       "    <tr>\n",
       "      <td>256</td>\n",
       "      <td>Miami - San Francisco</td>\n",
       "      <td>2020-06-25 20:28:01.177000046</td>\n",
       "      <td>0.040609</td>\n",
       "      <td>0.156849</td>\n",
       "      <td>Continue forward on Masonic Ave</td>\n",
       "    </tr>\n",
       "    <tr>\n",
       "      <td>257</td>\n",
       "      <td>Miami - San Francisco</td>\n",
       "      <td>2020-06-25 20:28:10.588000059</td>\n",
       "      <td>0.059725</td>\n",
       "      <td>0.258612</td>\n",
       "      <td>Make a sharp right on Upper Ter</td>\n",
       "    </tr>\n",
       "    <tr>\n",
       "      <td>258</td>\n",
       "      <td>Miami - San Francisco</td>\n",
       "      <td>2020-06-25 20:28:26.105000019</td>\n",
       "      <td>0.067130</td>\n",
       "      <td>0.577511</td>\n",
       "      <td>Bear left</td>\n",
       "    </tr>\n",
       "    <tr>\n",
       "      <td>259</td>\n",
       "      <td>Miami - San Francisco</td>\n",
       "      <td>2020-06-25 20:28:26.105000019</td>\n",
       "      <td>0.000000</td>\n",
       "      <td>0.000000</td>\n",
       "      <td>Restriction: Through Traffic Prohibited</td>\n",
       "    </tr>\n",
       "    <tr>\n",
       "      <td>260</td>\n",
       "      <td>Miami - San Francisco</td>\n",
       "      <td>2020-06-25 20:29:00.755000114</td>\n",
       "      <td>0.000000</td>\n",
       "      <td>0.000000</td>\n",
       "      <td>Finish at San Francisco, on the left</td>\n",
       "    </tr>\n",
       "  </tbody>\n",
       "</table>\n",
       "</div>"
      ],
      "text/plain": [
       "                 RouteName                    ArriveTime  DriveDistance  \\\n",
       "256  Miami - San Francisco 2020-06-25 20:28:01.177000046       0.040609   \n",
       "257  Miami - San Francisco 2020-06-25 20:28:10.588000059       0.059725   \n",
       "258  Miami - San Francisco 2020-06-25 20:28:26.105000019       0.067130   \n",
       "259  Miami - San Francisco 2020-06-25 20:28:26.105000019       0.000000   \n",
       "260  Miami - San Francisco 2020-06-25 20:29:00.755000114       0.000000   \n",
       "\n",
       "     ElapsedTime                                     Text  \n",
       "256     0.156849          Continue forward on Masonic Ave  \n",
       "257     0.258612          Make a sharp right on Upper Ter  \n",
       "258     0.577511                                Bear left  \n",
       "259     0.000000  Restriction: Through Traffic Prohibited  \n",
       "260     0.000000     Finish at San Francisco, on the left  "
      ]
     },
     "execution_count": 25,
     "metadata": {},
     "output_type": "execute_result"
    }
   ],
   "source": [
    "df.tail()"
   ]
  },
  {
   "cell_type": "markdown",
   "metadata": {},
   "source": [
    "また、返却されたオブジェクトの `output_routes` コンポーネントから、移動全体のサマリーテーブルを作成することができます。"
   ]
  },
  {
   "cell_type": "code",
   "execution_count": 26,
   "metadata": {},
   "outputs": [
    {
     "data": {
      "text/html": [
       "<div>\n",
       "<style scoped>\n",
       "    .dataframe tbody tr th:only-of-type {\n",
       "        vertical-align: middle;\n",
       "    }\n",
       "\n",
       "    .dataframe tbody tr th {\n",
       "        vertical-align: top;\n",
       "    }\n",
       "\n",
       "    .dataframe thead th {\n",
       "        text-align: right;\n",
       "    }\n",
       "</style>\n",
       "<table border=\"1\" class=\"dataframe\">\n",
       "  <thead>\n",
       "    <tr style=\"text-align: right;\">\n",
       "      <th></th>\n",
       "      <th>Name</th>\n",
       "      <th>StartTime</th>\n",
       "      <th>EndTime</th>\n",
       "      <th>StopCount</th>\n",
       "      <th>Total_Kilometers</th>\n",
       "      <th>Total_Minutes</th>\n",
       "    </tr>\n",
       "  </thead>\n",
       "  <tbody>\n",
       "    <tr>\n",
       "      <td>0</td>\n",
       "      <td>Miami - San Francisco</td>\n",
       "      <td>21:31:23</td>\n",
       "      <td>20:29:00</td>\n",
       "      <td>10</td>\n",
       "      <td>5272.401666</td>\n",
       "      <td>2997.620807</td>\n",
       "    </tr>\n",
       "  </tbody>\n",
       "</table>\n",
       "</div>"
      ],
      "text/plain": [
       "                    Name StartTime   EndTime  StopCount  Total_Kilometers  \\\n",
       "0  Miami - San Francisco  21:31:23  20:29:00         10       5272.401666   \n",
       "\n",
       "   Total_Minutes  \n",
       "0    2997.620807  "
      ]
     },
     "execution_count": 26,
     "metadata": {},
     "output_type": "execute_result"
    }
   ],
   "source": [
    "\"\"\" アウトプットのルートにアクセス\n",
    "\"\"\"\n",
    "df = result.output_routes.sdf\n",
    "start_times = pd.to_datetime(df[\"StartTime\"], unit=\"ms\")\n",
    "end_times = pd.to_datetime(df[\"EndTime\"], unit=\"ms\")\n",
    "df[\"StartTime\"] = start_times.apply(lambda x: x.strftime(\"%H:%M:%S\"))\n",
    "df[\"EndTime\"] = end_times.apply(lambda x: x.strftime(\"%H:%M:%S\"))\n",
    "df[[\"Name\", \"StartTime\", \"EndTime\", \"StopCount\", \"Total_Kilometers\", \"Total_Minutes\"]]"
   ]
  },
  {
   "cell_type": "markdown",
   "metadata": {},
   "source": [
    "上記の結果から、マイアミからサンフランシスコまでの推定移動距離は約 5272.401 kmで、推定移動時間は 2997.620 分 (約 49.960 時間) であるということがわかります。これは、例えば、もしマイアミを月曜日の 21:31:23 PM (EST) に出発したら、サンフランシスコに水曜日の 20:29:00 PM (PST) に到着することが期待できることを意味します。\n",
    "\n",
    "#### find_routes の結果を可視化する\n",
    "\n",
    "これで私達は旅行のプランを完全にマスターしました。次はマップ ウィジェットにルートを可視化しましょう。これでユーザーはストップ間の地理的な地理的な関係をよりよく把握することができます。\n",
    "\n",
    "以下のセルでは、ストップとルートのスタイルやシンボルを定義しています。始点と終点は強調するために、シンボルとして吹き出しのアイコンを割り当てます。"
   ]
  },
  {
   "cell_type": "code",
   "execution_count": 69,
   "metadata": {},
   "outputs": [],
   "source": [
    "\"\"\" 描画用にカスタマイズするスタイル、シンボル、ポップアップ\n",
    "\"\"\"\n",
    "styles = [    \n",
    "    dict(selector=\"td\", props=[(\"padding\", \"2px\")]),\n",
    "    dict(selector='.row_heading, .blank', props=[('display', 'none;')]),\n",
    "    dict(selector='.col_heading, .blank', props=[('display', 'none;')])]\n",
    "\n",
    "route_symbol = {\n",
    "                    \"type\": \"esriSLS\",\n",
    "                    \"style\": \"esriSLSSolid\",\n",
    "                    \"color\": [128,0,128,90],\n",
    "                    \"width\": 4\n",
    "                }\n",
    "\n",
    "stops_symbol = {\"angle\":0,\"xoffset\":2,\"yoffset\":8,\"type\":\"esriPMS\",\n",
    "                \"url\":\"http://static.arcgis.com/images/Symbols/Basic/ShinyPin.png\",\n",
    "                \"contentType\":\"image/png\",\"width\":24,\"height\":24}\n",
    "\n",
    "start_symbol = {\"angle\":0,\"xoffset\":0,\"yoffset\":8.15625,\"type\":\"esriPMS\",\n",
    "                \"url\":\"http://static.arcgis.com/images/Symbols/AtoZ/redA.png\",\n",
    "                \"contentType\":\"image/png\",\"width\":15.75,\"height\":21.75}\n",
    "\n",
    "end_symbol = {\"angle\":0,\"xoffset\":0,\"yoffset\":8.15625,\"type\":\"esriPMS\",\n",
    "              \"url\":\"http://static.arcgis.com/images/Symbols/AtoZ/greenB.png\",\n",
    "              \"contentType\":\"image/png\",\"width\":15.75,\"height\":21.75}\n",
    "\n",
    "popup_route = {\"title\": \"Route\", \n",
    "               \"content\": df.style.set_table_styles(styles).render()}\n",
    "popup_stop = {\"title\": \"Stop {}\", \n",
    "              \"content\": df.style.set_table_styles(styles).render()}"
   ]
  },
  {
   "cell_type": "markdown",
   "metadata": {},
   "source": [
    "ここでは、`check_curb_approach2` 関数を定義して、各ストップが経路の始点（出発点）なのか、中継点なのか、それとも終点（到着点）なのかを調べます。"
   ]
  },
  {
   "cell_type": "code",
   "execution_count": 24,
   "metadata": {},
   "outputs": [],
   "source": [
    "def check_curb_approach2(result):\n",
    "    attributes = result.attributes\n",
    "    return (attributes['ArriveCurbApproach'], attributes['DepartCurbApproach'])"
   ]
  },
  {
   "cell_type": "code",
   "execution_count": 72,
   "metadata": {},
   "outputs": [
    {
     "data": {
      "application/vnd.jupyter.widget-view+json": {
       "model_id": "5453f3bf148b4e89bbd941eb137c66b1",
       "version_major": 2,
       "version_minor": 0
      },
      "text/plain": [
       "MapView(layout=Layout(height='400px', width='100%'))"
      ]
     },
     "metadata": {},
     "output_type": "display_data"
    },
    {
     "data": {
      "text/html": [
       "<div class=\"map-static-img-preview-c2fc4128-7102-478e-ac3e-4bc7ec594c57\"><img src=\"\"></img></div>"
      ],
      "text/plain": [
       "<IPython.core.display.HTML object>"
      ]
     },
     "metadata": {},
     "output_type": "display_data"
    }
   ],
   "source": [
    "map1 = my_gis.map('Texas, USA', zoomlevel=4)\n",
    "map1"
   ]
  },
  {
   "cell_type": "code",
   "execution_count": 26,
   "metadata": {},
   "outputs": [],
   "source": [
    "\"\"\" ルートとストップをカスタマイズしたスタイル、シンボル、ポップアップで描画\n",
    "\"\"\"\n",
    "for route in result.output_routes:\n",
    "    map1.draw(route.geometry, popup_route, route_symbol)\n",
    "\n",
    "sequence = 1\n",
    "for stop in result.output_stops:\n",
    "    \n",
    "    stop_bool_tuple = check_curb_approach2(stop)\n",
    "    if stop_bool_tuple[0] is None:\n",
    "        # 出発地点\n",
    "        symbol = start_symbol\n",
    "    elif stop_bool_tuple[1] is None:\n",
    "        # 到着地点\n",
    "        symbol = end_symbol\n",
    "    else:\n",
    "        # 中継地点\n",
    "        symbol = stops_symbol\n",
    "        \n",
    "    address = geocoding.reverse_geocode(stop.geometry)['address']['Match_addr']\n",
    "    map1.draw(stop.geometry, \n",
    "              {\"title\": \"Stop {}\".format(sequence), \n",
    "               \"content\": address},\n",
    "              symbol)\n",
    "    sequence+=1"
   ]
  },
  {
   "cell_type": "code",
   "execution_count": 27,
   "metadata": {},
   "outputs": [],
   "source": [
    "#Web マップとして保存\n",
    "item_properties = {\n",
    "    \"title\": \"Miami - San Francisco (2)\",\n",
    "    \"tags\" : \"Routing\",\n",
    "    \"snippet\": \" Route from Miami to San Francisco\",\n",
    "    \"description\": \"a web map of Route from Miami to San Francisco using network.RouteLayer.solve\"\n",
    "}\n",
    "\n",
    "item = map1.save(item_properties)"
   ]
  },
  {
   "cell_type": "code",
   "execution_count": 28,
   "metadata": {
    "scrolled": true
   },
   "outputs": [
    {
     "data": {
      "text/html": [
       "<div class=\"item_container\" style=\"height: auto; overflow: hidden; border: 1px solid #cfcfcf; border-radius: 2px; background: #f6fafa; line-height: 1.21429em; padding: 10px;\">\n",
       "                    <div class=\"item_left\" style=\"width: 210px; float: left;\">\n",
       "                       <a href='https://ej.maps.arcgis.com/home/item.html?id=4b4ccab34e9b42bda38d74ab5064a126' target='_blank'>\n",
       "                        <img src='http://static.arcgis.com/images/desktopapp.png' class=\"itemThumbnail\">\n",
       "                       </a>\n",
       "                    </div>\n",
       "\n",
       "                    <div class=\"item_right\"     style=\"float: none; width: auto; overflow: hidden;\">\n",
       "                        <a href='https://ej.maps.arcgis.com/home/item.html?id=4b4ccab34e9b42bda38d74ab5064a126' target='_blank'><b>Miami - San Francisco (2)</b>\n",
       "                        </a>\n",
       "                        <br/> Route from Miami to San Francisco<img src='https://ej.maps.arcgis.com/home/js/jsapi/esri/css/images/item_type_icons/maps16.png' style=\"vertical-align:middle;\">Web Map by Nakamura_Hiromu\n",
       "                        <br/>Last Modified: 6月 23, 2020\n",
       "                        <br/>0 comments, 0 views\n",
       "                    </div>\n",
       "                </div>\n",
       "                "
      ],
      "text/plain": [
       "<Item title:\"Miami - San Francisco (2)\" type:Web Map owner:Nakamura_Hiromu>"
      ]
     },
     "execution_count": 28,
     "metadata": {},
     "output_type": "execute_result"
    }
   ],
   "source": [
    "item"
   ]
  },
  {
   "cell_type": "markdown",
   "metadata": {},
   "source": [
    "ここまでは、`network.analysis` モジュールの find_routes を使用してきました。ここからはワークフロー 主導でフィーチャ サービスからフィーチャ サービスを作成するユーザー体験が可能な`features.use_proximity` モジュールのメソッドである plan_routes を使っていきましょう。"
   ]
  },
  {
   "cell_type": "markdown",
   "metadata": {},
   "source": [
    "### メソッド 2 - arcgis.features.use_proximity.plan_routes を使う\n",
    "\n",
    "plan_routes メソッドは、モバイルワーカーに対してタスクを効率的に配分する方法を決定します。\n",
    "\n",
    "ストップと利用できる車両の数を含むインプットを入力すると、ツールが各ストップを車両に割り当て、各車両が割り当てられたストップに最短時間で到着するルートを返却します。\n",
    "\n",
    "plan_routes を使うことで、モバイルワーカーは、よりたくさんの作業現場に少ない時間で到達することができます。これにより生産性が向上し、カスタマーサービスを改善することができます。組織はしばしば plan_routes を次のような目的のために使用します。\n",
    " \n",
    " - 住宅、レストラン、建設現場の点検\n",
    " - 修理、設置、技術サービスの提供\n",
    " - 商品や小包の配送\n",
    " - 営業電話をかける\n",
    " - 観客の自宅からイベントまでのバンでの移動手段の提供\n",
    "\n",
    "plan_routes メソッドの詳細は <a href=\"https://esri.github.io/arcgis-python-api/apidoc/html/arcgis.features.use_proximity.html?highlight=plan_routes#arcgis.features.use_proximity.plan_routes\">API リファレンス</a>をご参照ください。"
   ]
  },
  {
   "cell_type": "markdown",
   "metadata": {},
   "source": [
    "#### 入力パラメーターの準備\n",
    "\n",
    "`stops_layer` パラメーターは Feature Layer である必要があるので、入力データを別のフォーマットで準備する必要があります。"
   ]
  },
  {
   "cell_type": "code",
   "execution_count": 24,
   "metadata": {},
   "outputs": [
    {
     "data": {
      "text/plain": [
       "\"'Miami', 'Los Angeles', 'San Diego', 'San Jose', 'Phoenix', 'New Orleans', 'Orlando', 'El Paso', 'Houston', 'San Francisco'\""
      ]
     },
     "execution_count": 24,
     "metadata": {},
     "output_type": "execute_result"
    }
   ],
   "source": [
    "re_ordered_values = \"'\" + \"', '\".join(re_ordered_stops_cities) + \"'\"\n",
    "re_ordered_values"
   ]
  },
  {
   "cell_type": "code",
   "execution_count": 25,
   "metadata": {},
   "outputs": [],
   "source": [
    "stops_layer = {'url': sample_cities.layers[0].url, \n",
    "               'filter': \"ST in ('CA', 'NV', 'TX', 'AZ', 'LA', 'FL')  AND NAME IN ({0})\".format(re_ordered_values)}\n",
    "start_layer = {'url': sample_cities.layers[0].url, \n",
    "               'filter': \"ST = 'FL' AND NAME = 'Miami'\"}\n",
    "end_layer = {'url': sample_cities.layers[0].url, \n",
    "             'filter': \"NAME = 'San Francisco'\"}"
   ]
  },
  {
   "cell_type": "markdown",
   "metadata": {},
   "source": [
    "#### output_name を指定した場合\n",
    "\n",
    "`output_name` を指定すると、出力された Feature Layer Collection への参照が返却されます。返却されるフィーチャレイヤーには、次のものが含まれます。\n",
    "- 各ストップを訪れるための最短経路を示すレイヤー\n",
    "- パラメーターの設定によって到達できなかったストップを含む、経路に割り当てられたストップのレイヤー\n",
    "- 各経路の旅程を含む道順のレイヤー"
   ]
  },
  {
   "cell_type": "markdown",
   "metadata": {},
   "source": [
    "※ plan_routes メソッドの `travel_mode` パラメーターのデフォルト値は `Driving Time` ですが、[ArcGIS Online のプロフィール](https://doc.arcgis.com/ja/arcgis-online/get-started/profile.htm)の言語設定が日本語の場合、`運転時間`と日本語に置き換えて実行してください。"
   ]
  },
  {
   "cell_type": "code",
   "execution_count": 43,
   "metadata": {
    "scrolled": true
   },
   "outputs": [
    {
     "name": "stderr",
     "output_type": "stream",
     "text": [
      "Network elements with avoid-restrictions are traversed in the output (restriction attribute names: \"Through Traffic Prohibited\").\n"
     ]
    },
    {
     "name": "stdout",
     "output_type": "stream",
     "text": [
      "Wall time: 2min 5s\n"
     ]
    }
   ],
   "source": [
    "%%time\n",
    "\n",
    "\"\"\" using https://analysis7.arcgis.com/arcgis/rest/services/tasks/GPServer/PlanRoutes/submitJob\n",
    "\"\"\"\n",
    "result1 = use_proximity.plan_routes(stops_layer=stops_layer, route_count=1, \n",
    "                                    max_stops_per_route=10, route_start_time=start_time,\n",
    "                                    start_layer_route_id_field = \"FID\",\n",
    "                                    start_layer=start_layer, \n",
    "                                    end_layer=end_layer,\n",
    "                                    travel_mode='運転時間',\n",
    "                                    return_to_start=False,\n",
    "                                    context={'outSR': {\"wkid\": 4326}},\n",
    "                                    output_name=\"Plan Route from Miami to San Francisco 2a\",\n",
    "                                    gis=my_gis)"
   ]
  },
  {
   "cell_type": "code",
   "execution_count": 44,
   "metadata": {},
   "outputs": [
    {
     "data": {
      "text/html": [
       "<div class=\"item_container\" style=\"height: auto; overflow: hidden; border: 1px solid #cfcfcf; border-radius: 2px; background: #f6fafa; line-height: 1.21429em; padding: 10px;\">\n",
       "                    <div class=\"item_left\" style=\"width: 210px; float: left;\">\n",
       "                       <a href='https://ej.maps.arcgis.com/home/item.html?id=0e77deb3394d4029a214840111a58a6c' target='_blank'>\n",
       "                        <img src='http://static.arcgis.com/images/desktopapp.png' class=\"itemThumbnail\">\n",
       "                       </a>\n",
       "                    </div>\n",
       "\n",
       "                    <div class=\"item_right\"     style=\"float: none; width: auto; overflow: hidden;\">\n",
       "                        <a href='https://ej.maps.arcgis.com/home/item.html?id=0e77deb3394d4029a214840111a58a6c' target='_blank'><b>Plan Route from Miami to San Francisco 2a</b>\n",
       "                        </a>\n",
       "                        <br/><img src='https://ej.maps.arcgis.com/home/js/jsapi/esri/css/images/item_type_icons/featureshosted16.png' style=\"vertical-align:middle;\">Feature Layer Collection by Nakamura_Hiromu\n",
       "                        <br/>Last Modified: 6月 24, 2020\n",
       "                        <br/>0 comments, 0 views\n",
       "                    </div>\n",
       "                </div>\n",
       "                "
      ],
      "text/plain": [
       "<Item title:\"Plan Route from Miami to San Francisco 2a\" type:Feature Layer Collection owner:Nakamura_Hiromu>"
      ]
     },
     "execution_count": 44,
     "metadata": {},
     "output_type": "execute_result"
    }
   ],
   "source": [
    "result1"
   ]
  },
  {
   "cell_type": "code",
   "execution_count": 45,
   "metadata": {},
   "outputs": [
    {
     "data": {
      "text/plain": [
       "'https://services.arcgis.com/wlVTGRSYTzAbjjiC/arcgis/rest/services/Plan Route from Miami to San Francisco 2a/FeatureServer/1'"
      ]
     },
     "execution_count": 45,
     "metadata": {},
     "output_type": "execute_result"
    }
   ],
   "source": [
    "route_sublayer = FeatureLayer.fromitem(result1, layer_id=1)\n",
    "route_sublayer.url"
   ]
  },
  {
   "cell_type": "code",
   "execution_count": 46,
   "metadata": {
    "scrolled": true
   },
   "outputs": [
    {
     "data": {
      "text/html": [
       "<div>\n",
       "<style scoped>\n",
       "    .dataframe tbody tr th:only-of-type {\n",
       "        vertical-align: middle;\n",
       "    }\n",
       "\n",
       "    .dataframe tbody tr th {\n",
       "        vertical-align: top;\n",
       "    }\n",
       "\n",
       "    .dataframe thead th {\n",
       "        text-align: right;\n",
       "    }\n",
       "</style>\n",
       "<table border=\"1\" class=\"dataframe\">\n",
       "  <thead>\n",
       "    <tr style=\"text-align: right;\">\n",
       "      <th></th>\n",
       "      <th>OBJECTID</th>\n",
       "      <th>RouteName</th>\n",
       "      <th>StopCount</th>\n",
       "      <th>TotalTime</th>\n",
       "      <th>TotalStopServiceTime</th>\n",
       "      <th>TotalTravelTime</th>\n",
       "      <th>Total_Miles</th>\n",
       "      <th>StartTime</th>\n",
       "      <th>EndTime</th>\n",
       "      <th>StartTimeUTC</th>\n",
       "      <th>EndTimeUTC</th>\n",
       "      <th>RouteLayerItemID</th>\n",
       "      <th>RouteLayerItemURL</th>\n",
       "      <th>Total_Kilometers</th>\n",
       "      <th>SHAPE</th>\n",
       "    </tr>\n",
       "  </thead>\n",
       "  <tbody>\n",
       "    <tr>\n",
       "      <td>0</td>\n",
       "      <td>1</td>\n",
       "      <td>Miami - San Francisco - Route1</td>\n",
       "      <td>10</td>\n",
       "      <td>3020.268125</td>\n",
       "      <td>0</td>\n",
       "      <td>3020.268125</td>\n",
       "      <td>3282.076829</td>\n",
       "      <td>2020-06-24 00:14:54</td>\n",
       "      <td>2020-06-25 23:35:10</td>\n",
       "      <td>2020-06-24 04:14:54</td>\n",
       "      <td>2020-06-26 06:35:10</td>\n",
       "      <td>None</td>\n",
       "      <td>None</td>\n",
       "      <td>5281.977523</td>\n",
       "      <td>{\"paths\": [[[-8930153.5818, 2969499.7754], [-8...</td>\n",
       "    </tr>\n",
       "  </tbody>\n",
       "</table>\n",
       "</div>"
      ],
      "text/plain": [
       "   OBJECTID                       RouteName  StopCount    TotalTime  \\\n",
       "0         1  Miami - San Francisco - Route1         10  3020.268125   \n",
       "\n",
       "   TotalStopServiceTime  TotalTravelTime  Total_Miles           StartTime  \\\n",
       "0                     0      3020.268125  3282.076829 2020-06-24 00:14:54   \n",
       "\n",
       "              EndTime        StartTimeUTC          EndTimeUTC  \\\n",
       "0 2020-06-25 23:35:10 2020-06-24 04:14:54 2020-06-26 06:35:10   \n",
       "\n",
       "  RouteLayerItemID RouteLayerItemURL  Total_Kilometers  \\\n",
       "0             None              None       5281.977523   \n",
       "\n",
       "                                               SHAPE  \n",
       "0  {\"paths\": [[[-8930153.5818, 2969499.7754], [-8...  "
      ]
     },
     "execution_count": 46,
     "metadata": {},
     "output_type": "execute_result"
    }
   ],
   "source": [
    "route_sublayer.query(where='1=1', as_df=True)"
   ]
  },
  {
   "cell_type": "markdown",
   "metadata": {},
   "source": [
    "上記のテーブルからマイアミからサンフランシスコまでの推定移動距離は 5281.977 km、推定移動時間は 3020.268 分（約 50.337 時間）であることがわかります。"
   ]
  },
  {
   "cell_type": "code",
   "execution_count": 7,
   "metadata": {},
   "outputs": [
    {
     "data": {
      "application/vnd.jupyter.widget-view+json": {
       "model_id": "f283b1d254884800a49e607e7d11cb52",
       "version_major": 2,
       "version_minor": 0
      },
      "text/plain": [
       "MapView(layout=Layout(height='400px', width='100%'))"
      ]
     },
     "metadata": {},
     "output_type": "display_data"
    },
    {
     "data": {
      "text/html": [
       "<div class=\"map-static-img-preview-17a41ca8-f353-4e8d-be71-51e9f854d248\"><img src=\"\"></img></div>"
      ],
      "text/plain": [
       "<IPython.core.display.HTML object>"
      ]
     },
     "metadata": {},
     "output_type": "display_data"
    }
   ],
   "source": [
    "map2a = my_gis.map('Texas, USA', zoomlevel=4)\n",
    "map2a"
   ]
  },
  {
   "cell_type": "code",
   "execution_count": 8,
   "metadata": {},
   "outputs": [],
   "source": [
    "map2a.add_layer(result1)"
   ]
  },
  {
   "cell_type": "markdown",
   "metadata": {},
   "source": [
    "ここまでで、フィーチャ サービス (入力) からフィーチャ サービス (出力) のワークフローがどのようなものかについて確認しました。ここからは異なるアプローチ、すなわち引数で出力名を指定しない場合について確認してみましょう。"
   ]
  },
  {
   "cell_type": "markdown",
   "metadata": {},
   "source": [
    "#### output_name を指定しなかった場合\n",
    "\n",
    "`output_name` が指定されていない場合は、dict オブジェクトを返します。"
   ]
  },
  {
   "cell_type": "markdown",
   "metadata": {},
   "source": [
    "※ plan_routes メソッドの `travel_mode` パラメーターのデフォルト値は `Driving Time` ですが、[ArcGIS Online のプロフィール](https://doc.arcgis.com/ja/arcgis-online/get-started/profile.htm)の言語設定が日本語の場合、`運転時間`と日本語に置き換えて実行してください。"
   ]
  },
  {
   "cell_type": "code",
   "execution_count": 48,
   "metadata": {},
   "outputs": [
    {
     "name": "stderr",
     "output_type": "stream",
     "text": [
      "Network elements with avoid-restrictions are traversed in the output (restriction attribute names: \"Through Traffic Prohibited\").\n"
     ]
    },
    {
     "name": "stdout",
     "output_type": "stream",
     "text": [
      "Wall time: 1min 40s\n"
     ]
    }
   ],
   "source": [
    "%%time\n",
    "\n",
    "\"\"\" using https://analysis7.arcgis.com/arcgis/rest/services/tasks/GPServer/PlanRoutes/submitJob\n",
    "\"\"\"\n",
    "result1 = use_proximity.plan_routes(stops_layer=stops_layer, route_count=1,\n",
    "                                    max_stops_per_route=10, route_start_time=start_time,\n",
    "                                    start_layer_route_id_field = \"FID\",\n",
    "                                    start_layer=start_layer,\n",
    "                                    end_layer=end_layer,\n",
    "                                    travel_mode='運転時間',\n",
    "                                    return_to_start=False,\n",
    "                                    context={'outSR': {\"wkid\": 4326}},\n",
    "                                    gis=my_gis)"
   ]
  },
  {
   "cell_type": "markdown",
   "metadata": {},
   "source": [
    "返却される辞書には、`routes_layer` と `assigned_stops_layer` の2つの要素が含まれています。"
   ]
  },
  {
   "cell_type": "code",
   "execution_count": 49,
   "metadata": {},
   "outputs": [
    {
     "data": {
      "text/plain": [
       "dict_keys(['routes_layer', 'assigned_stops_layer'])"
      ]
     },
     "execution_count": 49,
     "metadata": {},
     "output_type": "execute_result"
    }
   ],
   "source": [
    "result1.keys()"
   ]
  },
  {
   "cell_type": "code",
   "execution_count": 50,
   "metadata": {},
   "outputs": [
    {
     "data": {
      "text/plain": [
       "(arcgis.features.feature.FeatureCollection,\n",
       " arcgis.features.feature.FeatureCollection)"
      ]
     },
     "execution_count": 50,
     "metadata": {},
     "output_type": "execute_result"
    }
   ],
   "source": [
    "type(result1['routes_layer']), type(result1['assigned_stops_layer'])"
   ]
  },
  {
   "cell_type": "markdown",
   "metadata": {},
   "source": [
    "解析結果を要約するために `routes_layer` から Pandas のデータフレームを作成することができます。下のセルでは、\"Miami to San Francisco \"というルートで 10 回のストップが行われ、合計時間と距離が指定されていることがわかります。"
   ]
  },
  {
   "cell_type": "code",
   "execution_count": 51,
   "metadata": {},
   "outputs": [
    {
     "data": {
      "text/html": [
       "<div>\n",
       "<style scoped>\n",
       "    .dataframe tbody tr th:only-of-type {\n",
       "        vertical-align: middle;\n",
       "    }\n",
       "\n",
       "    .dataframe tbody tr th {\n",
       "        vertical-align: top;\n",
       "    }\n",
       "\n",
       "    .dataframe thead th {\n",
       "        text-align: right;\n",
       "    }\n",
       "</style>\n",
       "<table border=\"1\" class=\"dataframe\">\n",
       "  <thead>\n",
       "    <tr style=\"text-align: right;\">\n",
       "      <th></th>\n",
       "      <th>RouteName</th>\n",
       "      <th>StopCount</th>\n",
       "      <th>TotalTime</th>\n",
       "      <th>Total_Kilometers</th>\n",
       "    </tr>\n",
       "  </thead>\n",
       "  <tbody>\n",
       "    <tr>\n",
       "      <td>0</td>\n",
       "      <td>Miami - San Francisco - Route1</td>\n",
       "      <td>10</td>\n",
       "      <td>3020.268125</td>\n",
       "      <td>5281.977523</td>\n",
       "    </tr>\n",
       "  </tbody>\n",
       "</table>\n",
       "</div>"
      ],
      "text/plain": [
       "                        RouteName  StopCount    TotalTime  Total_Kilometers\n",
       "0  Miami - San Francisco - Route1         10  3020.268125       5281.977523"
      ]
     },
     "execution_count": 51,
     "metadata": {},
     "output_type": "execute_result"
    }
   ],
   "source": [
    "df = result1['routes_layer'].query().sdf\n",
    "df[['RouteName', 'StopCount', 'TotalTime', 'Total_Kilometers']]"
   ]
  },
  {
   "cell_type": "markdown",
   "metadata": {},
   "source": [
    "ルート上のストップを確認するためには、`assigned_stops_layer`を利用して、Pandas のデータフレームオブジェクトに変換します。"
   ]
  },
  {
   "cell_type": "code",
   "execution_count": 52,
   "metadata": {},
   "outputs": [
    {
     "data": {
      "text/html": [
       "<div>\n",
       "<style scoped>\n",
       "    .dataframe tbody tr th:only-of-type {\n",
       "        vertical-align: middle;\n",
       "    }\n",
       "\n",
       "    .dataframe tbody tr th {\n",
       "        vertical-align: top;\n",
       "    }\n",
       "\n",
       "    .dataframe thead th {\n",
       "        text-align: right;\n",
       "    }\n",
       "</style>\n",
       "<table border=\"1\" class=\"dataframe\">\n",
       "  <thead>\n",
       "    <tr style=\"text-align: right;\">\n",
       "      <th></th>\n",
       "      <th>OID</th>\n",
       "      <th>NAME</th>\n",
       "      <th>ST</th>\n",
       "      <th>PLACEFIPS</th>\n",
       "      <th>RouteName</th>\n",
       "      <th>StopType</th>\n",
       "      <th>Sequence</th>\n",
       "      <th>ArriveTime</th>\n",
       "      <th>DepartTime</th>\n",
       "      <th>FromPrevDistanceKilometers</th>\n",
       "    </tr>\n",
       "  </thead>\n",
       "  <tbody>\n",
       "    <tr>\n",
       "      <td>0</td>\n",
       "      <td>1</td>\n",
       "      <td>None</td>\n",
       "      <td>None</td>\n",
       "      <td>None</td>\n",
       "      <td>Miami - San Francisco - Route1</td>\n",
       "      <td>Route start</td>\n",
       "      <td>1</td>\n",
       "      <td>2020-06-24 00:14:54.000000000</td>\n",
       "      <td>2020-06-24 00:14:54.000000000</td>\n",
       "      <td>0.000000</td>\n",
       "    </tr>\n",
       "    <tr>\n",
       "      <td>1</td>\n",
       "      <td>2</td>\n",
       "      <td>Miami</td>\n",
       "      <td>FL</td>\n",
       "      <td>1245000</td>\n",
       "      <td>Miami - San Francisco - Route1</td>\n",
       "      <td>Stop</td>\n",
       "      <td>2</td>\n",
       "      <td>2020-06-24 00:14:54.000000000</td>\n",
       "      <td>2020-06-24 00:14:54.000000000</td>\n",
       "      <td>0.000000</td>\n",
       "    </tr>\n",
       "    <tr>\n",
       "      <td>2</td>\n",
       "      <td>3</td>\n",
       "      <td>Orlando</td>\n",
       "      <td>FL</td>\n",
       "      <td>1253000</td>\n",
       "      <td>Miami - San Francisco - Route1</td>\n",
       "      <td>Stop</td>\n",
       "      <td>3</td>\n",
       "      <td>2020-06-24 04:06:38.114000082</td>\n",
       "      <td>2020-06-24 04:06:38.114000082</td>\n",
       "      <td>385.806009</td>\n",
       "    </tr>\n",
       "    <tr>\n",
       "      <td>3</td>\n",
       "      <td>4</td>\n",
       "      <td>New Orleans</td>\n",
       "      <td>LA</td>\n",
       "      <td>2255000</td>\n",
       "      <td>Miami - San Francisco - Route1</td>\n",
       "      <td>Stop</td>\n",
       "      <td>4</td>\n",
       "      <td>2020-06-24 12:26:24.861000061</td>\n",
       "      <td>2020-06-24 12:26:24.861000061</td>\n",
       "      <td>1028.402098</td>\n",
       "    </tr>\n",
       "    <tr>\n",
       "      <td>4</td>\n",
       "      <td>5</td>\n",
       "      <td>Houston</td>\n",
       "      <td>TX</td>\n",
       "      <td>4835000</td>\n",
       "      <td>Miami - San Francisco - Route1</td>\n",
       "      <td>Stop</td>\n",
       "      <td>5</td>\n",
       "      <td>2020-06-24 17:56:30.755000114</td>\n",
       "      <td>2020-06-24 17:56:30.755000114</td>\n",
       "      <td>560.404510</td>\n",
       "    </tr>\n",
       "    <tr>\n",
       "      <td>5</td>\n",
       "      <td>6</td>\n",
       "      <td>El Paso</td>\n",
       "      <td>TX</td>\n",
       "      <td>4824000</td>\n",
       "      <td>Miami - San Francisco - Route1</td>\n",
       "      <td>Stop</td>\n",
       "      <td>6</td>\n",
       "      <td>2020-06-25 03:38:12.240000010</td>\n",
       "      <td>2020-06-25 03:38:12.240000010</td>\n",
       "      <td>1203.451638</td>\n",
       "    </tr>\n",
       "    <tr>\n",
       "      <td>6</td>\n",
       "      <td>7</td>\n",
       "      <td>Phoenix</td>\n",
       "      <td>AZ</td>\n",
       "      <td>0455000</td>\n",
       "      <td>Miami - San Francisco - Route1</td>\n",
       "      <td>Stop</td>\n",
       "      <td>7</td>\n",
       "      <td>2020-06-25 08:55:02.710999966</td>\n",
       "      <td>2020-06-25 08:55:02.710999966</td>\n",
       "      <td>691.824334</td>\n",
       "    </tr>\n",
       "    <tr>\n",
       "      <td>7</td>\n",
       "      <td>8</td>\n",
       "      <td>San Diego</td>\n",
       "      <td>CA</td>\n",
       "      <td>0666000</td>\n",
       "      <td>Miami - San Francisco - Route1</td>\n",
       "      <td>Stop</td>\n",
       "      <td>8</td>\n",
       "      <td>2020-06-25 14:26:51.325999975</td>\n",
       "      <td>2020-06-25 14:26:51.325999975</td>\n",
       "      <td>570.867483</td>\n",
       "    </tr>\n",
       "    <tr>\n",
       "      <td>8</td>\n",
       "      <td>9</td>\n",
       "      <td>Los Angeles</td>\n",
       "      <td>CA</td>\n",
       "      <td>0644000</td>\n",
       "      <td>Miami - San Francisco - Route1</td>\n",
       "      <td>Stop</td>\n",
       "      <td>9</td>\n",
       "      <td>2020-06-25 16:56:09.930000067</td>\n",
       "      <td>2020-06-25 16:56:09.930000067</td>\n",
       "      <td>206.452763</td>\n",
       "    </tr>\n",
       "    <tr>\n",
       "      <td>9</td>\n",
       "      <td>10</td>\n",
       "      <td>San Jose</td>\n",
       "      <td>CA</td>\n",
       "      <td>0668000</td>\n",
       "      <td>Miami - San Francisco - Route1</td>\n",
       "      <td>Stop</td>\n",
       "      <td>10</td>\n",
       "      <td>2020-06-25 22:27:56.319000006</td>\n",
       "      <td>2020-06-25 22:27:56.319000006</td>\n",
       "      <td>547.476419</td>\n",
       "    </tr>\n",
       "    <tr>\n",
       "      <td>10</td>\n",
       "      <td>11</td>\n",
       "      <td>San Francisco</td>\n",
       "      <td>CA</td>\n",
       "      <td>0667000</td>\n",
       "      <td>Miami - San Francisco - Route1</td>\n",
       "      <td>Stop</td>\n",
       "      <td>11</td>\n",
       "      <td>2020-06-25 23:35:10.086999893</td>\n",
       "      <td>2020-06-25 23:35:10.086999893</td>\n",
       "      <td>87.292270</td>\n",
       "    </tr>\n",
       "    <tr>\n",
       "      <td>11</td>\n",
       "      <td>12</td>\n",
       "      <td>None</td>\n",
       "      <td>None</td>\n",
       "      <td>None</td>\n",
       "      <td>Miami - San Francisco - Route1</td>\n",
       "      <td>Route end</td>\n",
       "      <td>12</td>\n",
       "      <td>2020-06-25 23:35:10.086999893</td>\n",
       "      <td>2020-06-25 23:35:10.086999893</td>\n",
       "      <td>0.000000</td>\n",
       "    </tr>\n",
       "  </tbody>\n",
       "</table>\n",
       "</div>"
      ],
      "text/plain": [
       "    OID           NAME    ST PLACEFIPS                       RouteName  \\\n",
       "0     1           None  None      None  Miami - San Francisco - Route1   \n",
       "1     2          Miami    FL   1245000  Miami - San Francisco - Route1   \n",
       "2     3        Orlando    FL   1253000  Miami - San Francisco - Route1   \n",
       "3     4    New Orleans    LA   2255000  Miami - San Francisco - Route1   \n",
       "4     5        Houston    TX   4835000  Miami - San Francisco - Route1   \n",
       "5     6        El Paso    TX   4824000  Miami - San Francisco - Route1   \n",
       "6     7        Phoenix    AZ   0455000  Miami - San Francisco - Route1   \n",
       "7     8      San Diego    CA   0666000  Miami - San Francisco - Route1   \n",
       "8     9    Los Angeles    CA   0644000  Miami - San Francisco - Route1   \n",
       "9    10       San Jose    CA   0668000  Miami - San Francisco - Route1   \n",
       "10   11  San Francisco    CA   0667000  Miami - San Francisco - Route1   \n",
       "11   12           None  None      None  Miami - San Francisco - Route1   \n",
       "\n",
       "       StopType  Sequence                    ArriveTime  \\\n",
       "0   Route start         1 2020-06-24 00:14:54.000000000   \n",
       "1          Stop         2 2020-06-24 00:14:54.000000000   \n",
       "2          Stop         3 2020-06-24 04:06:38.114000082   \n",
       "3          Stop         4 2020-06-24 12:26:24.861000061   \n",
       "4          Stop         5 2020-06-24 17:56:30.755000114   \n",
       "5          Stop         6 2020-06-25 03:38:12.240000010   \n",
       "6          Stop         7 2020-06-25 08:55:02.710999966   \n",
       "7          Stop         8 2020-06-25 14:26:51.325999975   \n",
       "8          Stop         9 2020-06-25 16:56:09.930000067   \n",
       "9          Stop        10 2020-06-25 22:27:56.319000006   \n",
       "10         Stop        11 2020-06-25 23:35:10.086999893   \n",
       "11    Route end        12 2020-06-25 23:35:10.086999893   \n",
       "\n",
       "                      DepartTime  FromPrevDistanceKilometers  \n",
       "0  2020-06-24 00:14:54.000000000                    0.000000  \n",
       "1  2020-06-24 00:14:54.000000000                    0.000000  \n",
       "2  2020-06-24 04:06:38.114000082                  385.806009  \n",
       "3  2020-06-24 12:26:24.861000061                 1028.402098  \n",
       "4  2020-06-24 17:56:30.755000114                  560.404510  \n",
       "5  2020-06-25 03:38:12.240000010                 1203.451638  \n",
       "6  2020-06-25 08:55:02.710999966                  691.824334  \n",
       "7  2020-06-25 14:26:51.325999975                  570.867483  \n",
       "8  2020-06-25 16:56:09.930000067                  206.452763  \n",
       "9  2020-06-25 22:27:56.319000006                  547.476419  \n",
       "10 2020-06-25 23:35:10.086999893                   87.292270  \n",
       "11 2020-06-25 23:35:10.086999893                    0.000000  "
      ]
     },
     "execution_count": 52,
     "metadata": {},
     "output_type": "execute_result"
    }
   ],
   "source": [
    "df2 = result1['assigned_stops_layer'].query().sdf\n",
    "df2[['OID', 'NAME', 'ST', 'PLACEFIPS', 'RouteName', 'StopType', 'Sequence', \\\n",
    "     'ArriveTime', 'DepartTime', 'FromPrevDistanceKilometers']]"
   ]
  },
  {
   "cell_type": "markdown",
   "metadata": {},
   "source": [
    "到着時間を表示し、整理するために、以下のセルを実行してパースします。"
   ]
  },
  {
   "cell_type": "code",
   "execution_count": 64,
   "metadata": {
    "scrolled": true
   },
   "outputs": [],
   "source": [
    "my_df = df2[['OID', 'NAME', 'ST', 'PLACEFIPS', 'RouteName', 'StopType', 'Sequence', \\\n",
    "             'ArriveTimeUTC', 'DepartTimeUTC', 'FromPrevDistanceKilometers']]\n",
    "end_times = pd.to_datetime(df2['ArriveTimeUTC'])\n",
    "my_df[\"ArriveTimeUTC\"] = end_times.apply(lambda x: x.strftime(\"%m-%d %H:%M:%S\"))\n",
    "start_times = pd.to_datetime(df2['DepartTimeUTC'])\n",
    "my_df[\"DepartTimeUTC\"] = start_times.apply(lambda x: x.strftime(\"%m-%d %H:%M:%S\"))\n",
    "my_df['Sequence'] = df2['Sequence'].apply(lambda x: int(x))\n",
    "my_df.sort_values('Sequence', inplace=True, ascending=True)"
   ]
  },
  {
   "cell_type": "code",
   "execution_count": 65,
   "metadata": {},
   "outputs": [
    {
     "data": {
      "text/html": [
       "<div>\n",
       "<style scoped>\n",
       "    .dataframe tbody tr th:only-of-type {\n",
       "        vertical-align: middle;\n",
       "    }\n",
       "\n",
       "    .dataframe tbody tr th {\n",
       "        vertical-align: top;\n",
       "    }\n",
       "\n",
       "    .dataframe thead th {\n",
       "        text-align: right;\n",
       "    }\n",
       "</style>\n",
       "<table border=\"1\" class=\"dataframe\">\n",
       "  <thead>\n",
       "    <tr style=\"text-align: right;\">\n",
       "      <th></th>\n",
       "      <th>OID</th>\n",
       "      <th>NAME</th>\n",
       "      <th>ST</th>\n",
       "      <th>PLACEFIPS</th>\n",
       "      <th>RouteName</th>\n",
       "      <th>StopType</th>\n",
       "      <th>Sequence</th>\n",
       "      <th>ArriveTimeUTC</th>\n",
       "      <th>DepartTimeUTC</th>\n",
       "      <th>FromPrevDistanceKilometers</th>\n",
       "    </tr>\n",
       "  </thead>\n",
       "  <tbody>\n",
       "    <tr>\n",
       "      <td>0</td>\n",
       "      <td>1</td>\n",
       "      <td>None</td>\n",
       "      <td>None</td>\n",
       "      <td>None</td>\n",
       "      <td>Miami - San Francisco - Route1</td>\n",
       "      <td>Route start</td>\n",
       "      <td>1</td>\n",
       "      <td>06-24 04:14:54</td>\n",
       "      <td>2020-06-24 04:14:54.000000000</td>\n",
       "      <td>0.000000</td>\n",
       "    </tr>\n",
       "    <tr>\n",
       "      <td>1</td>\n",
       "      <td>2</td>\n",
       "      <td>Miami</td>\n",
       "      <td>FL</td>\n",
       "      <td>1245000</td>\n",
       "      <td>Miami - San Francisco - Route1</td>\n",
       "      <td>Stop</td>\n",
       "      <td>2</td>\n",
       "      <td>06-24 04:14:54</td>\n",
       "      <td>2020-06-24 04:14:54.000000000</td>\n",
       "      <td>0.000000</td>\n",
       "    </tr>\n",
       "    <tr>\n",
       "      <td>2</td>\n",
       "      <td>3</td>\n",
       "      <td>Orlando</td>\n",
       "      <td>FL</td>\n",
       "      <td>1253000</td>\n",
       "      <td>Miami - San Francisco - Route1</td>\n",
       "      <td>Stop</td>\n",
       "      <td>3</td>\n",
       "      <td>06-24 08:06:38</td>\n",
       "      <td>2020-06-24 08:06:38.114000082</td>\n",
       "      <td>385.806009</td>\n",
       "    </tr>\n",
       "    <tr>\n",
       "      <td>3</td>\n",
       "      <td>4</td>\n",
       "      <td>New Orleans</td>\n",
       "      <td>LA</td>\n",
       "      <td>2255000</td>\n",
       "      <td>Miami - San Francisco - Route1</td>\n",
       "      <td>Stop</td>\n",
       "      <td>4</td>\n",
       "      <td>06-24 17:26:24</td>\n",
       "      <td>2020-06-24 17:26:24.861000061</td>\n",
       "      <td>1028.402098</td>\n",
       "    </tr>\n",
       "    <tr>\n",
       "      <td>4</td>\n",
       "      <td>5</td>\n",
       "      <td>Houston</td>\n",
       "      <td>TX</td>\n",
       "      <td>4835000</td>\n",
       "      <td>Miami - San Francisco - Route1</td>\n",
       "      <td>Stop</td>\n",
       "      <td>5</td>\n",
       "      <td>06-24 22:56:30</td>\n",
       "      <td>2020-06-24 22:56:30.755000114</td>\n",
       "      <td>560.404510</td>\n",
       "    </tr>\n",
       "    <tr>\n",
       "      <td>5</td>\n",
       "      <td>6</td>\n",
       "      <td>El Paso</td>\n",
       "      <td>TX</td>\n",
       "      <td>4824000</td>\n",
       "      <td>Miami - San Francisco - Route1</td>\n",
       "      <td>Stop</td>\n",
       "      <td>6</td>\n",
       "      <td>06-25 09:38:12</td>\n",
       "      <td>2020-06-25 09:38:12.240000010</td>\n",
       "      <td>1203.451638</td>\n",
       "    </tr>\n",
       "    <tr>\n",
       "      <td>6</td>\n",
       "      <td>7</td>\n",
       "      <td>Phoenix</td>\n",
       "      <td>AZ</td>\n",
       "      <td>0455000</td>\n",
       "      <td>Miami - San Francisco - Route1</td>\n",
       "      <td>Stop</td>\n",
       "      <td>7</td>\n",
       "      <td>06-25 15:55:02</td>\n",
       "      <td>2020-06-25 15:55:02.710999966</td>\n",
       "      <td>691.824334</td>\n",
       "    </tr>\n",
       "    <tr>\n",
       "      <td>7</td>\n",
       "      <td>8</td>\n",
       "      <td>San Diego</td>\n",
       "      <td>CA</td>\n",
       "      <td>0666000</td>\n",
       "      <td>Miami - San Francisco - Route1</td>\n",
       "      <td>Stop</td>\n",
       "      <td>8</td>\n",
       "      <td>06-25 21:26:51</td>\n",
       "      <td>2020-06-25 21:26:51.325999975</td>\n",
       "      <td>570.867483</td>\n",
       "    </tr>\n",
       "    <tr>\n",
       "      <td>8</td>\n",
       "      <td>9</td>\n",
       "      <td>Los Angeles</td>\n",
       "      <td>CA</td>\n",
       "      <td>0644000</td>\n",
       "      <td>Miami - San Francisco - Route1</td>\n",
       "      <td>Stop</td>\n",
       "      <td>9</td>\n",
       "      <td>06-25 23:56:09</td>\n",
       "      <td>2020-06-25 23:56:09.930000067</td>\n",
       "      <td>206.452763</td>\n",
       "    </tr>\n",
       "    <tr>\n",
       "      <td>9</td>\n",
       "      <td>10</td>\n",
       "      <td>San Jose</td>\n",
       "      <td>CA</td>\n",
       "      <td>0668000</td>\n",
       "      <td>Miami - San Francisco - Route1</td>\n",
       "      <td>Stop</td>\n",
       "      <td>10</td>\n",
       "      <td>06-26 05:27:56</td>\n",
       "      <td>2020-06-26 05:27:56.319000006</td>\n",
       "      <td>547.476419</td>\n",
       "    </tr>\n",
       "    <tr>\n",
       "      <td>10</td>\n",
       "      <td>11</td>\n",
       "      <td>San Francisco</td>\n",
       "      <td>CA</td>\n",
       "      <td>0667000</td>\n",
       "      <td>Miami - San Francisco - Route1</td>\n",
       "      <td>Stop</td>\n",
       "      <td>11</td>\n",
       "      <td>06-26 06:35:10</td>\n",
       "      <td>2020-06-26 06:35:10.086999893</td>\n",
       "      <td>87.292270</td>\n",
       "    </tr>\n",
       "    <tr>\n",
       "      <td>11</td>\n",
       "      <td>12</td>\n",
       "      <td>None</td>\n",
       "      <td>None</td>\n",
       "      <td>None</td>\n",
       "      <td>Miami - San Francisco - Route1</td>\n",
       "      <td>Route end</td>\n",
       "      <td>12</td>\n",
       "      <td>06-26 06:35:10</td>\n",
       "      <td>2020-06-26 06:35:10.086999893</td>\n",
       "      <td>0.000000</td>\n",
       "    </tr>\n",
       "  </tbody>\n",
       "</table>\n",
       "</div>"
      ],
      "text/plain": [
       "    OID           NAME    ST PLACEFIPS                       RouteName  \\\n",
       "0     1           None  None      None  Miami - San Francisco - Route1   \n",
       "1     2          Miami    FL   1245000  Miami - San Francisco - Route1   \n",
       "2     3        Orlando    FL   1253000  Miami - San Francisco - Route1   \n",
       "3     4    New Orleans    LA   2255000  Miami - San Francisco - Route1   \n",
       "4     5        Houston    TX   4835000  Miami - San Francisco - Route1   \n",
       "5     6        El Paso    TX   4824000  Miami - San Francisco - Route1   \n",
       "6     7        Phoenix    AZ   0455000  Miami - San Francisco - Route1   \n",
       "7     8      San Diego    CA   0666000  Miami - San Francisco - Route1   \n",
       "8     9    Los Angeles    CA   0644000  Miami - San Francisco - Route1   \n",
       "9    10       San Jose    CA   0668000  Miami - San Francisco - Route1   \n",
       "10   11  San Francisco    CA   0667000  Miami - San Francisco - Route1   \n",
       "11   12           None  None      None  Miami - San Francisco - Route1   \n",
       "\n",
       "       StopType  Sequence   ArriveTimeUTC                 DepartTimeUTC  \\\n",
       "0   Route start         1  06-24 04:14:54 2020-06-24 04:14:54.000000000   \n",
       "1          Stop         2  06-24 04:14:54 2020-06-24 04:14:54.000000000   \n",
       "2          Stop         3  06-24 08:06:38 2020-06-24 08:06:38.114000082   \n",
       "3          Stop         4  06-24 17:26:24 2020-06-24 17:26:24.861000061   \n",
       "4          Stop         5  06-24 22:56:30 2020-06-24 22:56:30.755000114   \n",
       "5          Stop         6  06-25 09:38:12 2020-06-25 09:38:12.240000010   \n",
       "6          Stop         7  06-25 15:55:02 2020-06-25 15:55:02.710999966   \n",
       "7          Stop         8  06-25 21:26:51 2020-06-25 21:26:51.325999975   \n",
       "8          Stop         9  06-25 23:56:09 2020-06-25 23:56:09.930000067   \n",
       "9          Stop        10  06-26 05:27:56 2020-06-26 05:27:56.319000006   \n",
       "10         Stop        11  06-26 06:35:10 2020-06-26 06:35:10.086999893   \n",
       "11    Route end        12  06-26 06:35:10 2020-06-26 06:35:10.086999893   \n",
       "\n",
       "    FromPrevDistanceKilometers  \n",
       "0                     0.000000  \n",
       "1                     0.000000  \n",
       "2                   385.806009  \n",
       "3                  1028.402098  \n",
       "4                   560.404510  \n",
       "5                  1203.451638  \n",
       "6                   691.824334  \n",
       "7                   570.867483  \n",
       "8                   206.452763  \n",
       "9                   547.476419  \n",
       "10                   87.292270  \n",
       "11                    0.000000  "
      ]
     },
     "execution_count": 65,
     "metadata": {},
     "output_type": "execute_result"
    }
   ],
   "source": [
    "my_df"
   ]
  },
  {
   "cell_type": "markdown",
   "metadata": {},
   "source": [
    "上の表から、もしマイアミを `00:14:30 AM`（EST）、つまり月曜日の `04:14:54 AM`（UTC）に出発した場合、サンフランシスコへの到着予定時刻は `23:35:10 PM`（PST）、つまり`06:35:10 AM`（UTC）になることがわかります。"
   ]
  },
  {
   "cell_type": "code",
   "execution_count": 67,
   "metadata": {},
   "outputs": [
    {
     "data": {
      "application/vnd.jupyter.widget-view+json": {
       "model_id": "0477548b90834b9f9715c12b8b6560ea",
       "version_major": 2,
       "version_minor": 0
      },
      "text/plain": [
       "MapView(layout=Layout(height='400px', width='100%'))"
      ]
     },
     "metadata": {},
     "output_type": "display_data"
    },
    {
     "data": {
      "text/html": [
       "<div class=\"map-static-img-preview-4a53532e-a694-4732-8cf4-bdcc81930881\"><img src=\"\"></img></div>"
      ],
      "text/plain": [
       "<IPython.core.display.HTML object>"
      ]
     },
     "metadata": {},
     "output_type": "display_data"
    }
   ],
   "source": [
    "map2 = my_gis.map('Texas, USA', zoomlevel=4)\n",
    "map2"
   ]
  },
  {
   "cell_type": "code",
   "execution_count": 70,
   "metadata": {},
   "outputs": [
    {
     "name": "stdout",
     "output_type": "stream",
     "text": [
      "1620 SW 13th St, Miami, Florida, 33145\n",
      "1620 SW 13th St, Miami, Florida, 33145\n",
      "East-West Expy, Orlando, Florida, 32801\n",
      "302-330 Loyola Ave, New Orleans, Louisiana, 70112\n",
      "900 Louisiana St, Houston, Texas, 77002\n",
      "113 Mesa, El Paso, Texas, 79901\n",
      "124 S Central Ave, Phoenix, Arizona, 85004\n",
      "Pershing Dr, San Diego, California, 92101\n",
      "1521 Cambria St, Los Angeles, California, 90017\n",
      "51 N 6th St, San Jose, California, 95112\n",
      "550-560 Buena Vista Ave W, San Francisco, California, 94117\n",
      "550-560 Buena Vista Ave W, San Francisco, California, 94117\n"
     ]
    }
   ],
   "source": [
    "\"\"\" ルートとストップをカスタマイズしたスタイル、シンボル、ポップアップで描画\n",
    "\"\"\"\n",
    "for route in result1['routes_layer'].query():\n",
    "    map2.draw(route.geometry, popup_route, route_symbol)\n",
    "\n",
    "sequence = 1\n",
    "for stop in result1['assigned_stops_layer'].query():\n",
    "    if stop.attributes['StopType']==\"Route start\":\n",
    "        # starting point\n",
    "        symbol = start_symbol\n",
    "    elif stop.attributes['StopType']==\"Route end\":\n",
    "        # ending point\n",
    "        symbol = end_symbol\n",
    "    else:\n",
    "        # by-passing point\n",
    "        symbol = stops_symbol\n",
    "        \n",
    "    address = geocoding.reverse_geocode(stop.geometry)['address']['Match_addr']\n",
    "    print(address)\n",
    "    map2.draw(stop.geometry, \n",
    "              {\"title\": \"Stop {}\".format(sequence), \n",
    "               \"content\": address},\n",
    "              symbol)\n",
    "    sequence+=1"
   ]
  },
  {
   "cell_type": "markdown",
   "metadata": {},
   "source": [
    "上のセル出力から、都市から都市へのルーティングを行っているにもかかわらず、解析の実際のロジックは、ルートが計算される前に都市の特定の住所を取得していることがわかります。"
   ]
  },
  {
   "cell_type": "code",
   "execution_count": 74,
   "metadata": {},
   "outputs": [],
   "source": [
    "item_properties[\"title\"] = \"Miami - San Francisco (3)\"\n",
    "\n",
    "item = map2.save(item_properties)"
   ]
  },
  {
   "cell_type": "code",
   "execution_count": 75,
   "metadata": {
    "scrolled": true
   },
   "outputs": [
    {
     "data": {
      "text/html": [
       "<div class=\"item_container\" style=\"height: auto; overflow: hidden; border: 1px solid #cfcfcf; border-radius: 2px; background: #f6fafa; line-height: 1.21429em; padding: 10px;\">\n",
       "                    <div class=\"item_left\" style=\"width: 210px; float: left;\">\n",
       "                       <a href='https://ej.maps.arcgis.com/home/item.html?id=d5dc57f6c4784da2b659c347d9dca6da' target='_blank'>\n",
       "                        <img src='http://static.arcgis.com/images/desktopapp.png' class=\"itemThumbnail\">\n",
       "                       </a>\n",
       "                    </div>\n",
       "\n",
       "                    <div class=\"item_right\"     style=\"float: none; width: auto; overflow: hidden;\">\n",
       "                        <a href='https://ej.maps.arcgis.com/home/item.html?id=d5dc57f6c4784da2b659c347d9dca6da' target='_blank'><b>Miami - San Francisco (3)</b>\n",
       "                        </a>\n",
       "                        <br/> Route from Miami to San Francisco<img src='https://ej.maps.arcgis.com/home/js/jsapi/esri/css/images/item_type_icons/maps16.png' style=\"vertical-align:middle;\">Web Map by Nakamura_Hiromu\n",
       "                        <br/>Last Modified: 6月 24, 2020\n",
       "                        <br/>0 comments, 0 views\n",
       "                    </div>\n",
       "                </div>\n",
       "                "
      ],
      "text/plain": [
       "<Item title:\"Miami - San Francisco (3)\" type:Web Map owner:Nakamura_Hiromu>"
      ]
     },
     "execution_count": 75,
     "metadata": {},
     "output_type": "execute_result"
    }
   ],
   "source": [
    "item"
   ]
  },
  {
   "cell_type": "markdown",
   "metadata": {},
   "source": [
    "このガイドの最後のセクションでは、10 都市間のルーティング問題を解くために、別の方法である `arcgis.features.use_proximity.plan_routes` を採用しました。その際、次のようなoutput_name の指定の有無による2つのシナリオについて説明しました。\n",
    "- output_name を指定する場合：解析結果を直接フィーチャ サービスとして出力することが可能です。\n",
    "- output_name を指定しない場合：解析結果がFeatureCollection で返却されるため、結果の可視化にはパース / 描画というアプローチを取る必要があります。"
   ]
  },
  {
   "cell_type": "markdown",
   "metadata": {},
   "source": [
    "## 次のトピックについて\n",
    "\n",
    "パート 2 では、`arcgis.network.analysis.find_routes` と `arcgis.features.use_proximity.plan_routes` をルート解析のツールとして紹介しました。これらのツールに引数を渡すためにどのようなデータの準備が必要かについても紹介し、テーブル形式にする方法、マッピングする方法、そして解析結果を保存する方法についても紹介しました。\n",
    "\n",
    "これでルート解析を実行するテクニックを学びましたので、パート 3 では、次のトピックとして、`network.analysis` 及び `features.use_proximity` モジュールを使って到達圏解析を学びましょう。\n"
   ]
  },
  {
   "cell_type": "markdown",
   "metadata": {},
   "source": [
    "## 参考情報\n",
    "\n",
    "[1] \"チュートリアル: ルートの作成\", https://pro.arcgis.com/ja/pro-app/help/analysis/networks/route-tutorial.htm　2020年 6月にアクセス\n",
    "\n",
    "[2] \"ルート解析レイヤー\", https://pro.arcgis.com/ja/pro-app/help/analysis/networks/route-analysis-layer.htm, 2020年 6月にアクセス\n",
    "\n",
    "[3] \"ルートの検索 (Find Routes)\", http://desktop.arcgis.com/ja/arcmap/10.3/tools/network-analyst-toolbox/find-routes.htm, 2020年 6月にアクセス"
   ]
  }
 ],
 "metadata": {
  "kernelspec": {
   "display_name": "Python 3",
   "language": "python",
   "name": "python3"
  },
  "language_info": {
   "codemirror_mode": {
    "name": "ipython",
    "version": 3
   },
   "file_extension": ".py",
   "mimetype": "text/x-python",
   "name": "python",
   "nbconvert_exporter": "python",
   "pygments_lexer": "ipython3",
   "version": "3.6.9"
  },
  "toc": {
   "base_numbering": 1,
   "nav_menu": {},
   "number_sections": false,
   "sideBar": true,
   "skip_h1_title": true,
   "title_cell": "Table of Contents",
   "title_sidebar": "Contents",
   "toc_cell": true,
   "toc_position": {},
   "toc_section_display": true,
   "toc_window_display": false
  },
  "varInspector": {
   "cols": {
    "lenName": 16,
    "lenType": 16,
    "lenVar": 40
   },
   "kernels_config": {
    "python": {
     "delete_cmd_postfix": "",
     "delete_cmd_prefix": "del ",
     "library": "var_list.py",
     "varRefreshCmd": "print(var_dic_list())"
    },
    "r": {
     "delete_cmd_postfix": ") ",
     "delete_cmd_prefix": "rm(",
     "library": "var_list.r",
     "varRefreshCmd": "cat(var_dic_list()) "
    }
   },
   "types_to_exclude": [
    "module",
    "function",
    "builtin_function_or_method",
    "instance",
    "_Feature"
   ],
   "window_display": false
  }
 },
 "nbformat": 4,
 "nbformat_minor": 4
}
