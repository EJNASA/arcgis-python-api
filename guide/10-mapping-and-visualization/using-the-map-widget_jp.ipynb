{
 "cells": [
  {
   "cell_type": "markdown",
   "metadata": {},
   "source": [
    "## `arcgis.mapping` モジュール\n",
    "`arcgis.mapping` モジュールには、Web マップやシーン、マップ イメージ、ベクター タイルなどの特定のレイヤータイプを表現し、それらを操作するためのクラスや関数が含まれています。このページでは、Jupyter ノートブック環境でマップウィジェットを使用してマップやシーン、レイヤーを可視化する方法をご紹介します。\n",
    "\n",
    "このページの内容:\n",
    " - [マップウィジェットの使用](#マップウィジェットの使用)\n",
    " - [マップのプロパティを設定](#マップのプロパティを設定)\n",
    "  - [ズームレベル](#ズームレベル)\n",
    "  - [マップの中心](#マップの中心)\n",
    "  - [ベースマップ](#ベースマップ)\n",
    "  - [3D モード](#3D-モード)\n",
    " - [マップにレイヤーを追加](#マップにレイヤーを追加)\n",
    "  - [Item オブジェクトをマップに追加](#Item-オブジェクトをマップに追加)\n",
    "  - [マップにレイヤーオブジェクトを追加](#マップにレイヤーオブジェクトを追加)\n",
    "  - [イメージ レイヤーの追加](#イメージ-レイヤーの追加)\n",
    " - [マップに追加されたレイヤーの一覧](#マップに追加されたレイヤーの一覧)\n",
    " - [マップからレイヤーを削除](#マップからレイヤーを削除)\n",
    " - [レイヤーにズーム](#レイヤーにズーム)\n",
    " - [地図上にグラフィックを描画](#地図上にグラフィックを描画)\n",
    " - [描画されたグラフィックを削除](#描画されたグラフィックを削除)\n",
    " - [マップを Web マップとして保存](#マップを-Web-マップとして保存)\n",
    "\n",
    "## マップウィジェットの使用\n",
    "`GIS` オブジェクトには、地理的な位置の表示や GIS コンテンツの可視化、および解析結果を表示したりするためのマップウィジェットが含まれています。マップ ウィジェットを使用するには、`gis.map()` を変数に設定し、その変数を呼び出すことでノートブックにウィジェットを表示させることができます。"
   ]
  },
  {
   "cell_type": "code",
   "execution_count": 1,
   "metadata": {},
   "outputs": [],
   "source": [
    "import arcgis\n",
    "from arcgis.gis import GIS\n",
    "# GIS オブジェクトを作成します。\n",
    "gis = GIS(“ポータルの URL”, “ユーザー名”, “パスワード”)"
   ]
  },
  {
   "cell_type": "code",
   "execution_count": 2,
   "metadata": {
    "scrolled": false
   },
   "outputs": [
    {
     "data": {
      "application/vnd.jupyter.widget-view+json": {
       "model_id": "fc1110c46b6c45f8b4566634c0d2df1b",
       "version_major": 2,
       "version_minor": 0
      },
      "text/plain": [
       "MapView(layout=Layout(height='400px', width='100%'))"
      ]
     },
     "metadata": {},
     "output_type": "display_data"
    },
    {
     "data": {
      "text/html": [
       "<div class=\"map-static-img-preview-f11af5a4-357c-4739-a9f4-091fc77ebe9c\"><img src=\"\"></img></div>"
      ],
      "text/plain": [
       "<IPython.core.display.HTML object>"
      ]
     },
     "metadata": {},
     "output_type": "display_data"
    }
   ],
   "source": [
    "# マップウィジェットの作成\n",
    "map1 = gis.map('日本') # コンストラクタに地名を指定します。\n",
    "                       # マップの範囲を初期化して表示\n",
    "map1"
   ]
  },
  {
   "cell_type": "markdown",
   "metadata": {},
   "source": [
    "## マップのプロパティを設定\n",
    "### ズームレベル\n",
    "マップ ウィジェットには、ズームレベル、ベースマップ、高さなどの確認や設定が可能なプロパティが幾つかあります。"
   ]
  },
  {
   "cell_type": "code",
   "execution_count": 3,
   "metadata": {},
   "outputs": [
    {
     "data": {
      "text/plain": [
       "-1.0"
      ]
     },
     "execution_count": 3,
     "metadata": {},
     "output_type": "execute_result"
    }
   ],
   "source": [
    "map1.zoom"
   ]
  },
  {
   "cell_type": "markdown",
   "metadata": {},
   "source": [
    "`zoom` プロパティに値を指定すると、ウィジェットが更新されます。"
   ]
  },
  {
   "cell_type": "code",
   "execution_count": 4,
   "metadata": {},
   "outputs": [],
   "source": [
    "map1.zoom = 10"
   ]
  },
  {
   "cell_type": "markdown",
   "metadata": {},
   "source": [
    "また、2D モードで `rotation` を指定することもできます。これは、マップ上でも右クリックしてドラッグすることで動作させることもできます。"
   ]
  },
  {
   "cell_type": "code",
   "execution_count": 5,
   "metadata": {},
   "outputs": [],
   "source": [
    "map1.rotation = 45"
   ]
  },
  {
   "cell_type": "markdown",
   "metadata": {},
   "source": [
    "ノートブックは、必要に応じてこれらのウィジェットを幾つでも表示することができます。ここでは、別のマップウィジェットを作成し、そのプロパティを変更してみましょう。\n",
    "### マップの中心\n",
    "center プロパティは、地図の中心の座標を把握することができます。"
   ]
  },
  {
   "cell_type": "code",
   "execution_count": 6,
   "metadata": {},
   "outputs": [
    {
     "data": {
      "application/vnd.jupyter.widget-view+json": {
       "model_id": "dfc7313760eb42d5becc1a3539b84419",
       "version_major": 2,
       "version_minor": 0
      },
      "text/plain": [
       "MapView(layout=Layout(height='400px', width='100%'))"
      ]
     },
     "metadata": {},
     "output_type": "display_data"
    },
    {
     "data": {
      "text/html": [
       "<div class=\"map-static-img-preview-a96a3960-9e99-4a4c-bb93-0cee1f96335a\"><img src=\"\"></img></div>"
      ],
      "text/plain": [
       "<IPython.core.display.HTML object>"
      ]
     },
     "metadata": {},
     "output_type": "display_data"
    }
   ],
   "source": [
    "map2 = gis.map() # デフォルトのパラメータでマップオブジェクトを作成します。\n",
    "map2"
   ]
  },
  {
   "cell_type": "code",
   "execution_count": 7,
   "metadata": {},
   "outputs": [
    {
     "data": {
      "text/plain": [
       "{'spatialReference': {'latestWkid': 3857, 'wkid': 102100},\n",
       " 'x': 0,\n",
       " 'y': 1.30385160446167e-08}"
      ]
     },
     "execution_count": 7,
     "metadata": {},
     "output_type": "execute_result"
    }
   ],
   "source": [
    "map2.center"
   ]
  },
  {
   "cell_type": "markdown",
   "metadata": {},
   "source": [
    "気になる場所の緯度と経度が分かっている場合は、それを center プロパティに指定することができます。"
   ]
  },
  {
   "cell_type": "code",
   "execution_count": 8,
   "metadata": {},
   "outputs": [],
   "source": [
    "map2.center = [35.681236, 139.767125] # ここでは、地図の中心を東京駅に指定しています。\n",
    "map2.zoom = 15"
   ]
  },
  {
   "cell_type": "markdown",
   "metadata": {},
   "source": [
    "ジオコーディングを使用して地名の座標を取得し、ウィジェットを動作させることができます。ジオコーディングは、地名を座標に変換して、`arcgis.geocoding.geocode()` 関数を使うことができます。"
   ]
  },
  {
   "cell_type": "markdown",
   "metadata": {},
   "source": [
    "東京都千代田区平河町2-7-1 をジオコーディングして、地図の範囲をジオコーディングされた場所の範囲に設定してみましょう。"
   ]
  },
  {
   "cell_type": "code",
   "execution_count": 9,
   "metadata": {},
   "outputs": [],
   "source": [
    "location = arcgis.geocoding.geocode('東京都千代田区平河町2-7-1', max_locations=1)[0]\n",
    "map2.extent = location['extent']"
   ]
  },
  {
   "cell_type": "markdown",
   "metadata": {},
   "source": [
    "## ベースマップ\n",
    "ベースマップは、マップ上のレイヤーで、追加した他の操作レイヤーの上に表示されます。ベースマップは通常、世界の全範囲をカバーし、GIS レイヤーにコンテキストを提供します。利用者は、さまざまな範囲をパンやズームしながら、各フィーチャがどこにあるかを理解するのに役立ちます。\n",
    "\n",
    "マップには、異なる複数のベースマップを持つことができます。どのベースマップがウィジェットに含まれているかを確認するには、`basemaps` プロパティを呼び出します。"
   ]
  },
  {
   "cell_type": "code",
   "execution_count": 18,
   "metadata": {},
   "outputs": [
    {
     "data": {
      "text/plain": [
       "['dark-gray',\n",
       " 'dark-gray-vector',\n",
       " 'gray',\n",
       " 'gray-vector',\n",
       " 'hybrid',\n",
       " 'national-geographic',\n",
       " 'oceans',\n",
       " 'osm',\n",
       " 'satellite',\n",
       " 'streets',\n",
       " 'streets-navigation-vector',\n",
       " 'streets-night-vector',\n",
       " 'streets-relief-vector',\n",
       " 'streets-vector',\n",
       " 'terrain',\n",
       " 'topo',\n",
       " 'topo-vector']"
      ]
     },
     "execution_count": 18,
     "metadata": {},
     "output_type": "execute_result"
    }
   ],
   "source": [
    "map3 = gis.map() # デフォルトのパラメーターでマップオブジェクトを作成します。\n",
    "map3.basemaps"
   ]
  },
  {
   "cell_type": "markdown",
   "metadata": {},
   "source": [
    "ベースマップを変更するには、サポートされているベースマップのいずれかを `basemap`プロパティに指定することができます。例えば、以下のように 'dark-gray-vector' を指定することでベクター ベースマップに変更することができます。"
   ]
  },
  {
   "cell_type": "code",
   "execution_count": 19,
   "metadata": {
    "scrolled": false
   },
   "outputs": [
    {
     "data": {
      "application/vnd.jupyter.widget-view+json": {
       "model_id": "4d440d91ed434a9099fd1d0e015452ad",
       "version_major": 2,
       "version_minor": 0
      },
      "text/plain": [
       "MapView(layout=Layout(height='400px', width='100%'))"
      ]
     },
     "metadata": {},
     "output_type": "display_data"
    },
    {
     "data": {
      "text/html": [
       "<div class=\"map-static-img-preview-7760e528-0dbc-4c89-a21d-0eaa89f451ba\"><img src=\"\"></img></div>"
      ],
      "text/plain": [
       "<IPython.core.display.HTML object>"
      ]
     },
     "metadata": {},
     "output_type": "display_data"
    }
   ],
   "source": [
    "map3.basemap = 'dark-gray-vector'\n",
    "map3"
   ]
  },
  {
   "cell_type": "markdown",
   "metadata": {},
   "source": [
    "現在のベースマップが何であるかを調べるために、`basemap` プロパティを呼び出します。"
   ]
  },
  {
   "cell_type": "code",
   "execution_count": 20,
   "metadata": {},
   "outputs": [
    {
     "data": {
      "text/plain": [
       "'dark-gray-vector'"
      ]
     },
     "execution_count": 20,
     "metadata": {},
     "output_type": "execute_result"
    }
   ],
   "source": [
    "map3.basemap"
   ]
  },
  {
   "cell_type": "markdown",
   "metadata": {},
   "source": [
    "ベースマップを繰り返し呼び出し、マップウィジェットの basemap プロパティにベースマップを指定することで、新しいマップウィジェットを連続で呼び出して (アニメーション化) みましょう。"
   ]
  },
  {
   "cell_type": "code",
   "execution_count": 21,
   "metadata": {
    "scrolled": false
   },
   "outputs": [
    {
     "data": {
      "application/vnd.jupyter.widget-view+json": {
       "model_id": "99a5614e46ff459d86d5cf8790996bef",
       "version_major": 2,
       "version_minor": 0
      },
      "text/plain": [
       "MapView(layout=Layout(height='400px', width='100%'))"
      ]
     },
     "metadata": {},
     "output_type": "display_data"
    },
    {
     "data": {
      "text/html": [
       "<div class=\"map-static-img-preview-4abe69b2-44e4-4ea4-ac0a-c2b912774277\"><img src=\"\"></img></div>"
      ],
      "text/plain": [
       "<IPython.core.display.HTML object>"
      ]
     },
     "metadata": {},
     "output_type": "display_data"
    }
   ],
   "source": [
    "map4 = gis.map('東京駅')\n",
    "map4"
   ]
  },
  {
   "cell_type": "code",
   "execution_count": 22,
   "metadata": {},
   "outputs": [],
   "source": [
    "import time\n",
    "\n",
    "for basemap in map4.basemaps:\n",
    "    map4.basemap = basemap\n",
    "    time.sleep(3)"
   ]
  },
  {
   "cell_type": "markdown",
   "metadata": {},
   "source": [
    "# 3D モード\n",
    "マップウィジェットは 3D モードもサポートしています。'mode' パラメータは `gis.map(mode=\"foo\")` で指定するか、インスタンス化されたマップオブジェクトの `mode` プロパティを指定することで設定できます。以下を実行してみてください。"
   ]
  },
  {
   "cell_type": "code",
   "execution_count": 23,
   "metadata": {},
   "outputs": [
    {
     "data": {
      "application/vnd.jupyter.widget-view+json": {
       "model_id": "f40801b2c29a4ea7afce31900d458c9e",
       "version_major": 2,
       "version_minor": 0
      },
      "text/plain": [
       "MapView(layout=Layout(height='400px', width='100%'), mode='3D')"
      ]
     },
     "metadata": {},
     "output_type": "display_data"
    },
    {
     "data": {
      "text/html": [
       "<div class=\"map-static-img-preview-e28b4756-1bd4-4ab8-8d30-060c2f820362\"><img src=\"\"></img></div>"
      ],
      "text/plain": [
       "<IPython.core.display.HTML object>"
      ]
     },
     "metadata": {},
     "output_type": "display_data"
    }
   ],
   "source": [
    "from arcgis.gis import GIS\n",
    "gis = GIS()\n",
    "usa_map = gis.map('日本', zoomlevel=4, mode=\"3D\") #注意 `mode=\"3D\"`\n",
    "usa_map"
   ]
  },
  {
   "cell_type": "markdown",
   "metadata": {},
   "source": [
    "2D モードと同様に、マウスの左ボタンでのクリック & ドラッグでパン、マウスホイールでのズームが可能です。3D モードでは、マウスの右ボタンでクリック & ドラッグすると、`tilt` フィールドと `heading` フィールドが変更されます。\n",
    "\n",
    "`tilt` は 0 から 90 までの数値：0 はトップダウンの '鳥瞰図' を表し、90 は地平線に向かって地面と完全に平行になっていることを表します。\n",
    "\n",
    "ここで注意したいのは、2D モードでは `rotation` を使用して北緯から時計回りの角度の数を指定し、3D モードでは `heading` 使用して北緯から反時計回りの角度の数を指定することです。詳細は API リファレンスを参照してください。\n",
    "\n",
    "以下の 2 つのセルを実行してみて、目的の値に置き換えてみてください。"
   ]
  },
  {
   "cell_type": "code",
   "execution_count": 24,
   "metadata": {},
   "outputs": [],
   "source": [
    "usa_map.tilt = 45"
   ]
  },
  {
   "cell_type": "code",
   "execution_count": 25,
   "metadata": {},
   "outputs": [],
   "source": [
    "usa_map.heading = 45"
   ]
  },
  {
   "cell_type": "markdown",
   "metadata": {},
   "source": [
    "3D モードの詳細については、[高度なマップウィジェットの使用方法 (advanced map widget useage)](./advanced-map-widget-useage) の使用ガイドページを参照するか、[API リファレンス](https://esri.github.io/arcgis-python-api/apidoc/html/arcgis.widgets.html#mapview)を参照してください。"
   ]
  },
  {
   "cell_type": "markdown",
   "metadata": {},
   "source": [
    "## マップにレイヤーを追加\n",
    "マップウィジェットの重要な機能は、GIS レイヤーを追加してレンダリングする機能です。レイヤー追加では `add_layer()` メソッドを呼び出し、引数としてレイヤー オブジェクトを設定します。"
   ]
  },
  {
   "cell_type": "code",
   "execution_count": 83,
   "metadata": {
    "scrolled": false
   },
   "outputs": [
    {
     "data": {
      "application/vnd.jupyter.widget-view+json": {
       "model_id": "7d2ded3a287847b0b607a8e1f889cc08",
       "version_major": 2,
       "version_minor": 0
      },
      "text/plain": [
       "MapView(layout=Layout(height='400px', width='100%'))"
      ]
     },
     "metadata": {},
     "output_type": "display_data"
    },
    {
     "data": {
      "text/html": [
       "<div class=\"map-static-img-preview-30b30672-9ec8-4146-a80c-9a0f84f36a54\"><img src=\"\"></img></div>"
      ],
      "text/plain": [
       "<IPython.core.display.HTML object>"
      ]
     },
     "metadata": {},
     "output_type": "display_data"
    }
   ],
   "source": [
    "# Web マップとしてウィジェットを保存するため、ログインします。\n",
    "gis = GIS(\"https://www.arcgis.com\", \"arcgis_python\", \"P@ssword123\")\n",
    "usa_map = gis.map('USA', zoomlevel=4)  # マップを作成する際にズームレベルを指定することができます。\n",
    "usa_map"
   ]
  },
  {
   "cell_type": "markdown",
   "metadata": {},
   "source": [
    "次に、いくつかのレイヤーを検索してマップに追加します。"
   ]
  },
  {
   "cell_type": "code",
   "execution_count": 84,
   "metadata": {},
   "outputs": [
    {
     "data": {
      "text/plain": [
       "[<Item title:\"USA Census Populated Places\" type:Feature Layer Collection owner:esri>,\n",
       " <Item title:\"2020 USA Traffic Counts\" type:Feature Layer Collection owner:esri>,\n",
       " <Item title:\"USA Soils Map Units\" type:Feature Layer Collection owner:esri>,\n",
       " <Item title:\"USA Offshore Pipelines (Mature Support)\" type:Feature Layer Collection owner:esri>,\n",
       " <Item title:\"USA Shipping Fairways Lanes Zones (Mature Support)\" type:Feature Layer Collection owner:esri>,\n",
       " <Item title:\"USA Drilling Platforms\" type:Feature Layer Collection owner:esri>,\n",
       " <Item title:\"World Exclusive Economic Zone Boundaries\" type:Feature Layer Collection owner:esri>,\n",
       " <Item title:\"Location Tracking\" type:Feature Layer Collection owner:esri>,\n",
       " <Item title:\"USA State Plane Zones NAD83\" type:Feature Layer Collection owner:esri>,\n",
       " <Item title:\"USA Anchorage Areas (Mature Support)\" type:Feature Layer Collection owner:esri>]"
      ]
     },
     "execution_count": 84,
     "metadata": {},
     "output_type": "execute_result"
    }
   ],
   "source": [
    "flayer_search_result = gis.content.search(\"owner:esri\",\"Feature Layer\", outside_org=True)\n",
    "flayer_search_result"
   ]
  },
  {
   "cell_type": "markdown",
   "metadata": {},
   "source": [
    "### `Item` オブジェクトをマップに追加\n",
    "`Item` オブジェクトは、`add_layer()` メソッドに Item オブジェクトを指定することでマップに追加できます。"
   ]
  },
  {
   "cell_type": "code",
   "execution_count": 85,
   "metadata": {},
   "outputs": [
    {
     "data": {
      "application/vnd.jupyter.widget-view+json": {
       "model_id": "7d2ded3a287847b0b607a8e1f889cc08",
       "version_major": 2,
       "version_minor": 0
      },
      "text/plain": [
       "MapView(jupyter_target='notebook', layout=Layout(height='400px', width='100%'), ready=True)"
      ]
     },
     "metadata": {},
     "output_type": "display_data"
    },
    {
     "data": {
      "text/html": [
       "<div class=\"map-static-img-preview-30b30672-9ec8-4146-a80c-9a0f84f36a54\"><img src=\"\"></img></div>"
      ],
      "text/plain": [
       "<IPython.core.display.HTML object>"
      ]
     },
     "metadata": {},
     "output_type": "display_data"
    }
   ],
   "source": [
    "# Item オブジェクトを取得\n",
    "world_timezones_item = gis.content.get('312cebfea2624e108e234220b04460b8')\n",
    "# Item オブジェクトを add_layer() メソッドに指定\n",
    "usa_map.add_layer(world_timezones_item)\n",
    "usa_map"
   ]
  },
  {
   "cell_type": "markdown",
   "metadata": {},
   "source": [
    "### マップにレイヤー オブジェクトを追加\n",
    "マップには、`FeatureLayer`、`FeatureCollection`、`ImageryLayer`、`MapImageLayer` などのさまざまなレイヤー オブジェクトを追加することができます。以下のように `FeatureLayer` を追加することができます。"
   ]
  },
  {
   "cell_type": "code",
   "execution_count": 86,
   "metadata": {},
   "outputs": [
    {
     "data": {
      "text/plain": [
       "<FeatureLayer url:\"https://services.arcgis.com/P3ePLMYs2RVChkJx/arcgis/rest/services/World_Countries/FeatureServer/0\">"
      ]
     },
     "execution_count": 86,
     "metadata": {},
     "output_type": "execute_result"
    }
   ],
   "source": [
    "# Item オブジェクトを取得\n",
    "world_countries_item = gis.content.get('ac80670eb213440ea5899bbf92a04998')\n",
    "# layers プロパティで、フィーチャ サービスで利用可能な1番目のレイヤーを取得します。\n",
    "world_countries_layer = world_countries_item.layers[0]\n",
    "world_countries_layer"
   ]
  },
  {
   "cell_type": "code",
   "execution_count": 87,
   "metadata": {},
   "outputs": [
    {
     "data": {
      "application/vnd.jupyter.widget-view+json": {
       "model_id": "7d2ded3a287847b0b607a8e1f889cc08",
       "version_major": 2,
       "version_minor": 0
      },
      "text/plain": [
       "MapView(jupyter_target='notebook', layout=Layout(height='400px', width='100%'), ready=True)"
      ]
     },
     "metadata": {},
     "output_type": "display_data"
    },
    {
     "data": {
      "text/html": [
       "<div class=\"map-static-img-preview-30b30672-9ec8-4146-a80c-9a0f84f36a54\"><img src=\"\"></img></div>"
      ],
      "text/plain": [
       "<IPython.core.display.HTML object>"
      ]
     },
     "metadata": {},
     "output_type": "display_data"
    }
   ],
   "source": [
    "# レイヤーの追加\n",
    "usa_map.add_layer(world_countries_layer, options={'opacity':0.4})\n",
    "usa_map"
   ]
  },
  {
   "cell_type": "markdown",
   "metadata": {},
   "source": [
    "### カスタム シンボルによるレイヤーの追加"
   ]
  },
  {
   "cell_type": "markdown",
   "metadata": {},
   "source": [
    "`add_layer()` メソッドを呼び出すときに、レンダラーの指定に `options` パラメータの dictionary (辞書) を設定することができます。前のセルの実行では、レイヤーの透過度を設定する方法を示しています。`opacity` の値の範囲は `0 から 1` で、`0` は完全に透過、`1` は完全に不透明です。\n",
    "\n",
    " **\"smart mapping (スマート マッピング)\"** 機能を使用して、そのレイヤーの属性フィールドに基づいて異なるシンボルでフィーチャ レイヤーをレンダリングすることができます。下記では、「USA Freeway System」レイヤーをマップに追加し、高速道路の長さに基づいて線分の幅を変更しています。"
   ]
  },
  {
   "cell_type": "code",
   "execution_count": 71,
   "metadata": {},
   "outputs": [],
   "source": [
    "freeway_feature_layer = gis.content.get('51275617f1274103b81d99cd0ad94a40').layers[0]\n",
    "usa_map.add_layer(freeway_feature_layer, {\"renderer\":\"ClassedSizeRenderer\", \"field_name\": \"DIST_MILES\"})"
   ]
  },
  {
   "cell_type": "markdown",
   "metadata": {},
   "source": [
    "この機能の詳細については、[スマート マッピング (smart mapping)](.../smart-mapping/) のガイドを参照してください。"
   ]
  },
  {
   "cell_type": "markdown",
   "metadata": {},
   "source": [
    "### イメージ レイヤーの追加\n",
    "`FeatureLayer` と同様に、`ImageryLayer`やイメージ レイヤーのアイテムを追加することもできます。また、レンダリングには組み込みのラスタ関数やカスタムのラスタ関数を設定することができます。"
   ]
  },
  {
   "cell_type": "code",
   "execution_count": 80,
   "metadata": {},
   "outputs": [
    {
     "data": {
      "text/html": [
       "<div class=\"item_container\" style=\"height: auto; overflow: hidden; border: 1px solid #cfcfcf; border-radius: 2px; background: #f6fafa; line-height: 1.21429em; padding: 10px;\">\n",
       "                    <div class=\"item_left\" style=\"width: 210px; float: left;\">\n",
       "                       <a href='https://www.arcgis.com/home/item.html?id=a7412d0c33be4de698ad981c8ba471e6' target='_blank'>\n",
       "                        <img src='https://www.arcgis.com/sharing/rest//content/items/a7412d0c33be4de698ad981c8ba471e6/info/thumbnail/thumbnail1576628795184.jpeg' class=\"itemThumbnail\">\n",
       "                       </a>\n",
       "                    </div>\n",
       "\n",
       "                    <div class=\"item_right\"     style=\"float: none; width: auto; overflow: hidden;\">\n",
       "                        <a href='https://www.arcgis.com/home/item.html?id=a7412d0c33be4de698ad981c8ba471e6' target='_blank'><b>Pansharpened Landsat</b>\n",
       "                        </a>\n",
       "                        <br/>Landsat pansharpened and multitemporal 15m imagery rendered on-the-fly as Natural Color with DRA for visualization and analysis. This imagery layer is sourced from the Landsat on AWS collections and is updated daily with new imagery.<img src='https://www.arcgis.com/home/js/jsapi/esri/css/images/item_type_icons/imagery16.png' style=\"vertical-align:middle;\">Imagery Layer by esri\n",
       "                        <br/>Last Modified: 12月 20, 2019\n",
       "                        <br/>0 comments, 159,549 views\n",
       "                    </div>\n",
       "                </div>\n",
       "                "
      ],
      "text/plain": [
       "<Item title:\"Pansharpened Landsat\" type:Imagery Layer owner:esri>"
      ]
     },
     "execution_count": 80,
     "metadata": {},
     "output_type": "execute_result"
    }
   ],
   "source": [
    "landsat_item = GIS().content.search(\"Landsat 8 Views\", \"Imagery Layer\", max_items=2)[0]\n",
    "landsat_item"
   ]
  },
  {
   "cell_type": "code",
   "execution_count": 81,
   "metadata": {},
   "outputs": [],
   "source": [
    "usa_map.add_layer(landsat_item)"
   ]
  },
  {
   "cell_type": "markdown",
   "metadata": {},
   "source": [
    "## マップに追加されたレイヤーの一覧\n",
    "`layers` プロパティを使用すると、マップに追加されたレイヤーを一覧表示することができます。"
   ]
  },
  {
   "cell_type": "code",
   "execution_count": 74,
   "metadata": {},
   "outputs": [
    {
     "data": {
      "text/plain": [
       "[<FeatureLayer url:\"https://services.arcgis.com/P3ePLMYs2RVChkJx/arcgis/rest/services/World_Time_Zones/FeatureServer/0\">,\n",
       " <FeatureLayer url:\"https://services.arcgis.com/P3ePLMYs2RVChkJx/arcgis/rest/services/World_Countries/FeatureServer/0\">,\n",
       " <FeatureLayer url:\"https://services.arcgis.com/P3ePLMYs2RVChkJx/arcgis/rest/services/USA_Freeway_System_analysis/FeatureServer/0\">,\n",
       " <ImageryLayer url:\"https://landsat2.arcgis.com/arcgis/rest/services/Landsat/PS/ImageServer\">]"
      ]
     },
     "execution_count": 74,
     "metadata": {},
     "output_type": "execute_result"
    }
   ],
   "source": [
    "# レイヤーの一覧を確認\n",
    "usa_map.layers"
   ]
  },
  {
   "cell_type": "markdown",
   "metadata": {},
   "source": [
    "## マップからレイヤーを削除\n",
    "1つ以上のレイヤーを削除するには、remove_layers() メソッドを呼び出し、削除したいレイヤーのリストを指定します。削除できる有効なレイヤーのリストを取得するには、前のセルで示したように `layers` プロパティを呼び出します。\n",
    "\n",
    "以下のコードは、Landsat 8 Views のレイヤーを削除する方法を示しています。"
   ]
  },
  {
   "cell_type": "code",
   "execution_count": 63,
   "metadata": {},
   "outputs": [
    {
     "data": {
      "text/plain": [
       "True"
      ]
     },
     "execution_count": 63,
     "metadata": {},
     "output_type": "execute_result"
    }
   ],
   "source": [
    "usa_map.remove_layers(layers=[landsat_item])"
   ]
  },
  {
   "cell_type": "markdown",
   "metadata": {},
   "source": [
    "すべてのレイヤーを削除するには、`layers` プロパティにレイヤーリストを指定せずに `remove_layers()` メソッドを呼び出します。"
   ]
  },
  {
   "cell_type": "markdown",
   "metadata": {},
   "source": [
    "## レイヤーにズーム\n",
    "1つまたは複数のレイヤーにズームするには、`zoom_to_layer()` メソッドを呼び出して、マップをスナップするレイヤー、またはレイヤーのリストを指定します。指定する項目は、単一のもの、Items、layer、DataFrame、FeatureSet、FeatureCollection のリストも指定することができます。\n",
    "\n",
    "次のコードは、単一のレイヤーまたは複数のアイテムにズームする方法を示しています。"
   ]
  },
  {
   "cell_type": "code",
   "execution_count": 36,
   "metadata": {},
   "outputs": [],
   "source": [
    "# １つのレイヤーにズーム\n",
    "usa_map.zoom_to_layer(world_countries_layer)"
   ]
  },
  {
   "cell_type": "markdown",
   "metadata": {},
   "source": [
    "<img src=\"..\\..\\static\\img\\zoom_to_layer_animate.gif\"></img>"
   ]
  },
  {
   "cell_type": "code",
   "execution_count": 37,
   "metadata": {},
   "outputs": [],
   "source": [
    "# 複数のアイテムにズーム\n",
    "usa_map.zoom_to_layer([world_timezones_item, freeway_feature_layer.query().sdf])"
   ]
  },
  {
   "cell_type": "markdown",
   "metadata": {},
   "source": [
    "## 地図上にグラフィックを描画\n",
    "`draw()` メソッドを使用して、マップ上にグラフィックを描画したり、スケッチしたりすることができます。例えば、以下に示すように矩形、楕円、矢印などを描画したり、注釈を付けたりすることができます。"
   ]
  },
  {
   "cell_type": "code",
   "execution_count": 38,
   "metadata": {},
   "outputs": [],
   "source": [
    "usa_map.draw('rectangle')"
   ]
  },
  {
   "cell_type": "markdown",
   "metadata": {},
   "source": [
    "地図を表示している箇所で、四角形を描きます。"
   ]
  },
  {
   "cell_type": "code",
   "execution_count": 39,
   "metadata": {},
   "outputs": [],
   "source": [
    "usa_map.draw('circle')"
   ]
  },
  {
   "cell_type": "markdown",
   "metadata": {},
   "source": [
    "再度地図を表示している箇所で、ロサンゼルスの下に '上向き矢印' を配置します。マップ上でスケッチできるサポートされている図形のリストを取得するには、[draw](http://esri.github.io/arcgis-python-api/apidoc/html/arcgis.widgets.html#arcgis.widgets.MapView.draw) の API リファレンスを参照してください。"
   ]
  },
  {
   "cell_type": "markdown",
   "metadata": {},
   "source": [
    "### マップ上に `FeatureSet` オブジェクトを描画する\n",
    "スケッチに加えて、`FeatureSet` オブジェクトを `draw()` メソッドに設定することもできます。Python API を使用して様々な操作を行うことで `FeatureSet` オブジェクトを取得することができます。この機能は便利です。例えば、`geocoding` 操作の結果を `FeatureSet` として取得したり、`FeatureLayer` に対する `query()` 操作の結果を `FeatureSet` として取得したり、`draw()` メソッドを使用してマップ上で可視化したりすることもできます。\n",
    "\n",
    "以下のコードは、米国のいくつかの議事堂の位置をジオコーディングしたものです。"
   ]
  },
  {
   "cell_type": "code",
   "execution_count": 42,
   "metadata": {},
   "outputs": [
    {
     "data": {
      "text/plain": [
       "{'xmin': -146.08761918999994,\n",
       " 'ymin': -7.2742968439999345,\n",
       " 'xmax': -52.74161918999994,\n",
       " 'ymax': 84.9}"
      ]
     },
     "execution_count": 42,
     "metadata": {},
     "output_type": "execute_result"
    }
   ],
   "source": [
    "from arcgis.geocoding import geocode\n",
    "usa_extent = geocode('USA')[0]['extent']\n",
    "usa_extent"
   ]
  },
  {
   "cell_type": "code",
   "execution_count": 43,
   "metadata": {},
   "outputs": [
    {
     "data": {
      "text/plain": [
       "<FeatureSet> 10 features"
      ]
     },
     "execution_count": 43,
     "metadata": {},
     "output_type": "execute_result"
    }
   ],
   "source": [
    "usa_capitols_fset = geocode('Capitol', search_extent=usa_extent, max_locations=10, as_featureset=True)\n",
    "usa_capitols_fset"
   ]
  },
  {
   "cell_type": "markdown",
   "metadata": {},
   "source": [
    "### カスタム シンボルを使用した描画\n",
    "グラフィックを描画する時に、カスタム シンボルを指定することができます。Python API を利用している人は、カスタムの [シンボルの選択 Web アプリ (symbol selector web app)](https://esri.github.io/arcgis-python-api/tools/symbol.html) を使用して、ポイント レイヤーのシンボルを選択することができます。例えば、以下のように議事堂のマーカー シンボルを指定することができます。"
   ]
  },
  {
   "cell_type": "code",
   "execution_count": 61,
   "metadata": {},
   "outputs": [],
   "source": [
    "capitol_symbol = {\"angle\":0,\"xoffset\":0,\"yoffset\":0,\"type\":\"picture-marker\",\n",
    "                  \"url\":\"http://static.arcgis.com/images/Symbols/PeoplePlaces/esriBusinessMarker_57.png\",\n",
    "                  \"contentType\":\"image/png\",\"width\":24,\"height\":24}\n",
    "\n",
    "usa_map.draw(usa_capitols_fset, symbol=capitol_symbol)"
   ]
  },
  {
   "cell_type": "markdown",
   "metadata": {},
   "source": [
    "## 描画されたグラフィックを削除\n",
    "`clear_graphics()` メソッドを呼び出すことで、マップに描画されたグラフィックをすべて削除することができます。"
   ]
  },
  {
   "cell_type": "code",
   "execution_count": 64,
   "metadata": {},
   "outputs": [],
   "source": [
    "usa_map.clear_graphics()"
   ]
  },
  {
   "cell_type": "markdown",
   "metadata": {},
   "source": [
    "## マップを Web マップとして保存\n",
    "Python API バージョン `1.3` から、マップ ウィジェットを Web マップとして GIS に保存することができます。この処理は、ベースマップ、スマートマッピング、ポップアップ、範囲、カスタム シンボル、グラフィックなど、追加された全てのレイヤーを Web マップとして保存します。\n",
    "\n",
    "マップを保存するには、`save()` メソッドを使用します。このメソッドは Web マップの `Item` オブジェクトを新規に作成して返します。パラメーターとして、以下のようにすべての有効な Item プロパティを指定することができます。"
   ]
  },
  {
   "cell_type": "code",
   "execution_count": 90,
   "metadata": {
    "scrolled": true
   },
   "outputs": [
    {
     "data": {
      "text/html": [
       "<div class=\"item_container\" style=\"height: auto; overflow: hidden; border: 1px solid #cfcfcf; border-radius: 2px; background: #f6fafa; line-height: 1.21429em; padding: 10px;\">\n",
       "                    <div class=\"item_left\" style=\"width: 210px; float: left;\">\n",
       "                       <a href='https://geosaurus.maps.arcgis.com/home/item.html?id=f034f8d0d22c4a07a43074b57a031e9d' target='_blank'>\n",
       "                        <img src='http://static.arcgis.com/images/desktopapp.png' class=\"itemThumbnail\">\n",
       "                       </a>\n",
       "                    </div>\n",
       "\n",
       "                    <div class=\"item_right\"     style=\"float: none; width: auto; overflow: hidden;\">\n",
       "                        <a href='https://geosaurus.maps.arcgis.com/home/item.html?id=f034f8d0d22c4a07a43074b57a031e9d' target='_blank'><b>USA time zones and capitols</b>\n",
       "                        </a>\n",
       "                        <br/>Jupyter notebook widget saved as a web map<img src='https://geosaurus.maps.arcgis.com/home/js/jsapi/esri/css/images/item_type_icons/maps16.png' style=\"vertical-align:middle;\">Web Map by arcgis_python\n",
       "                        <br/>Last Modified: 7月 06, 2020\n",
       "                        <br/>0 comments, 0 views\n",
       "                    </div>\n",
       "                </div>\n",
       "                "
      ],
      "text/plain": [
       "<Item title:\"USA time zones and capitols\" type:Web Map owner:arcgis_python>"
      ]
     },
     "execution_count": 90,
     "metadata": {},
     "output_type": "execute_result"
    }
   ],
   "source": [
    "webmap_properties = {'title':'USA time zones and capitols',\n",
    "                    'snippet': 'Jupyter notebook widget saved as a web map',\n",
    "                    'tags':['automation', 'python']}\n",
    "\n",
    "webmap_item = usa_map.save(webmap_properties, thumbnail='./webmap_thumbnail.png', folder='webmaps')\n",
    "webmap_item"
   ]
  },
  {
   "cell_type": "markdown",
   "metadata": {},
   "source": [
    "この Web マップは、ノートブックで使用したり、Web マップをレンダリングする ArcGIS アプリで使用することができます。Python API を使用したこの Web マップの使用方法については、[working with web maps and scenes (Web マップとシーンを使用した作業)](https://developers.arcgis.com/python/guide/working-with-web-maps-and-web-scenes/) というタイトルのガイドを参照してください。"
   ]
  }
 ],
 "metadata": {
  "anaconda-cloud": {},
  "kernelspec": {
   "display_name": "Python 3",
   "language": "python",
   "name": "python3"
  },
  "language_info": {
   "codemirror_mode": {
    "name": "ipython",
    "version": 3
   },
   "file_extension": ".py",
   "mimetype": "text/x-python",
   "name": "python",
   "nbconvert_exporter": "python",
   "pygments_lexer": "ipython3",
   "version": "3.6.10"
  }
 },
 "nbformat": 4,
 "nbformat_minor": 1
}
