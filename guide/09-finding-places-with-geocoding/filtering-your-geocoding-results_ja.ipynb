{
 "cells": [
  {
   "cell_type": "markdown",
   "metadata": {},
   "source": [
    "# ジオコーディング結果のフィルタリング\n",
    "\n",
    "このノートブックでは、以下のテクニックを使って、ジオコーディングの結果を絞り込み、フィルタリングする方法をご紹介します。\n",
    " - [出力空間参照の指定](#specify-the-output-spatial-reference)\n",
    " - [候補の最大数を指定](#specify-the-maximum-number-of-candidates)\n",
    " - [範囲内での検索](#search-within-an-extent)\n",
    " - [近接検索](#proximity-searches)\n",
    " - [カテゴリでフィルタリング](#category-filtering)\n",
    "\n",
    "<a id=\"specify-the-output-spatial-reference\"></a>\n",
    "## 出力空間参照の指定\n",
    "\n",
    "World Geocoding Service はデフォルトでは WGS84の座標（10進度） での位置情報を候補として返しますが、out_sr パラメーターを設定した場合、出力座標に別の空間参照を指定することも可能です。これは、ジオコーディング結果を表示するマップの空間参照が WGS84 ではない地図アプリケーションの場合に必要となります。たとえば、ArcGIS.com のベースマップはWeb メルカトル座標系を使用しており、座標はメートル単位で表示されます。このようなマップでジオコーディングの結果の候補を正しく表示するには、out_sr パラメーターにWeb メルカトル座標系の Well Known ID (WKID) である out_sr=102100 を指定する必要があります。\n",
    "\n",
    "WKID の値については <a href=\"https://developers.arcgis.com/rest/services-reference/projected-coordinate-systems.htm\">Projected Coordinate Systems</a> や <a href=\"https://developers.arcgis.com/rest/services-reference/geographic-coordinate-systems.htm\">Geographic Coordinate Systems</a> をご参照ください。\n",
    "\n",
    "### 例：Web メルカトルで出力座標を指定"
   ]
  },
  {
   "cell_type": "code",
   "execution_count": 1,
   "metadata": {},
   "outputs": [],
   "source": [
    "from arcgis.geocoding import geocode"
   ]
  },
  {
   "cell_type": "code",
   "execution_count": 2,
   "metadata": {},
   "outputs": [],
   "source": [
    "from arcgis.gis import GIS\n",
    "gis = GIS()"
   ]
  },
  {
   "cell_type": "code",
   "execution_count": 3,
   "metadata": {},
   "outputs": [],
   "source": [
    "esrij = geocode(\"東京都千代田区平河町2-7-1\")[0]"
   ]
  },
  {
   "cell_type": "code",
   "execution_count": 4,
   "metadata": {},
   "outputs": [
    {
     "data": {
      "text/plain": [
       "{'x': 139.740651, 'y': 35.679213000000004}"
      ]
     },
     "execution_count": 4,
     "metadata": {},
     "output_type": "execute_result"
    }
   ],
   "source": [
    "esrij['location']"
   ]
  },
  {
   "cell_type": "markdown",
   "metadata": {},
   "source": [
    "上記は、デフォルトの空間参照 (WKID:4326) です。out_sr パラメーターを用いて出力空間参照を 102100 に設定することで、Webメルカトル座標系 (WKID:102100) の位置を取得することができます。"
   ]
  },
  {
   "cell_type": "code",
   "execution_count": 5,
   "metadata": {},
   "outputs": [],
   "source": [
    "esrij2 = geocode(\"東京都千代田区平河町2-7-1\", out_sr=102100)[0]"
   ]
  },
  {
   "cell_type": "code",
   "execution_count": 6,
   "metadata": {},
   "outputs": [
    {
     "data": {
      "text/plain": [
       "{'x': 15555858.112440556, 'y': 4256570.878412549}"
      ]
     },
     "execution_count": 6,
     "metadata": {},
     "output_type": "execute_result"
    }
   ],
   "source": [
    "esrij2['location']"
   ]
  },
  {
   "cell_type": "markdown",
   "metadata": {},
   "source": [
    "<a id=\"specify-the-maximum-number-of-candidates\"></a>\n",
    "## 候補の最大数を指定\n",
    "geocode() メソッドの max_locations パラメーターでは、World Geocoding Service の検索によって返される候補の最大数を指定することができます。デフォルトでは、住所検索では最大 20 個、POI 検索では最大 50 個の候補を返すことができます。例として、max_locations=3 と設定した場合、geocode() メソッドは検索が住所やPOIにマッチするかどうかに関わらず、検索の上位3 個の検索結果を返します。max_locations に値が指定されていない場合は、geocode() メソッドはデフォルトの最大値 20 個までを候補として返します。\n",
    "\n",
    "### 例：POI 検索の候補の最大数を指定する"
   ]
  },
  {
   "cell_type": "code",
   "execution_count": 7,
   "metadata": {},
   "outputs": [],
   "source": [
    "matches = geocode(\"Coffee Shop\", out_fields=\"PlaceName,City,Country\", max_locations=3)"
   ]
  },
  {
   "cell_type": "markdown",
   "metadata": {},
   "source": [
    "max_locations=3 を指定しているので、3つの結果が返ってきます。"
   ]
  },
  {
   "cell_type": "code",
   "execution_count": 8,
   "metadata": {},
   "outputs": [
    {
     "data": {
      "text/plain": [
       "3"
      ]
     },
     "execution_count": 8,
     "metadata": {},
     "output_type": "execute_result"
    }
   ],
   "source": [
    "len(matches)"
   ]
  },
  {
   "cell_type": "code",
   "execution_count": 9,
   "metadata": {},
   "outputs": [
    {
     "data": {
      "text/plain": [
       "[{'address': 'Coffee Shop',\n",
       "  'location': {'x': -122.12005999999997, 'y': 37.89071000000007},\n",
       "  'score': 100,\n",
       "  'attributes': {'PlaceName': 'Coffee Shop',\n",
       "   'City': 'Lafayette',\n",
       "   'Country': 'USA'},\n",
       "  'extent': {'xmin': -122.12505999999996,\n",
       "   'ymin': 37.88571000000007,\n",
       "   'xmax': -122.11505999999997,\n",
       "   'ymax': 37.89571000000007}},\n",
       " {'address': 'Coffee Shop',\n",
       "  'location': {'x': -122.05836, 'y': 37.97440000000006},\n",
       "  'score': 100,\n",
       "  'attributes': {'PlaceName': 'Coffee Shop',\n",
       "   'City': 'Concord',\n",
       "   'Country': 'USA'},\n",
       "  'extent': {'xmin': -122.06335999999999,\n",
       "   'ymin': 37.96940000000006,\n",
       "   'xmax': -122.05336,\n",
       "   'ymax': 37.97940000000006}},\n",
       " {'address': 'Coffee Shop',\n",
       "  'location': {'x': -122.42151002611212, 'y': 37.785869923394394},\n",
       "  'score': 100,\n",
       "  'attributes': {'PlaceName': 'Coffee Shop',\n",
       "   'City': 'San Francisco',\n",
       "   'Country': 'USA'},\n",
       "  'extent': {'xmin': -122.42674999999997,\n",
       "   'ymin': 37.78084000000006,\n",
       "   'xmax': -122.41674999999998,\n",
       "   'ymax': 37.79084000000007}}]"
      ]
     },
     "execution_count": 9,
     "metadata": {},
     "output_type": "execute_result"
    }
   ],
   "source": [
    "matches"
   ]
  },
  {
   "cell_type": "markdown",
   "metadata": {},
   "source": [
    "<a id=\"search-within-an-extent\"></a>\n",
    "## 範囲内での検索\n",
    "\n",
    "geocode() メソッドの search_extent パラメーターを使用して検索結果を空間的にフィルタリングすることができます。モバイルアプリケーションで特に便利な、検索の範囲を特定のエリアに限定したい場合は、検索するためのエクステントを定義することができます。エクステントの外側の候補は返されません。\n",
    "エクステントの長方形の座標は、シンプルなカンマ区切りの&lt;左下隅&gt;、&lt;右上隅&gt;の文字列として入力することができます。座標はジオコーダーのデフォルトの空間参照（WGS84）でなければなりません。search_extent パラメーターは、サポートされているすべての検索タイプ（住所、POI、行政区域、郵便番号）で使用することができます。\n",
    "\n",
    "\n",
    "### 例：デフォルトの空間参照で search_extent を使用して POI を検索\n",
    "\n",
    "次の例では、東京都千代田区にある郵便局を検索してプロットしています。search_extent パラメーターには、千代田区のジオコーディング結果 (result['extent']) から取得し、geocode() メソッドに渡します。"
   ]
  },
  {
   "cell_type": "code",
   "execution_count": 10,
   "metadata": {},
   "outputs": [
    {
     "data": {
      "application/vnd.jupyter.widget-view+json": {
       "model_id": "9739eb1ab9a14b2ebc6114ef38e43991",
       "version_major": 2,
       "version_minor": 0
      },
      "text/plain": [
       "MapView(layout=Layout(height='400px', width='100%'))"
      ]
     },
     "metadata": {},
     "output_type": "display_data"
    },
    {
     "data": {
      "text/html": [
       "<div class=\"map-static-img-preview-bb515696-172a-4ba5-a12f-250290813e69\"><img src=\"\"></img></div>"
      ],
      "text/plain": [
       "<IPython.core.display.HTML object>"
      ]
     },
     "metadata": {},
     "output_type": "display_data"
    }
   ],
   "source": [
    "result = geocode(\"東京都千代田区\")[0]\n",
    "map = gis.map(\"東京都千代田区\")\n",
    "map"
   ]
  },
  {
   "cell_type": "code",
   "execution_count": 11,
   "metadata": {},
   "outputs": [],
   "source": [
    "# 千代田区にある郵便局を検索してプロット\n",
    "\n",
    "posts = geocode(\"Post Office\", result['extent'],  max_locations=100)\n",
    "\n",
    "# シンボル設定用の辞書 (dictionary) 生成ツール: https://esri.github.io/arcgis-python-api/tools/symbol.html\n",
    "symbol = {\"color\":[0,0,128,128],\n",
    "          \"size\":18,\n",
    "          \"type\":\"esriSMS\",\n",
    "          \"style\":\"esriSMSCircle\",\n",
    "          \"outline\":{\"color\":[0,0,128,255],\n",
    "                     \"width\":1,\n",
    "                     \"type\":\"esriSLS\",\n",
    "                     \"style\":\"esriSLSSolid\"}}\n",
    "\n",
    "for post in posts:\n",
    "    map.draw(post['location'], symbol=symbol)"
   ]
  },
  {
   "cell_type": "markdown",
   "metadata": {},
   "source": [
    "### 例：search_extent を使用して住所を検索\n",
    "\n",
    "また、エクステント内の道路の住所を検索することもできます。住所検索に search_extent パラメータが定義されている場合、検索から都市と郵便番号を省略しても、有効な一致を見つけることができます。ただし、search_extent で指定した範囲が大きい場合、住所がエクステント内で複数一致する可能性があり、都市、州、郵便番号、またはその他の識別情報を含めて検索を絞り込む必要がある場合があります。さらに、検索に search_extent の範囲外にある都市や郵便番号が含まれている場合は、一致するものは返されません。以下の例では、search_extent を使用した道路の住所を検索しています。"
   ]
  },
  {
   "cell_type": "code",
   "execution_count": 12,
   "metadata": {},
   "outputs": [
    {
     "data": {
      "application/vnd.jupyter.widget-view+json": {
       "model_id": "1b8e59763a474b9cafb4123b45355f9a",
       "version_major": 2,
       "version_minor": 0
      },
      "text/plain": [
       "MapView(layout=Layout(height='400px', width='100%'))"
      ]
     },
     "metadata": {},
     "output_type": "display_data"
    },
    {
     "data": {
      "text/html": [
       "<div class=\"map-static-img-preview-4c94cf93-a3e6-4506-a43d-0a5abe3838f9\"><img src=\"\"></img></div>"
      ],
      "text/plain": [
       "<IPython.core.display.HTML object>"
      ]
     },
     "metadata": {},
     "output_type": "display_data"
    }
   ],
   "source": [
    "map = gis.map(\"Redlands, CA\")\n",
    "map"
   ]
  },
  {
   "cell_type": "code",
   "execution_count": 14,
   "metadata": {},
   "outputs": [],
   "source": [
    "redlands = geocode(\"Redlands, CA\")[0]\n",
    "\n",
    "# シンボル設定用の辞書 (dictionary) 生成ツール: https://esri.github.io/arcgis-python-api/tools/symbol.html\n",
    "symbol = {\"color\":[0,0,128,128],\n",
    "          \"size\":18,\n",
    "          \"type\":\"esriSMS\",\n",
    "          \"style\":\"esriSMSCircle\",\n",
    "          \"outline\":{\"color\":[0,0,128,255],\n",
    "                     \"width\":1,\n",
    "                     \"type\":\"esriSLS\",\n",
    "                     \"style\":\"esriSLSSolid\"}}\n",
    "\n",
    "# Redlands の範囲内で \"380 New Yort St \"を検索\n",
    "esrihq = geocode(\"380 New York St\", redlands['extent'])[0]\n",
    "map.draw(esrihq['location'], symbol=symbol)"
   ]
  },
  {
   "cell_type": "code",
   "execution_count": 15,
   "metadata": {},
   "outputs": [
    {
     "data": {
      "text/plain": [
       "{'xmin': -117.25558999999994,\n",
       " 'ymin': 33.98238000000007,\n",
       " 'xmax': -117.10958999999995,\n",
       " 'ymax': 34.12838000000007}"
      ]
     },
     "execution_count": 15,
     "metadata": {},
     "output_type": "execute_result"
    }
   ],
   "source": [
    "redlands['extent']"
   ]
  },
  {
   "cell_type": "markdown",
   "metadata": {},
   "source": [
    "<a id=\"proximity-searches\"></a>\n",
    "## 近接検索\n",
    "\n",
    "<code>\n",
    "※ 本ノートブックの翻訳時点では、ArcGIS API for Python の API リファレンスの location パラメーターの説明では、 distance パラメーターと併せて用いるものとして説明されていますが、ラッピングしている ArcGIS REST API のドキュメントでは distance パラメーターは既に廃止されており、パラメーターを渡しても認識されない旨が記載されています。\n",
    "</code>\n",
    "\n",
    "ジオコーディングの結果は、通常、検索との関連性や相対的な重要度に応じてソートされます。しかし、特にモバイルアプリケーションではユーザーは現在地に最も近い目的の対象物を見つけることを、より重視している場合があります。このため、geocode() メソッドは、指定された点からの距離に基づいて候補の優先順位付けをサポートしています。location パラメーター や distance パラメーターを指定することで、検索するエリアを定義することができます。location パラメーターはエリアの中心点を表し、distance パラメーターは中心からの半径をメートル単位で定義します。ジオコーディング結果の候補のリストで指定したエリアに近い点が上位に表示されるようになります。\n",
    "\n",
    "### 例：近接検索で郵便局を探す"
   ]
  },
  {
   "cell_type": "code",
   "execution_count": 77,
   "metadata": {},
   "outputs": [
    {
     "data": {
      "application/vnd.jupyter.widget-view+json": {
       "model_id": "35086134f6214c7bb7f4f01114f2e8fe",
       "version_major": 2,
       "version_minor": 0
      },
      "text/plain": [
       "MapView(layout=Layout(height='400px', width='100%'))"
      ]
     },
     "metadata": {},
     "output_type": "display_data"
    },
    {
     "data": {
      "text/html": [
       "<div class=\"map-static-img-preview-084c9923-12a1-4cc1-955a-d8b43107edff\"><img src=\"\"></img></div>"
      ],
      "text/plain": [
       "<IPython.core.display.HTML object>"
      ]
     },
     "metadata": {},
     "output_type": "display_data"
    }
   ],
   "source": [
    "map = gis.map(\"東京都千代田区平河町2-7-1\")\n",
    "map"
   ]
  },
  {
   "cell_type": "code",
   "execution_count": 78,
   "metadata": {},
   "outputs": [
    {
     "data": {
      "text/plain": [
       "{'x': 139.740651, 'y': 35.679213000000004}"
      ]
     },
     "execution_count": 78,
     "metadata": {},
     "output_type": "execute_result"
    }
   ],
   "source": [
    "esrij = geocode(\"東京都千代田区平河町2-7-1\")[0]\n",
    "esrij['location']"
   ]
  },
  {
   "cell_type": "markdown",
   "metadata": {},
   "source": [
    "東京都千代田区平河町2-7-1に近い郵便局を検索しマップに表示します。"
   ]
  },
  {
   "cell_type": "code",
   "execution_count": 90,
   "metadata": {},
   "outputs": [],
   "source": [
    "posts = geocode(\"Post Office\", location=esrij['location'], distance=1000)"
   ]
  },
  {
   "cell_type": "code",
   "execution_count": 91,
   "metadata": {},
   "outputs": [],
   "source": [
    "map.draw(posts[0]['location'])"
   ]
  },
  {
   "cell_type": "code",
   "execution_count": 93,
   "metadata": {},
   "outputs": [
    {
     "name": "stdout",
     "output_type": "stream",
     "text": [
      "町村会館内郵便局\n",
      "全共連ビル内郵便局\n",
      "都道府県会館内郵便局\n",
      "最高裁判所内郵便局\n",
      "山王グランドビル内郵便局\n",
      "一ツ木通局\n",
      "赤坂一ツ木通郵便局\n",
      "海事ビル内郵便局\n",
      "国会内郵便局\n",
      "半蔵門駅前郵便局\n",
      "駅前局\n",
      "ホテルニューオータニ内郵便局\n",
      "山王パークタワー内郵便局\n",
      "赤坂通郵便局\n",
      "赤坂通局\n",
      "千代田一番町郵便局\n",
      "麹町本通郵便局\n",
      "麹町本通局\n",
      "小松ビル内郵便局\n",
      "第二霞ケ関郵便局\n"
     ]
    }
   ],
   "source": [
    "# 一致したアドレスを表示\n",
    "for post in posts:\n",
    "    print(post['attributes']['Match_addr'])"
   ]
  },
  {
   "cell_type": "markdown",
   "metadata": {},
   "source": [
    "以下は location と distance のパラメータ-を使用せずに、郵便局を検索した場合の結果です。"
   ]
  },
  {
   "cell_type": "code",
   "execution_count": 96,
   "metadata": {},
   "outputs": [
    {
     "name": "stdout",
     "output_type": "stream",
     "text": [
      "Post Office, Durga Bazar, Cuttack, Odisha, IND\n",
      "Post Office, Tharangambadi, Nagapattinam, Tamil Nadu, 609313, IND\n",
      "Post Office, 4195 Anderson Hwy, Powhatan, VA, 23139, USA\n",
      "Post Office, 4195 Anderson Hwy, Powhatan, VA, 23139, USA\n",
      "Post Office, 124 E 8th Ave, Cheyenne, WY, 82001, USA\n",
      "Post Office, 49 St, Leduc, Alberta, T9E, CAN\n",
      "Post Office, Caldicot Road, Rogiet, Newport, Gwent, Wales, NP26 3, GBR\n",
      "Post Office, 149 Caerleon Road, Newport, Gwent, Wales, NP19 7, GBR\n",
      "Post Office, Skinner Street, Newport, Gwent, Wales, NP20 1, GBR\n",
      "Post Office, 9 Bridge Street, Newport, Gwent, Wales, NP20 4, GBR\n",
      "Post Office, St Mary Street, Risca, Newport, Gwent, Wales, NP11 6, GBR\n",
      "Post Office, King Street, Nantyglo, Ebbw Vale, Gwent, Wales, NP23 4, GBR\n",
      "Post Office, 9 Beaufort Street, Crickhowell, Powys, Wales, NP8 1, GBR\n",
      "Post Office, Shortbridge Street, Newtown, Powys, Wales, SY16 2, GBR\n",
      "Post Office, 96 Phoenix Street, Sandycroft, Deeside, Clwyd, Wales, CH5 2, GBR\n",
      "Post Office, High Street, Connahs Quay, Deeside, Clwyd, Wales, CH5 4, GBR\n",
      "Post Office, 27 Regent Street, Wrexham, Clwyd, Wales, LL11 1, GBR\n",
      "Post Office, 83 Holt Road, Wrexham, Clwyd, Wales, LL13 8, GBR\n",
      "Post Office, 30 Town Hill, Wrexham, Clwyd, Wales, LL13 8, GBR\n",
      "Post Office, 49 Kingsmills Road, Wrexham, Clwyd, Wales, LL13 8, GBR\n"
     ]
    }
   ],
   "source": [
    "posts = geocode(\"Post Office\")\n",
    "for post in posts:\n",
    "    print(post['attributes']['LongLabel'])"
   ]
  },
  {
   "cell_type": "markdown",
   "metadata": {},
   "source": [
    "### 例：近接と search_extent の両方を使用した検索\n",
    "\n",
    "特定のエリア内の候補のみを返し、候補の場所への近さに応じてソートしたい場合は、search_extent パラメーター、location パラメーター、distance パラメーターを一緒に指定することで、検索範囲を定義できます。"
   ]
  },
  {
   "cell_type": "code",
   "execution_count": 97,
   "metadata": {},
   "outputs": [],
   "source": [
    "address = \"Post Office\"\n",
    "location = esrij['location']\n",
    "distance =  1000\n",
    "search_extent = esrij['extent']"
   ]
  },
  {
   "cell_type": "code",
   "execution_count": 100,
   "metadata": {},
   "outputs": [
    {
     "name": "stdout",
     "output_type": "stream",
     "text": [
      "町村会館内郵便局\n"
     ]
    }
   ],
   "source": [
    "posts = geocode(address, search_extent, location, distance)\n",
    "for post in posts:\n",
    "    print(post['attributes']['Match_addr'])"
   ]
  },
  {
   "cell_type": "markdown",
   "metadata": {},
   "source": [
    "<a id=\"category-filtering\"></a>\n",
    "## カテゴリでフィルタリング"
   ]
  },
  {
   "cell_type": "markdown",
   "metadata": {},
   "source": [
    "geocode() メソッドは、住所や場所のタイプを表すカテゴリによる検索のフィルタリングをサポートしています。geocode() の category パラメーターを含めることで、 曖昧な検索による予期せぬ場所や住所の型への誤認マッチを回避することができます。\n",
    "\n",
    "例えば、\"Mammoth \"と検索した場合、\"Mammoth \"という名前の場所は世界にたくさんあるので、 \"Mammoth \"という名前の都市がいくつか出てきます。\n",
    "\n",
    "\n",
    "### 例 : category パラメーターを指定せずに \"Mammoth\" を検索"
   ]
  },
  {
   "cell_type": "code",
   "execution_count": 38,
   "metadata": {},
   "outputs": [
    {
     "name": "stdout",
     "output_type": "stream",
     "text": [
      "Mammoth, Arizona\n",
      "Mammoth, West Virginia\n",
      "Mammoth, Pennsylvania\n",
      "Mammoth, California\n",
      "Mammoth, Missouri\n",
      "Mammoth, Montana\n",
      "Mammoth, Wyoming\n",
      "Mammoth, Utah\n",
      "Mammoth\n",
      "Mammoth\n",
      "Mammoth\n",
      "Mammoth\n",
      "Mammoth\n",
      "Mammoth\n",
      "Mammoth\n",
      "Mammoth\n",
      "Mammoth\n",
      "Mammoth\n",
      "Mammoth\n",
      "Mammoth\n"
     ]
    }
   ],
   "source": [
    "mammoths = geocode(\"Mammoth\")\n",
    "for mammoth in mammoths:\n",
    "    print(mammoth['address'])"
   ]
  },
  {
   "cell_type": "markdown",
   "metadata": {},
   "source": [
    "geocode() メソッドの category パラメーターを使用して category=Ski Resort のように指定することで、名前に \"Mammoth \"を含むスキーリゾートだけが返されます。\n",
    "\n",
    "### 例 : category パラメーターに Ski Resort を指定して \"Mammoth\" を検索"
   ]
  },
  {
   "cell_type": "code",
   "execution_count": 101,
   "metadata": {},
   "outputs": [
    {
     "name": "stdout",
     "output_type": "stream",
     "text": [
      "Mammoth Mountain\n"
     ]
    }
   ],
   "source": [
    "mammoths = geocode(\"Mammoth\", category=\"Ski Resort\")\n",
    "for mammoth in mammoths:\n",
    "    print(mammoth['address'])"
   ]
  },
  {
   "cell_type": "markdown",
   "metadata": {},
   "source": [
    "カテゴリの詳細は、<a href=\"https://developers.arcgis.com/rest/geocode/api-reference/geocoding-category-filtering.htm\">Category filtering</a> をご参照ください。"
   ]
  },
  {
   "cell_type": "code",
   "execution_count": null,
   "metadata": {},
   "outputs": [],
   "source": []
  }
 ],
 "metadata": {
  "kernelspec": {
   "display_name": "Python 3",
   "language": "python",
   "name": "python3"
  },
  "language_info": {
   "codemirror_mode": {
    "name": "ipython",
    "version": 3
   },
   "file_extension": ".py",
   "mimetype": "text/x-python",
   "name": "python",
   "nbconvert_exporter": "python",
   "pygments_lexer": "ipython3",
   "version": "3.6.9"
  }
 },
 "nbformat": 4,
 "nbformat_minor": 1
}
