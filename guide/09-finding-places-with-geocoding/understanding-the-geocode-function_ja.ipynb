{
 "cells": [
  {
   "cell_type": "markdown",
   "metadata": {},
   "source": [
    "# geocode() メソッドの理解"
   ]
  },
  {
   "cell_type": "markdown",
   "metadata": {},
   "source": [
    "arcgis.geocoding モジュールの geocode() メソッドは、リクエストごとに 1 つの場所をジオコーディングします。入力として指定できる住所は、単一行形式の住所文字列か、アドレス フィールドと同じ名前のキーを持つPython の辞書型を使って複数のパラメーターに分割することができます。\n",
    "\n",
    "<img src=\"https://developers.arcgis.com/rest/geocode/api-reference/GUID-F2F78690-5FB5-4BF1-8633-26BF184C45A9-web.png\"/>"
   ]
  },
  {
   "cell_type": "markdown",
   "metadata": {},
   "source": [
    "geocode() メソッドは、以下のタイプの場所検索をサポートしています。\n",
    "* **住所**\n",
    " * <code class=\"usertext\">27488 Stanford Ave, Bowden, North Dakota</code>\n",
    " * <code class=\"usertext\">380 New York St, Redlands, CA 92373</code>\n",
    "* **POI (Points of interest)** ※[POI とは](https://www.esrij.com/gis-guide/gis-other/point-of-interest/)\n",
    " * <code class=\"usertext\">Disneyland</code>\n",
    " * <code class=\"usertext\">banks in Paris</code>\n",
    " * <code class=\"usertext\">los angeles starbucks</code>\n",
    " * <code class=\"usertext\">mount everest</code>\n",
    "* **市名、郡名、州名、県名、国名などの行政地名**\n",
    " * <code class=\"usertext\">Seattle, Washington</code>\n",
    " * <code class=\"usertext\">State of Mahārāshtra</code>\n",
    " * <code class=\"usertext\">Liechtenstein</code>\n",
    " * <code class=\"usertext\">mount everest</code>\n",
    "* **郵便番号**\n",
    " * <code class=\"usertext\">92591</code>\n",
    " * <code class=\"usertext\">TW9 1DN</code>"
   ]
  },
  {
   "cell_type": "markdown",
   "metadata": {},
   "source": [
    "検索結果の絞り込みには次のようないくつかのオプションがあります。\n",
    "* ジオコーディングで返す出力フィールドを out_fields パラメーターで指定します。.\n",
    "* 空間参照を out_sr パラメータで指定します。.\n",
    "* max_locations パラメーターで候補の数を制限します。\n",
    "* search_extent パラメーターで検索結果を指定した領域に限定します。\n",
    "* location パラメーターや distance パラメーターを使用して、ジオコーディングの候補をその位置の近接度をもとにソートします。\n",
    "* category パラメーターを使用して検索結果をフィルタリングします。\n",
    "\n",
    "このノートブックでは 次の geocode()メソッドのパラメーターについてご紹介します。\n",
    " - [`geocode()` メソッドのパラメーター](#geocode-function-signature-and-parameters)\n",
    "   - [`address` パラメーター](#address-parameter)\n",
    "     - [single line address](#single-line-address)\n",
    "     - [multi field address](#multi-field-address)\n",
    "   - [`search_extent` パラメーター](#search-extent-parameter)\n",
    "   - [`location` パラメーター](#location-parameter)\n",
    "   - [`distance` パラメーター](#distance-parameter)\n",
    "   - [`category` パラメーター](#category-parameter)\n",
    "   - [`out_sr` パラメーター](#out-sr-parameter)\n",
    "   - [`out_fields` パラメーター](#out-fields-parameter)\n",
    "   - [`max_locations` パラメーター](#max-locations-parameter)\n",
    "   - [`for_storage` パラメーター](#for-storage-parameter)"
   ]
  },
  {
   "cell_type": "markdown",
   "metadata": {},
   "source": [
    "<a id=\"geocode-function-signature-and-parameters\"></a>\n",
    "## geocode() メソッドのパラメーター\n",
    "geocode()メソッドは、単一フィールド形式での場所や住所の検索や、複数のパラメーターに住所を分割した複数フィールド形式での検索をサポートしています。\n",
    "\n",
    "以下では、geocode()メソッドの各パラメーターについてを簡単ご紹介します。"
   ]
  },
  {
   "cell_type": "code",
   "execution_count": 1,
   "metadata": {},
   "outputs": [],
   "source": [
    "from arcgis.geocoding import geocode"
   ]
  },
  {
   "cell_type": "code",
   "execution_count": 2,
   "metadata": {},
   "outputs": [
    {
     "name": "stdout",
     "output_type": "stream",
     "text": [
      "Help on function geocode in module arcgis.geocoding._functions:\n",
      "\n",
      "geocode(address, search_extent=None, location=None, distance=None, out_sr=None, category=None, out_fields='*', max_locations=20, magic_key=None, for_storage=False, geocoder=None, as_featureset=False)\n",
      "    The geocode function geocodes one location per request.\n",
      "    \n",
      "    ===============     ====================================================\n",
      "    **Argument**        **Description**\n",
      "    ---------------     ----------------------------------------------------\n",
      "    address             required list of strings or dictionaries.\n",
      "                        Specifies the location to be geocoded. This can be\n",
      "                        a string containing the street address, place name,\n",
      "                        postal code, or POI.\n",
      "    \n",
      "                        Alternatively, this can be a dictionary containing\n",
      "                        the various address fields accepted by the\n",
      "                        corresponding geocoder. These fields are listed in\n",
      "                        the addressFields property of the associated\n",
      "                        geocoder. For example, if the address_fields of a\n",
      "                        geocoder includes fields with the following names:\n",
      "                        Street, City, State and Zone, then the address\n",
      "                        argument is of the form:\n",
      "                        {\n",
      "                          Street: \"1234 W Main St\",\n",
      "                          City: \"Small Town\",\n",
      "                          State: \"WA\",\n",
      "                          Zone: \"99027\"\n",
      "                        }\n",
      "    ---------------     ----------------------------------------------------\n",
      "    search_extent       optional string, A set of bounding box coordinates\n",
      "                        that limit the search area to a specific region.\n",
      "                        This is especially useful for applications in which\n",
      "                        a user will search for places and addresses only\n",
      "                        within the current map extent.\n",
      "    ---------------     ----------------------------------------------------\n",
      "    location            optionl [x,y], Defines an origin point location that\n",
      "                        is used with the distance parameter to sort\n",
      "                        geocoding candidates based upon their proximity to\n",
      "                        the location.\n",
      "    ---------------     ----------------------------------------------------\n",
      "    distance            optional float, Specifies the radius of an area\n",
      "                        around a point location which is used to boost the\n",
      "                        rank of geocoding candidates so that candidates\n",
      "                        closest to the location are returned first. The\n",
      "                        distance value is in meters.\n",
      "    ---------------     ----------------------------------------------------\n",
      "    out_sr              optional dictionary, The spatial reference of the\n",
      "                        x/y coordinates returned by a geocode request. This\n",
      "                        is useful for applications using a map with a spatial\n",
      "                        reference different than that of the geocode service.\n",
      "    ---------------     ----------------------------------------------------\n",
      "    category            optional string, A place or address type which can\n",
      "                        be used to filter find results. The parameter\n",
      "                        supports input of single category values or multiple\n",
      "                        comma-separated values. The category parameter can be\n",
      "                        passed in a request with or without the text\n",
      "                        parameter.\n",
      "    ---------------     ----------------------------------------------------\n",
      "    out_fields          optional string, name of all the fields to inlcude.\n",
      "                        The default is \"*\" which means all fields.\n",
      "    ---------------     ----------------------------------------------------\n",
      "    max_location        optional integer, The number of locations to be\n",
      "                        returned from the service. The default is 20.\n",
      "    ---------------     ----------------------------------------------------\n",
      "    magic_key           The find operation retrieves results quicker when\n",
      "                        you pass a valid text and magickey value.\n",
      "    ---------------     ----------------------------------------------------\n",
      "    for_storage         Specifies whether the results of the operation will\n",
      "                        be persisted. The default value is false, which\n",
      "                        indicates the results of the operation can't be\n",
      "                        stored, but they can be temporarily displayed on a\n",
      "                        map for instance. If you store the results, in a\n",
      "                        database for example, you need to set this parameter\n",
      "                        to true.\n",
      "    ---------------     ----------------------------------------------------\n",
      "    geocoder            Optional, the geocoder to be used. If not specified,\n",
      "                        the active GIS's first geocoder is used.\n",
      "    ---------------     ----------------------------------------------------\n",
      "    as_featureset       optional boolean, if True, the result set is\n",
      "                        returned as a FeatureSet object, else it is a\n",
      "                        dictionary.\n",
      "    ===============     ====================================================\n",
      "    \n",
      "    :returns:\n",
      "       dictionary\n",
      "\n"
     ]
    }
   ],
   "source": [
    "# メソッドのヘルプを表示することができます\n",
    "help(geocode)"
   ]
  },
  {
   "cell_type": "markdown",
   "metadata": {},
   "source": [
    "<a id=\"address-parameter\"></a>\n",
    "### address パラメーター\n",
    "<a id=\"single-line-address\"></a>\n",
    "#### 単一行の住所\n",
    "\n",
    "address パラメーターにはジオコーディングする住所を指定します。単一行の住所や地名、郵便番号、または POI を含む文字列を指定することができます。"
   ]
  },
  {
   "cell_type": "markdown",
   "metadata": {},
   "source": [
    "#### 例 : 単一行の住所を指定したジオコーディング"
   ]
  },
  {
   "cell_type": "code",
   "execution_count": 16,
   "metadata": {},
   "outputs": [
    {
     "data": {
      "application/vnd.jupyter.widget-view+json": {
       "model_id": "1788aa50302243cf9bf083f155ceddc3",
       "version_major": 2,
       "version_minor": 0
      },
      "text/plain": [
       "MapView(layout=Layout(height='400px', width='100%'))"
      ]
     },
     "metadata": {},
     "output_type": "display_data"
    },
    {
     "data": {
      "text/html": [
       "<div class=\"map-static-img-preview-728a2b9c-43e7-4cd9-a415-24f7e115e6c1\"><img src=\"\"></img></div>"
      ],
      "text/plain": [
       "<IPython.core.display.HTML object>"
      ]
     },
     "metadata": {},
     "output_type": "display_data"
    }
   ],
   "source": [
    "from arcgis.gis import GIS\n",
    "\n",
    "gis = GIS()\n",
    "map = gis.map(\"東京都千代田区平河町\")\n",
    "map"
   ]
  },
  {
   "cell_type": "code",
   "execution_count": 17,
   "metadata": {},
   "outputs": [],
   "source": [
    "single_line_address = \"東京都千代田区平河町2-7-1\""
   ]
  },
  {
   "cell_type": "code",
   "execution_count": 18,
   "metadata": {},
   "outputs": [],
   "source": [
    "# 単一行の住所をジオコーディングし、結果の1番目を地図上にプロットします。\n",
    "esrij = geocode(single_line_address)[0]\n",
    "\n",
    "# シンボル設定用の辞書 (dictionary) 生成ツール: https://esri.github.io/arcgis-python-api/tools/symbol.html\n",
    "symbol = {\"color\":[0,0,128,128],\n",
    "          \"size\":18,\n",
    "          \"type\":\"esriSMS\",\n",
    "          \"style\":\"esriSMSCircle\",\n",
    "          \"outline\":{\"color\":[0,0,128,255],\n",
    "                     \"width\":1,\n",
    "                     \"type\":\"esriSLS\",\n",
    "                     \"style\":\"esriSLSSolid\"}}\n",
    "\n",
    "# ポップアップを追加します\n",
    "popup = { \n",
    "    \"title\" : \"ESRIジャパン株式会社\", \n",
    "    \"content\" : esrij['address']\n",
    "    }\n",
    "map.draw(esrij['location'], popup, symbol=symbol)"
   ]
  },
  {
   "cell_type": "code",
   "execution_count": 19,
   "metadata": {},
   "outputs": [
    {
     "data": {
      "text/plain": [
       "{'x': 139.740651,\n",
       " 'y': 35.679213000000004,\n",
       " 'type': 'point',\n",
       " 'spatialReference': {'wkid': 4326}}"
      ]
     },
     "execution_count": 19,
     "metadata": {},
     "output_type": "execute_result"
    }
   ],
   "source": [
    "# 結果の場所(x,y)を表示します。\n",
    "esrij['location']"
   ]
  },
  {
   "cell_type": "markdown",
   "metadata": {},
   "source": [
    "<a id=\"multi-field-address\"></a>\n",
    "#### 複数フィールドの住所\n",
    "geocode() メソッドは、ジオコード サービスで受け入れ可能なフィールド名に対応した辞書（Dict）を使用して、複数フィールドの形式で住所を指定することもできます。\n",
    "\n",
    "また、多くの異なる国々の住所情報に対応するため、geocode() メソッドは標準化されたフィールド名を使用します。\n",
    "\n",
    "ジオコーダーの addressFields プロパティは、アドレスをジオコーディングする際に受け入れ可能な様々なアドレスフィールドを指定します。neighborhood, city, subregion, region の各パラメーターは、国の行政区分を表します。これらは国によって異なり、すべての国ですべての行政区分が使用されているわけではありません。例えば、アメリカの住所では、市(city)と地域(state)のパラメーターのみが使用されます。メキシコの住所では、市の中の地区(colonias)、市の中の市町村(municipios)、州(estados)には地域パラメータが使用され、スペインでは4つの行政区分すべてが使用されます。\n",
    "\n",
    "例えば、ジオコードサービスの addressFields に Address、City、Region、Postalという名前のフィールドが含まれている場合、以下のような形式になります。\n",
    "\n",
    "#### 例: 複数フィールドの住所を指定したジオコーディング"
   ]
  },
  {
   "cell_type": "code",
   "execution_count": 23,
   "metadata": {},
   "outputs": [],
   "source": [
    "multi_field_address = { \n",
    "    \"Address\" : \"平河町2-7-1\",\n",
    "    \"City\" : \"千代田区\",\n",
    "    \"Region\" : \"東京都\",\n",
    "    \"Postal\" : 1020093\n",
    "    }"
   ]
  },
  {
   "cell_type": "code",
   "execution_count": 24,
   "metadata": {},
   "outputs": [
    {
     "data": {
      "application/vnd.jupyter.widget-view+json": {
       "model_id": "0a4ef81f04214476a594d4d2368991a6",
       "version_major": 2,
       "version_minor": 0
      },
      "text/plain": [
       "MapView(layout=Layout(height='400px', width='100%'))"
      ]
     },
     "metadata": {},
     "output_type": "display_data"
    },
    {
     "data": {
      "text/html": [
       "<div class=\"map-static-img-preview-8cc0be3c-0097-4deb-99e4-8596f76d053a\"><img src=\"\"></img></div>"
      ],
      "text/plain": [
       "<IPython.core.display.HTML object>"
      ]
     },
     "metadata": {},
     "output_type": "display_data"
    }
   ],
   "source": [
    "map = gis.map(\"東京都千代田区\")\n",
    "map"
   ]
  },
  {
   "cell_type": "code",
   "execution_count": 25,
   "metadata": {},
   "outputs": [],
   "source": [
    "# 複数フィールドの住所をジオコーディングし、結果の１番目を地図上にプロットします。\n",
    "\n",
    "esrij = geocode(multi_field_address)[0]\n",
    "\n",
    "# シンボル設定用の辞書 (dictionary) 生成ツール: https://esri.github.io/arcgis-python-api/tools/symbol.html\n",
    "symbol = {\"color\":[0,0,128,128],\n",
    "          \"size\":18,\n",
    "          \"type\":\"esriSMS\",\n",
    "          \"style\":\"esriSMSCircle\",\n",
    "          \"outline\":{\"color\":[0,0,128,255],\n",
    "                     \"width\":1,\n",
    "                     \"type\":\"esriSLS\",\n",
    "                     \"style\":\"esriSLSSolid\"}}\n",
    "\n",
    "popup = { \n",
    "    \"title\" : \"ESRIジャパン株式会社\", \n",
    "    \"content\" : esrij['address']\n",
    "    }\n",
    "map.draw(esrij['location'], popup, symbol=symbol)"
   ]
  },
  {
   "cell_type": "markdown",
   "metadata": {},
   "source": [
    "geocode() メソッドは、一致する可能性のあるアドレスの配列 (アドレス候補) を返します。各アドレス候補は、以下のキーを持つ Python の辞書型として表現されます。"
   ]
  },
  {
   "cell_type": "code",
   "execution_count": 26,
   "metadata": {},
   "outputs": [
    {
     "data": {
      "text/plain": [
       "dict_keys(['address', 'location', 'score', 'attributes', 'extent'])"
      ]
     },
     "execution_count": 26,
     "metadata": {},
     "output_type": "execute_result"
    }
   ],
   "source": [
    "esrij.keys()"
   ]
  },
  {
   "cell_type": "markdown",
   "metadata": {},
   "source": [
    "辞書のキーの値は以下の通りです。\n",
    "\n",
    "* <code>score</code> ：入力した住所が返却された候補の住所情報とどの程度マッチしているかを 0～100 の値で表します。100 は完全に一致していることを表し、低い値は一致度合いが低いことを表します。\n",
    "* <code>location</code>：マッチした住所の位置情報 (x, y) が含まれています。\n",
    "* <code>address</code> ：マッチした住所が含まれています。\n",
    "* <code>attributes</code> ：上記のアドレス候補 プロパティに関連した幾つかのパラメーターが含まれています。\n",
    "* <code>extent</code> ：マッチした住所のエクステントが含まれています。"
   ]
  },
  {
   "cell_type": "markdown",
   "metadata": {},
   "source": [
    "<a id=\"search-extent-parameter\"></a>\n",
    "### search_extent パラメーター\n",
    "\n",
    "検索範囲を特定の地域に限定する座標を指定することが可能です。これは、特にユーザーが現在のマップの表示範囲内で、場所や住所を検索するアプリケーションでの利用する場合に便利です。\n",
    "\n",
    "search_extent で座標の空間参照を指定することが可能ですが、これは地図の空間参照がジオコーディング サービスの空間参照と異なる場合に必要で、それ以外は、座標の空間参照がジオコーディング サービスの空間参照と同一であると見なされます。\n",
    "\n",
    "#### 例：千代田区平河町周辺の病院\n",
    "\n",
    "以下の例では、千代田区平河町周辺にある病院を検索してプロットしています。\n",
    "search_extent パラメーターには、東京都千代田区平河町のジオコーディング結果 (result['extent']) から取得したエクステントを渡しています。"
   ]
  },
  {
   "cell_type": "code",
   "execution_count": 27,
   "metadata": {},
   "outputs": [
    {
     "data": {
      "application/vnd.jupyter.widget-view+json": {
       "model_id": "d6b9267f058f4e46aa44eea27a3a2224",
       "version_major": 2,
       "version_minor": 0
      },
      "text/plain": [
       "MapView(layout=Layout(height='400px', width='100%'))"
      ]
     },
     "metadata": {},
     "output_type": "display_data"
    },
    {
     "data": {
      "text/html": [
       "<div class=\"map-static-img-preview-b987a0a4-5bec-430f-97c0-3a8e9afb2e7b\"><img src=\"\"></img></div>"
      ],
      "text/plain": [
       "<IPython.core.display.HTML object>"
      ]
     },
     "metadata": {},
     "output_type": "display_data"
    }
   ],
   "source": [
    "result = geocode(\"東京都千代田区平河町\")[0]\n",
    "map = gis.map(result)\n",
    "map"
   ]
  },
  {
   "cell_type": "code",
   "execution_count": 28,
   "metadata": {},
   "outputs": [
    {
     "data": {
      "text/plain": [
       "{'xmin': 139.7319804050001,\n",
       " 'ymin': 35.67275705600006,\n",
       " 'xmax': 139.7479804050001,\n",
       " 'ymax': 35.688757056000064}"
      ]
     },
     "execution_count": 28,
     "metadata": {},
     "output_type": "execute_result"
    }
   ],
   "source": [
    "result['extent']"
   ]
  },
  {
   "cell_type": "code",
   "execution_count": 29,
   "metadata": {},
   "outputs": [],
   "source": [
    "# 平河町周辺の病院をジオコーディング\n",
    "# ArcGIS World Geocoding Service を用いて郵便局、病院など不特定のPOIを検索する際は英単語で行うことをおすすめします。\n",
    "hospitals = geocode(\"hospital\", result['extent'], max_locations=100)\n",
    "\n",
    "# シンボル設定用の辞書 (dictionary) 生成ツール: https://esri.github.io/arcgis-python-api/tools/symbol.html\n",
    "symbol = {\"color\":[0,0,128,128],\n",
    "          \"size\":18,\n",
    "          \"type\":\"esriSMS\",\n",
    "          \"style\":\"esriSMSCircle\",\n",
    "          \"outline\":{\"color\":[0,0,128,255],\n",
    "                     \"width\":1,\n",
    "                     \"type\":\"esriSLS\",\n",
    "                     \"style\":\"esriSLSSolid\"}}\n",
    "\n",
    "for hospital in hospitals:\n",
    "    map.draw(hospital['location'] ,symbol=symbol)"
   ]
  },
  {
   "cell_type": "markdown",
   "metadata": {},
   "source": [
    "<a id=\"location-parameter\"></a>\n",
    "### location パラメーター\n",
    "\n",
    "<code>\n",
    "※ 本ノートブックの翻訳時点では、ArcGIS API for Python の API リファレンスの location パラメーターの説明では、 distance パラメーターと併せて用いるものとして説明されていますが、ラッピングしている ArcGIS REST API のドキュメントでは distance パラメーターは既に廃止されており、パラメーターを渡しても認識されない旨が記載されています。\n",
    "</code>\n",
    "\n",
    "location パラメーターでは近さに基づいてジオコーディングの候補をソートするために、distance パラメーターと共に使用されます。distance パラメーターは、その場所からの半径をメートル単位で指定します。この半径内の候補の優先度は、半径外の候補よりも相対的に高くなります。\n",
    "\n",
    "これは、現在のGPS位置情報から、近くにある場所を検索するモバイルアプリケーションでの利用に便利な機能です。\n",
    "\n",
    "特定の距離をlocation パラメーターで指定しない場合、デフォルトで 50000 メートル が使用されます。\n",
    "\n",
    "location パラメーターは、シンプルなカンマ区切りでの(x,y)のように表すか、JSON ポイント オブジェクトとして表して、指定することが可能です。カンマ区切りでの(x,y) で指定する場合、空間参照は WGS84 でなければなりません。それ以外の場合は、ポイントの座標の空間参照をJSON オブジェクトとして指定することが可能です。\n",
    "\n",
    "\n",
    "・シンプルな指定（WGS84）の例:\n",
    "<code>\n",
    "location=-117.196,34.056\n",
    "</code>\n",
    "\n",
    "・ポイントの座標の空間参照を使ってJSON ポイントオブジェクトで指定した例：\n",
    "<code>\n",
    "location=\n",
    "{\n",
    "    \"x\": -13046165.572,\n",
    "    \"y\": 4036389.847,\n",
    "    \"spatialReference\": {\n",
    "        \"wkid\": 102100\n",
    "    }\n",
    "}\n",
    "</code>\n",
    "\n",
    "<a id=\"distance-parameter\"></a>\n",
    "### distance パラメーター\n",
    "\n",
    "distance パラメーターはジオコーディングの候補のランクを上げるために使用するパラメーターで、点の位置からの周囲の半径をメートル単位で指定します。\n",
    "\n",
    "distance パラメーターを指定する場合は、location パラメーターも指定する必要があります。\n",
    "\n",
    "search_extent パラメーターとは異なり、location パラメーターと distance パラメーターは、指定した検索半径を超えて検索することに注意が必要です。これらは、結果をフィルタリングするために使用されるのではなく、指定した場所からの距離に基づいた候補のランク付けを行うために使用されます。検索結果を特定のエリアに限定したい場合は、location と distance に加えて search_extent パラメーターを指定する必要があります。\n",
    "\n",
    "・現在の範囲の 3 km 以内で検索した例:\n",
    "<code>\n",
    "distance=3000\n",
    "</code>\n",
    "\n",
    "<a id=\"category-parameter\"></a>\n",
    "### category パラメーター\n",
    "\n",
    "category パラメーターはジオコーディングの結果をフィルタリングするために使用できる場所またはアドレスのタイプを指定することができます。このパラメーターは、1つのカテゴリの値、もしくはカンマ区切りでの複数のカテゴリの値をサポートします。category パラメーターは、1つのカテゴリ、複数のカテゴリでも、1つのリクエストに含めて渡すことが可能です。\n",
    "\n",
    "・1つのカテゴリでフィルタリングを行う例:\n",
    "<code>\n",
    "category=\"Address\"\n",
    "</code>\n",
    "\n",
    "・複数のカテゴリでフィルタリングを行う例:\n",
    "<code>\n",
    "category=\"Address,Postal\"\n",
    "</code>\n",
    "\n",
    "category パラメーターは、単一フィールド形式での利用の場合のみ機能し、複数フィールド形式での利用は動作しません。\n",
    "カテゴリの詳細は、<a href=\"https://developers.arcgis.com/rest/geocode/api-reference/geocoding-category-filtering.htm\">Category filtering</a> をご参照ください。\n",
    "\n",
    "\n",
    "### 例:千代田区平河町周辺の飲食店を検索"
   ]
  },
  {
   "cell_type": "code",
   "execution_count": 34,
   "metadata": {},
   "outputs": [
    {
     "data": {
      "application/vnd.jupyter.widget-view+json": {
       "model_id": "893efab2a4984b7a9cf7e0c65080d306",
       "version_major": 2,
       "version_minor": 0
      },
      "text/plain": [
       "MapView(layout=Layout(height='400px', width='100%'))"
      ]
     },
     "metadata": {},
     "output_type": "display_data"
    },
    {
     "data": {
      "text/html": [
       "<div class=\"map-static-img-preview-128f51fa-329c-43b7-a9ce-fd891d7bdbcd\"><img src=\"\"></img></div>"
      ],
      "text/plain": [
       "<IPython.core.display.HTML object>"
      ]
     },
     "metadata": {},
     "output_type": "display_data"
    }
   ],
   "source": [
    "result = geocode(\"東京都千代田区平河町\")[0]\n",
    "\n",
    "map = gis.map(result)\n",
    "map"
   ]
  },
  {
   "cell_type": "code",
   "execution_count": 35,
   "metadata": {},
   "outputs": [],
   "source": [
    "# 東京都千代田区平河町周辺の飲食店を検索しプロット\n",
    "\n",
    "restaurants = geocode(None, result['extent'], category=\"Food\", max_locations=100)\n",
    "\n",
    "# シンボル設定用の辞書 (dictionary) 生成ツール: https://esri.github.io/arcgis-python-api/tools/symbol.html\n",
    "symbol = {\"color\":[0,0,128,128],\n",
    "          \"size\":18,\n",
    "          \"type\":\"esriSMS\",\n",
    "          \"style\":\"esriSMSCircle\",\n",
    "          \"outline\":{\"color\":[0,0,128,255],\n",
    "                     \"width\":1,\n",
    "                     \"type\":\"esriSLS\",\n",
    "                     \"style\":\"esriSLSSolid\"}}\n",
    "\n",
    "for restaurant in restaurants:\n",
    "    popup = { \n",
    "    \"title\" : \"平河町周辺飲食店\", \n",
    "    \"content\" : restaurant['address']\n",
    "    }\n",
    "    map.draw(restaurant['location'], popup, symbol=symbol)"
   ]
  },
  {
   "cell_type": "markdown",
   "metadata": {},
   "source": [
    "### 例:複数のカテゴリで検索し、異なるシンボルでプロット\n",
    "\n",
    "以下の例では、平河町周辺での飲食店とコンビニエンスストアを検索し、'Type'属性に基づいて異なるシンボルを使用してそれらの場所をプロットしています。"
   ]
  },
  {
   "cell_type": "code",
   "execution_count": 36,
   "metadata": {},
   "outputs": [],
   "source": [
    "categories = \"Food, Convenience Store\""
   ]
  },
  {
   "cell_type": "code",
   "execution_count": 37,
   "metadata": {},
   "outputs": [
    {
     "data": {
      "application/vnd.jupyter.widget-view+json": {
       "model_id": "daf810b1720243648f15fa9176dabda0",
       "version_major": 2,
       "version_minor": 0
      },
      "text/plain": [
       "MapView(layout=Layout(height='400px', width='100%'))"
      ]
     },
     "metadata": {},
     "output_type": "display_data"
    },
    {
     "data": {
      "text/html": [
       "<div class=\"map-static-img-preview-3f4c325b-8fb9-44b9-9651-874c2952b593\"><img src=\"\"></img></div>"
      ],
      "text/plain": [
       "<IPython.core.display.HTML object>"
      ]
     },
     "metadata": {},
     "output_type": "display_data"
    }
   ],
   "source": [
    "result = geocode(\"東京都千代田区平河町\")[0]\n",
    "\n",
    "map = gis.map(result)\n",
    "map"
   ]
  },
  {
   "cell_type": "code",
   "execution_count": 38,
   "metadata": {},
   "outputs": [],
   "source": [
    "# 平河町周辺での飲食店とコンビニエンスストアを検索\n",
    "\n",
    "# シンボル設定用の辞書 (dictionary) 生成ツール: https://esri.github.io/arcgis-python-api/tools/symbol.html\n",
    "symbol = {\"color\":[0,0,128,128],\n",
    "          \"size\":18,\n",
    "          \"type\":\"esriSMS\",\n",
    "          \"style\":\"esriSMSCircle\",\n",
    "          \"outline\":{\"color\":[0,0,128,255],\n",
    "                     \"width\":1,\n",
    "                     \"type\":\"esriSLS\",\n",
    "                     \"style\":\"esriSLSSolid\"}}\n",
    "\n",
    "symbol2 = {\"type\": \"esriSMS\",\n",
    "           \"style\": \"esriSMSSquare\",\n",
    "           \"color\": [76,115,0,255],\n",
    "           \"size\": 8,\n",
    "           \"angle\": 0,\n",
    "           \"xoffset\": 0,\n",
    "           \"yoffset\": 0,\n",
    "           \"outline\":{\"color\": [152,230,0,255],\n",
    "                      \"width\": 1}}\n",
    "\n",
    "restaurants = geocode(None,result['extent'], category=categories, max_locations=100)\n",
    "for restaurant in restaurants:\n",
    "    popup = { \n",
    "    \"title\" : restaurant['address'], \n",
    "    \"content\" : \"Phone: \" + restaurant['attributes']['Phone']\n",
    "        }\n",
    "    if restaurant['attributes']['Type'] == 'Convenience Store':\n",
    "        map.draw(restaurant['location'], popup, symbol2) # 異なる（緑色の四角形）シンボルで描画\n",
    "    else:\n",
    "        map.draw(restaurant['location'], popup, symbol)"
   ]
  },
  {
   "cell_type": "markdown",
   "metadata": {},
   "source": [
    "<a id=\"out-sr-parameter\"></a>\n",
    "### out_sr  パラメーター\n",
    "\n",
    "geocode() メソッドが返す xy 座標の空間参照を指定することができます。これは、ジオコーダーの空間参照とは異なる空間参照を持つ地図を使用するアプリケーションでの利用する場合に便利です。\n",
    "\n",
    "空間参照は、Well Known ID（WKID）または JSON の空間参照オブジェクトのいずれかで指定することができます。out_sr パラメーターが指定されていない場合、空間参照はジオコーダーの空間参照と同じになります。World Geocoding Service の空間参照は WGS84（WKID = 4326）です。\n",
    "\n",
    "WKID については、<a href=\"https://developers.arcgis.com/rest/services-reference/projected-coordinate-systems.htm\">Projected Coordinate Systems</a> や <a href=\"https://developers.arcgis.com/rest/services-reference/geographic-coordinate-systems.htm\">Geographic Coordinate Systems</a> を参照してください。\n",
    "\n",
    "・Web メルカトル座標系の WKID (102100)を指定した例:\n",
    "<code>\n",
    "out_sr=102100\n",
    "</code>\n",
    "\n",
    "<a id=\"out-fields-parameter\"></a>\n",
    "### out_fields パラメーター\n",
    "\n",
    "返却されるフィールドのリストです。各フィールドについては、<a href=\"https://developers.arcgis.com/rest/geocode/api-reference/geocoding-service-output.htm#ESRI_SECTION1_42D7D3D0231241E9B656C01438209440\">Output fields</a> を参照してください。\n",
    "\n",
    "デフォルトでは、マッチした住所とXY 座標、マッチスコア、空間参照、出力フィーチャの範囲、および addr_type (マッチレベル) が返されます。\n",
    "\n",
    "・すべての出力フィールドを返す例:\n",
    "<code>\n",
    "out_fields=*\n",
    "</code>\n",
    "\n",
    "・指定したフィールドのみを返す例:\n",
    "<code>\n",
    "out_fields=\"AddrNum,StName,City\"\n",
    "</code>\n",
    "\n",
    "<a id=\"max-locations-parameter\"></a>\n",
    "### max_locations パラメーター\n",
    "\n",
    "検索によって返される場所の最大数を指定します。指定されていない場合は、最大数までのすべてのマッチする候補が返されます。\n",
    "\n",
    "World Geocoding Service は、最大20個の候補を返すことができます。\n",
    "\n",
    "・例:\n",
    "<code>\n",
    "max_locations=10\n",
    "</code>\n",
    "\n",
    "<a id=\"for-storage-parameter\"></a>\n",
    "### for_storage パラメーター\n",
    "\n",
    "ジオコーディング結果を保存するかどうかを指定します。デフォルトは false で、保存することはできませんが、一時的にマップなどに表示することはできます。結果をデータベースなどに保存する場合は、このパラメーターを true に設定する必要があります。\n",
    "\n",
    "for_storage パラメーターに true の値を指定してリクエストを行わない限り、ジオコーディングトランザクションの結果を保存することは契約上禁止されています。\n",
    "\n",
    "ArcGIS Online サービス クレジットは、値が true の for_storage パラメーターを含むジオコード トランザクションごとに組織アカウントから差し引かれます。クレジットの詳細については、<a href=\"https://www.esri.com/en-us/arcgis/products/credits/overview?rmedium=esri_com_redirects01&rsource=https://www.esri.com/en-us/arcgis/products/arcgis-online/pricing/credits\">ArcGIS Online Credits (英語)</a> や<a href=\"https://www.esrij.com/products/arcgis-online/credits/\">クレジット</a>を参照してください。\n",
    "\n",
    "\n",
    "無料/有料でのジオコーディング操作の詳細については、<a href=\"https://developers.arcgis.com/rest/geocode/api-reference/geocoding-free-vs-paid.htm\">Free vs. paid operations</a> を参照してください。\n",
    "\n",
    "・例:\n",
    "<code>\n",
    "for_storage=True\n",
    "</code>"
   ]
  },
  {
   "cell_type": "code",
   "execution_count": null,
   "metadata": {},
   "outputs": [],
   "source": []
  }
 ],
 "metadata": {
  "kernelspec": {
   "display_name": "Python 3",
   "language": "python",
   "name": "python3"
  },
  "language_info": {
   "codemirror_mode": {
    "name": "ipython",
    "version": 3
   },
   "file_extension": ".py",
   "mimetype": "text/x-python",
   "name": "python",
   "nbconvert_exporter": "python",
   "pygments_lexer": "ipython3",
   "version": "3.6.9"
  }
 },
 "nbformat": 4,
 "nbformat_minor": 1
}
